{
 "cells": [
  {
   "cell_type": "code",
   "execution_count": 1,
   "id": "e5fadfcd",
   "metadata": {},
   "outputs": [
    {
     "name": "stdout",
     "output_type": "stream",
     "text": [
      "2.11.0\n"
     ]
    }
   ],
   "source": [
    "import tensorflow as tf\n",
    "print(tf.__version__)"
   ]
  },
  {
   "cell_type": "code",
   "execution_count": 2,
   "id": "58bf52db",
   "metadata": {},
   "outputs": [],
   "source": [
    "## Create data to view and fit\n",
    "import numpy as np\n",
    "import pandas as pd\n",
    "import matplotlib.pyplot as plt"
   ]
  },
  {
   "cell_type": "code",
   "execution_count": 3,
   "id": "91cc1423",
   "metadata": {},
   "outputs": [
    {
     "data": {
      "text/plain": [
       "<tf.Tensor: shape=(50,), dtype=int32, numpy=\n",
       "array([-100,  -96,  -92,  -88,  -84,  -80,  -76,  -72,  -68,  -64,  -60,\n",
       "        -56,  -52,  -48,  -44,  -40,  -36,  -32,  -28,  -24,  -20,  -16,\n",
       "        -12,   -8,   -4,    0,    4,    8,   12,   16,   20,   24,   28,\n",
       "         32,   36,   40,   44,   48,   52,   56,   60,   64,   68,   72,\n",
       "         76,   80,   84,   88,   92,   96])>"
      ]
     },
     "execution_count": 3,
     "metadata": {},
     "output_type": "execute_result"
    }
   ],
   "source": [
    "# Make a bigger dataset\n",
    "X = tf.range(-100, 100, 4)\n",
    "X"
   ]
  },
  {
   "cell_type": "code",
   "execution_count": 4,
   "id": "c31b2c0e",
   "metadata": {},
   "outputs": [
    {
     "data": {
      "text/plain": [
       "<tf.Tensor: shape=(50,), dtype=int32, numpy=\n",
       "array([-90, -86, -82, -78, -74, -70, -66, -62, -58, -54, -50, -46, -42,\n",
       "       -38, -34, -30, -26, -22, -18, -14, -10,  -6,  -2,   2,   6,  10,\n",
       "        14,  18,  22,  26,  30,  34,  38,  42,  46,  50,  54,  58,  62,\n",
       "        66,  70,  74,  78,  82,  86,  90,  94,  98, 102, 106])>"
      ]
     },
     "execution_count": 4,
     "metadata": {},
     "output_type": "execute_result"
    }
   ],
   "source": [
    "# Make labels for the dataset\n",
    "y = X + 10\n",
    "y"
   ]
  },
  {
   "cell_type": "code",
   "execution_count": 5,
   "id": "178e156e",
   "metadata": {},
   "outputs": [
    {
     "data": {
      "text/plain": [
       "(40, 10, 40, 10)"
      ]
     },
     "execution_count": 5,
     "metadata": {},
     "output_type": "execute_result"
    }
   ],
   "source": [
    "# Split the data into train and test sets\n",
    "\n",
    "X_train = X[:40] # first 40 are training samples (80% of the data)\n",
    "y_train = y[:40]\n",
    "\n",
    "X_test = X[40:] # last 10 are testing samples (20% of the data)\n",
    "y_test = y[40:]\n",
    "\n",
    "len(X_train), len(X_test), len(y_train), len(y_test)"
   ]
  },
  {
   "cell_type": "code",
   "execution_count": 23,
   "id": "c9af1ff8",
   "metadata": {},
   "outputs": [],
   "source": [
    "def mae(y_true, y_pred):\n",
    "    return tf.metrics.mean_absolute_error(y_true = y_true, y_pred = tf.squeeze(y_pred))\n",
    "\n",
    "def mse(y_true, y_pred):\n",
    "    return tf.metrics.mean_squared_error(y_true = y_true, y_pred = tf.squeeze(y_pred))"
   ]
  },
  {
   "cell_type": "markdown",
   "id": "331593f4",
   "metadata": {},
   "source": [
    "### SETTING UP TF MODELLING EXPERIMENTS"
   ]
  },
  {
   "cell_type": "markdown",
   "id": "9e747c38",
   "metadata": {},
   "source": [
    "#### Running experiments to improve our model\n",
    "\n",
    "```\n",
    "Build a model -> fit it -> evaluate it -> tweak it -> fit it -> evaluate it -> tweak it -> fit it -> evaluate it...\n",
    "```\n",
    "\n",
    "1. Get more data - get more examples for you model to train on (more opportunities to learn patterns or relationships between features and labels)\n",
    "2. Make your model larger (using more complex model) - this might come in the form of more layers or more hidden units in each layer.\n",
    "3. Train for longer - give your model more of a chance to find patterns in the data.\n",
    "\n",
    "Let's do 3 modelling experiments:\n",
    "\n",
    "1. `model_1` - same as the original model, 1 layer, trained for 100 epochs\n",
    "2. `model_2` - 2 layers, trained for 100 epochs\n",
    "3. `model_3` - 2 layers, trained for 500 epochs\n",
    "\n",
    "**Build `model_1`**"
   ]
  },
  {
   "cell_type": "code",
   "execution_count": 9,
   "id": "ee9dcee3",
   "metadata": {},
   "outputs": [
    {
     "data": {
      "text/plain": [
       "(<tf.Tensor: shape=(40,), dtype=int32, numpy=\n",
       " array([-100,  -96,  -92,  -88,  -84,  -80,  -76,  -72,  -68,  -64,  -60,\n",
       "         -56,  -52,  -48,  -44,  -40,  -36,  -32,  -28,  -24,  -20,  -16,\n",
       "         -12,   -8,   -4,    0,    4,    8,   12,   16,   20,   24,   28,\n",
       "          32,   36,   40,   44,   48,   52,   56])>,\n",
       " <tf.Tensor: shape=(40,), dtype=int32, numpy=\n",
       " array([-90, -86, -82, -78, -74, -70, -66, -62, -58, -54, -50, -46, -42,\n",
       "        -38, -34, -30, -26, -22, -18, -14, -10,  -6,  -2,   2,   6,  10,\n",
       "         14,  18,  22,  26,  30,  34,  38,  42,  46,  50,  54,  58,  62,\n",
       "         66])>)"
      ]
     },
     "execution_count": 9,
     "metadata": {},
     "output_type": "execute_result"
    }
   ],
   "source": [
    "X_train, y_train"
   ]
  },
  {
   "cell_type": "code",
   "execution_count": 12,
   "id": "dee31052",
   "metadata": {},
   "outputs": [
    {
     "name": "stdout",
     "output_type": "stream",
     "text": [
      "Epoch 1/100\n",
      "2/2 [==============================] - 1s 16ms/step - loss: 23.2536 - mae: 23.2536\n",
      "Epoch 2/100\n",
      "2/2 [==============================] - 0s 0s/step - loss: 10.8452 - mae: 10.8452\n",
      "Epoch 3/100\n",
      "2/2 [==============================] - 0s 12ms/step - loss: 16.3575 - mae: 16.3575\n",
      "Epoch 4/100\n",
      "2/2 [==============================] - 0s 0s/step - loss: 8.7259 - mae: 8.7259\n",
      "Epoch 5/100\n",
      "2/2 [==============================] - 0s 16ms/step - loss: 10.8001 - mae: 10.8001\n",
      "Epoch 6/100\n",
      "2/2 [==============================] - 0s 0s/step - loss: 9.9872 - mae: 9.9872\n",
      "Epoch 7/100\n",
      "2/2 [==============================] - 0s 16ms/step - loss: 9.0363 - mae: 9.0363\n",
      "Epoch 8/100\n",
      "2/2 [==============================] - 0s 0s/step - loss: 9.0862 - mae: 9.0862\n",
      "Epoch 9/100\n",
      "2/2 [==============================] - 0s 16ms/step - loss: 19.9127 - mae: 19.9127\n",
      "Epoch 10/100\n",
      "2/2 [==============================] - 0s 16ms/step - loss: 10.7621 - mae: 10.7621\n",
      "Epoch 11/100\n",
      "2/2 [==============================] - 0s 0s/step - loss: 8.6630 - mae: 8.6630\n",
      "Epoch 12/100\n",
      "2/2 [==============================] - 0s 15ms/step - loss: 9.6478 - mae: 9.6478\n",
      "Epoch 13/100\n",
      "2/2 [==============================] - 0s 16ms/step - loss: 12.9972 - mae: 12.9972\n",
      "Epoch 14/100\n",
      "2/2 [==============================] - 0s 16ms/step - loss: 14.1897 - mae: 14.1897\n",
      "Epoch 15/100\n",
      "2/2 [==============================] - 0s 0s/step - loss: 11.5930 - mae: 11.5930\n",
      "Epoch 16/100\n",
      "2/2 [==============================] - 0s 9ms/step - loss: 8.4888 - mae: 8.4888\n",
      "Epoch 17/100\n",
      "2/2 [==============================] - 0s 0s/step - loss: 13.5133 - mae: 13.5133\n",
      "Epoch 18/100\n",
      "2/2 [==============================] - 0s 16ms/step - loss: 11.3101 - mae: 11.3101\n",
      "Epoch 19/100\n",
      "2/2 [==============================] - 0s 16ms/step - loss: 18.1076 - mae: 18.1076\n",
      "Epoch 20/100\n",
      "2/2 [==============================] - 0s 16ms/step - loss: 15.2408 - mae: 15.2408\n",
      "Epoch 21/100\n",
      "2/2 [==============================] - 0s 0s/step - loss: 11.1820 - mae: 11.1820\n",
      "Epoch 22/100\n",
      "2/2 [==============================] - 0s 16ms/step - loss: 8.3254 - mae: 8.3254\n",
      "Epoch 23/100\n",
      "2/2 [==============================] - 0s 0s/step - loss: 9.9557 - mae: 9.9557\n",
      "Epoch 24/100\n",
      "2/2 [==============================] - 0s 0s/step - loss: 15.7634 - mae: 15.7634\n",
      "Epoch 25/100\n",
      "2/2 [==============================] - 0s 19ms/step - loss: 12.1936 - mae: 12.1936\n",
      "Epoch 26/100\n",
      "2/2 [==============================] - 0s 13ms/step - loss: 13.3324 - mae: 13.3324\n",
      "Epoch 27/100\n",
      "2/2 [==============================] - 0s 0s/step - loss: 10.7607 - mae: 10.7607\n",
      "Epoch 28/100\n",
      "2/2 [==============================] - 0s 16ms/step - loss: 13.0321 - mae: 13.0321\n",
      "Epoch 29/100\n",
      "2/2 [==============================] - 0s 0s/step - loss: 9.5424 - mae: 9.5424\n",
      "Epoch 30/100\n",
      "2/2 [==============================] - 0s 7ms/step - loss: 16.6362 - mae: 16.6362\n",
      "Epoch 31/100\n",
      "2/2 [==============================] - 0s 0s/step - loss: 23.3782 - mae: 23.3782\n",
      "Epoch 32/100\n",
      "2/2 [==============================] - 0s 16ms/step - loss: 7.3657 - mae: 7.3657\n",
      "Epoch 33/100\n",
      "2/2 [==============================] - 0s 16ms/step - loss: 9.7770 - mae: 9.7770\n",
      "Epoch 34/100\n",
      "2/2 [==============================] - 0s 0s/step - loss: 12.1957 - mae: 12.1957\n",
      "Epoch 35/100\n",
      "2/2 [==============================] - 0s 16ms/step - loss: 11.2048 - mae: 11.2048\n",
      "Epoch 36/100\n",
      "2/2 [==============================] - 0s 16ms/step - loss: 13.4728 - mae: 13.4728\n",
      "Epoch 37/100\n",
      "2/2 [==============================] - 0s 0s/step - loss: 9.4198 - mae: 9.4198\n",
      "Epoch 38/100\n",
      "2/2 [==============================] - 0s 16ms/step - loss: 10.0678 - mae: 10.0678\n",
      "Epoch 39/100\n",
      "2/2 [==============================] - 0s 16ms/step - loss: 8.9486 - mae: 8.9486\n",
      "Epoch 40/100\n",
      "2/2 [==============================] - 0s 10ms/step - loss: 9.5731 - mae: 9.5731\n",
      "Epoch 41/100\n",
      "2/2 [==============================] - 0s 16ms/step - loss: 10.5290 - mae: 10.5290\n",
      "Epoch 42/100\n",
      "2/2 [==============================] - 0s 0s/step - loss: 10.5765 - mae: 10.5765\n",
      "Epoch 43/100\n",
      "2/2 [==============================] - 0s 0s/step - loss: 7.5534 - mae: 7.5534\n",
      "Epoch 44/100\n",
      "2/2 [==============================] - 0s 16ms/step - loss: 18.6385 - mae: 18.6385\n",
      "Epoch 45/100\n",
      "2/2 [==============================] - 0s 16ms/step - loss: 14.4734 - mae: 14.4734\n",
      "Epoch 46/100\n",
      "2/2 [==============================] - 0s 16ms/step - loss: 9.1760 - mae: 9.1760\n",
      "Epoch 47/100\n",
      "2/2 [==============================] - 0s 16ms/step - loss: 9.6632 - mae: 9.6632\n",
      "Epoch 48/100\n",
      "2/2 [==============================] - 0s 16ms/step - loss: 11.4144 - mae: 11.4144\n",
      "Epoch 49/100\n",
      "2/2 [==============================] - 0s 0s/step - loss: 8.2120 - mae: 8.2120\n",
      "Epoch 50/100\n",
      "2/2 [==============================] - 0s 0s/step - loss: 10.2677 - mae: 10.2677\n",
      "Epoch 51/100\n",
      "2/2 [==============================] - 0s 0s/step - loss: 9.3457 - mae: 9.3457\n",
      "Epoch 52/100\n",
      "2/2 [==============================] - 0s 0s/step - loss: 14.0182 - mae: 14.0182\n",
      "Epoch 53/100\n",
      "2/2 [==============================] - 0s 0s/step - loss: 15.0578 - mae: 15.0578\n",
      "Epoch 54/100\n",
      "2/2 [==============================] - 0s 16ms/step - loss: 14.6477 - mae: 14.6477\n",
      "Epoch 55/100\n",
      "2/2 [==============================] - 0s 16ms/step - loss: 19.4827 - mae: 19.4827\n",
      "Epoch 56/100\n",
      "2/2 [==============================] - 0s 9ms/step - loss: 10.9261 - mae: 10.9261\n",
      "Epoch 57/100\n",
      "2/2 [==============================] - 0s 16ms/step - loss: 12.6588 - mae: 12.6588\n",
      "Epoch 58/100\n",
      "2/2 [==============================] - 0s 16ms/step - loss: 8.0751 - mae: 8.0751\n",
      "Epoch 59/100\n",
      "2/2 [==============================] - 0s 0s/step - loss: 12.0203 - mae: 12.0203\n",
      "Epoch 60/100\n",
      "2/2 [==============================] - 0s 16ms/step - loss: 8.9156 - mae: 8.9156\n",
      "Epoch 61/100\n",
      "2/2 [==============================] - 0s 1ms/step - loss: 10.3265 - mae: 10.3265\n",
      "Epoch 62/100\n",
      "2/2 [==============================] - 0s 0s/step - loss: 9.4610 - mae: 9.4610\n",
      "Epoch 63/100\n",
      "2/2 [==============================] - 0s 16ms/step - loss: 8.1971 - mae: 8.1971\n",
      "Epoch 64/100\n",
      "2/2 [==============================] - 0s 0s/step - loss: 12.6222 - mae: 12.6222\n",
      "Epoch 65/100\n",
      "2/2 [==============================] - 0s 16ms/step - loss: 10.7072 - mae: 10.7072\n",
      "Epoch 66/100\n",
      "2/2 [==============================] - 0s 11ms/step - loss: 15.3441 - mae: 15.3441\n",
      "Epoch 67/100\n",
      "2/2 [==============================] - 0s 16ms/step - loss: 9.8154 - mae: 9.8154\n",
      "Epoch 68/100\n",
      "2/2 [==============================] - 0s 0s/step - loss: 8.6329 - mae: 8.6329\n",
      "Epoch 69/100\n",
      "2/2 [==============================] - 0s 16ms/step - loss: 13.2153 - mae: 13.2153\n",
      "Epoch 70/100\n",
      "2/2 [==============================] - 0s 0s/step - loss: 7.8613 - mae: 7.8613\n",
      "Epoch 71/100\n",
      "2/2 [==============================] - 0s 16ms/step - loss: 11.4109 - mae: 11.4109\n",
      "Epoch 72/100\n",
      "2/2 [==============================] - 0s 16ms/step - loss: 9.5825 - mae: 9.5825\n",
      "Epoch 73/100\n",
      "2/2 [==============================] - 0s 0s/step - loss: 11.7219 - mae: 11.7219\n",
      "Epoch 74/100\n",
      "2/2 [==============================] - 0s 18ms/step - loss: 10.6507 - mae: 10.6507\n",
      "Epoch 75/100\n",
      "2/2 [==============================] - 0s 14ms/step - loss: 9.5868 - mae: 9.5868\n",
      "Epoch 76/100\n",
      "2/2 [==============================] - 0s 0s/step - loss: 11.0394 - mae: 11.0394\n",
      "Epoch 77/100\n",
      "2/2 [==============================] - 0s 16ms/step - loss: 11.1316 - mae: 11.1316\n",
      "Epoch 78/100\n",
      "2/2 [==============================] - 0s 0s/step - loss: 11.5307 - mae: 11.5307\n",
      "Epoch 79/100\n",
      "2/2 [==============================] - 0s 8ms/step - loss: 15.5261 - mae: 15.5261\n",
      "Epoch 80/100\n",
      "2/2 [==============================] - 0s 16ms/step - loss: 11.6294 - mae: 11.6294\n",
      "Epoch 81/100\n",
      "2/2 [==============================] - 0s 0s/step - loss: 9.3878 - mae: 9.3878\n",
      "Epoch 82/100\n",
      "2/2 [==============================] - 0s 0s/step - loss: 12.6250 - mae: 12.6250\n",
      "Epoch 83/100\n",
      "2/2 [==============================] - 0s 16ms/step - loss: 8.2058 - mae: 8.2058\n",
      "Epoch 84/100\n",
      "2/2 [==============================] - 0s 0s/step - loss: 7.3281 - mae: 7.3281\n",
      "Epoch 85/100\n",
      "2/2 [==============================] - 0s 0s/step - loss: 10.5594 - mae: 10.5594\n",
      "Epoch 86/100\n",
      "2/2 [==============================] - 0s 16ms/step - loss: 9.1942 - mae: 9.1942\n",
      "Epoch 87/100\n"
     ]
    },
    {
     "name": "stdout",
     "output_type": "stream",
     "text": [
      "2/2 [==============================] - 0s 0s/step - loss: 11.9508 - mae: 11.9508\n",
      "Epoch 88/100\n",
      "2/2 [==============================] - 0s 16ms/step - loss: 10.5641 - mae: 10.5641\n",
      "Epoch 89/100\n",
      "2/2 [==============================] - 0s 12ms/step - loss: 7.2415 - mae: 7.2415\n",
      "Epoch 90/100\n",
      "2/2 [==============================] - 0s 0s/step - loss: 12.6973 - mae: 12.6973\n",
      "Epoch 91/100\n",
      "2/2 [==============================] - 0s 16ms/step - loss: 7.3043 - mae: 7.3043\n",
      "Epoch 92/100\n",
      "2/2 [==============================] - 0s 16ms/step - loss: 7.6680 - mae: 7.6680\n",
      "Epoch 93/100\n",
      "2/2 [==============================] - 0s 0s/step - loss: 7.1060 - mae: 7.1060\n",
      "Epoch 94/100\n",
      "2/2 [==============================] - 0s 16ms/step - loss: 12.5437 - mae: 12.5437\n",
      "Epoch 95/100\n",
      "2/2 [==============================] - 0s 16ms/step - loss: 9.9176 - mae: 9.9176\n",
      "Epoch 96/100\n",
      "2/2 [==============================] - 0s 0s/step - loss: 9.1247 - mae: 9.1247\n",
      "Epoch 97/100\n",
      "2/2 [==============================] - 0s 16ms/step - loss: 12.0660 - mae: 12.0660\n",
      "Epoch 98/100\n",
      "2/2 [==============================] - 0s 17ms/step - loss: 9.0645 - mae: 9.0645\n",
      "Epoch 99/100\n",
      "2/2 [==============================] - 0s 0s/step - loss: 8.4845 - mae: 8.4845\n",
      "Epoch 100/100\n",
      "2/2 [==============================] - 0s 0s/step - loss: 14.4437 - mae: 14.4437\n"
     ]
    },
    {
     "data": {
      "text/plain": [
       "<keras.callbacks.History at 0x1ec443fc160>"
      ]
     },
     "execution_count": 12,
     "metadata": {},
     "output_type": "execute_result"
    }
   ],
   "source": [
    "# Set random seed\n",
    "tf.random.set_seed(42)\n",
    "\n",
    "# 1. Create a model\n",
    "model_1 = tf.keras.Sequential([\n",
    "    tf.keras.layers.Dense(1)\n",
    "])\n",
    "\n",
    "# 2. Compile a model\n",
    "model_1.compile(loss = tf.keras.losses.mae,\n",
    "               optimizer = tf.keras.optimizers.SGD(),\n",
    "               metrics = [\"mae\"])\n",
    "\n",
    "# 3. Fit the model\n",
    "model_1.fit(tf.expand_dims(X_train, axis = -1), y_train, epochs = 100)"
   ]
  },
  {
   "cell_type": "code",
   "execution_count": 14,
   "id": "f410d7a3",
   "metadata": {},
   "outputs": [
    {
     "name": "stdout",
     "output_type": "stream",
     "text": [
      "1/1 [==============================] - 0s 173ms/step\n"
     ]
    }
   ],
   "source": [
    "# Make and plot predictions for model_1\n",
    "y_preds_1 = model_1.predict(X_test)"
   ]
  },
  {
   "cell_type": "code",
   "execution_count": 18,
   "id": "19346ea1",
   "metadata": {},
   "outputs": [],
   "source": [
    "# Let's create a plotting function\n",
    "\n",
    "def plot_predictions(train_data = X_train, train_labels = y_train,\n",
    "                    test_data = X_test, test_labels = y_test,\n",
    "                    predictions = y_preds_1):\n",
    "    \"\"\"\n",
    "    Plots training datam test data and compares predictions to ground truth labels.\n",
    "    \"\"\"\n",
    "    \n",
    "    plt.figure(figsize = (10, 7))\n",
    "    \n",
    "    # Plot training data in blue\n",
    "    plt.scatter(train_data, train_labels, c = \"b\", label = \"Training data\")\n",
    "    \n",
    "    # Plot testing data in green\n",
    "    plt.scatter(test_data, test_labels, c = \"g\", label = \"Testing data\")\n",
    "    \n",
    "    # Plot model's predictions in red\n",
    "    plt.scatter(test_data, predictions, c = \"r\", label = \"Predictions\")\n",
    "    \n",
    "    #show the legend\n",
    "    plt.legend();"
   ]
  },
  {
   "cell_type": "code",
   "execution_count": 19,
   "id": "e1a619b7",
   "metadata": {},
   "outputs": [
    {
     "data": {
      "image/png": "[encoded data removed]",
      "text/plain": [
       "<Figure size 1000x700 with 1 Axes>"
      ]
     },
     "metadata": {},
     "output_type": "display_data"
    }
   ],
   "source": [
    "plot_predictions(predictions = y_preds_1)"
   ]
  },
  {
   "cell_type": "code",
   "execution_count": 22,
   "id": "a58fab45",
   "metadata": {},
   "outputs": [
    {
     "data": {
      "text/plain": [
       "(<tf.Tensor: shape=(10, 1), dtype=float32, numpy=\n",
       " array([[44.461887],\n",
       "        [47.338306],\n",
       "        [50.214725],\n",
       "        [53.09114 ],\n",
       "        [55.96756 ],\n",
       "        [58.843975],\n",
       "        [61.720394],\n",
       "        [64.59682 ],\n",
       "        [67.473236],\n",
       "        [70.349655]], dtype=float32)>,\n",
       " <tf.Tensor: shape=(10,), dtype=float32, numpy=\n",
       " array([44.461887, 47.338306, 50.214725, 53.09114 , 55.96756 , 58.843975,\n",
       "        61.720394, 64.59682 , 67.473236, 70.349655], dtype=float32)>)"
      ]
     },
     "execution_count": 22,
     "metadata": {},
     "output_type": "execute_result"
    }
   ],
   "source": [
    "tf.constant(y_preds_1), tf.squeeze(y_preds_1)"
   ]
  },
  {
   "cell_type": "code",
   "execution_count": 24,
   "id": "7a15f260",
   "metadata": {},
   "outputs": [
    {
     "data": {
      "text/plain": [
       "(<tf.Tensor: shape=(), dtype=float32, numpy=30.594233>,\n",
       " <tf.Tensor: shape=(), dtype=float32, numpy=946.42206>)"
      ]
     },
     "execution_count": 24,
     "metadata": {},
     "output_type": "execute_result"
    }
   ],
   "source": [
    "# Calculate model_1 evaluation metrics\n",
    "mae_1 = mae(y_test, y_preds_1)\n",
    "mse_1 = mse(y_test, y_preds_1)\n",
    "\n",
    "mae_1, mse_1"
   ]
  },
  {
   "cell_type": "markdown",
   "id": "dd8523b0",
   "metadata": {},
   "source": [
    "**Build `model_2`**\n",
    "\n",
    "* 2 dense layers, trained for 100 epochs"
   ]
  },
  {
   "cell_type": "code",
   "execution_count": null,
   "id": "7222f2c2",
   "metadata": {},
   "outputs": [],
   "source": []
  },
  {
   "cell_type": "code",
   "execution_count": null,
   "id": "8b19ca22",
   "metadata": {},
   "outputs": [],
   "source": []
  },
  {
   "cell_type": "code",
   "execution_count": null,
   "id": "b53688f9",
   "metadata": {},
   "outputs": [],
   "source": []
  },
  {
   "cell_type": "code",
   "execution_count": null,
   "id": "9bf64f69",
   "metadata": {},
   "outputs": [],
   "source": []
  },
  {
   "cell_type": "code",
   "execution_count": null,
   "id": "6bc76102",
   "metadata": {},
   "outputs": [],
   "source": []
  },
  {
   "cell_type": "code",
   "execution_count": null,
   "id": "e343ddb0",
   "metadata": {},
   "outputs": [],
   "source": []
  },
  {
   "cell_type": "code",
   "execution_count": null,
   "id": "6385828a",
   "metadata": {},
   "outputs": [],
   "source": []
  }
 ],
 "metadata": {
  "kernelspec": {
   "display_name": "Python 3 (ipykernel)",
   "language": "python",
   "name": "python3"
  },
  "language_info": {
   "codemirror_mode": {
    "name": "ipython",
    "version": 3
   },
   "file_extension": ".py",
   "mimetype": "text/x-python",
   "name": "python",
   "nbconvert_exporter": "python",
   "pygments_lexer": "ipython3",
   "version": "3.9.13"
  }
 },
 "nbformat": 4,
 "nbformat_minor": 5
}
