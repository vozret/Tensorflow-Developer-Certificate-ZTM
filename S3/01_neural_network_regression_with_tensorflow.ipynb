{
 "cells": [
  {
   "cell_type": "markdown",
   "metadata": {},
   "source": [
    "# Introduction to Regression with Neural Networks in TensorFlow\n",
    "\n",
    "Predicting a numerical variable based on some other combination of vairables."
   ]
  },
  {
   "cell_type": "code",
   "execution_count": 1,
   "metadata": {},
   "outputs": [
    {
     "name": "stdout",
     "output_type": "stream",
     "text": [
      "2.9.1\n"
     ]
    }
   ],
   "source": [
    "import tensorflow as tf\n",
    "print(tf.__version__)"
   ]
  },
  {
   "cell_type": "code",
   "execution_count": 2,
   "metadata": {},
   "outputs": [],
   "source": [
    "## Create data to view and fit\n",
    "import numpy as np\n",
    "import pandas as pd\n",
    "import matplotlib.pyplot as plt"
   ]
  },
  {
   "cell_type": "code",
   "execution_count": 3,
   "metadata": {},
   "outputs": [
    {
     "data": {
      "text/plain": [
       "<matplotlib.collections.PathCollection at 0x179ad376080>"
      ]
     },
     "execution_count": 3,
     "metadata": {},
     "output_type": "execute_result"
    },
    {
     "data": {
      "image/png": "[encoded data removed]",
      "text/plain": [
       "<Figure size 432x288 with 1 Axes>"
      ]
     },
     "metadata": {
      "needs_background": "light"
     },
     "output_type": "display_data"
    }
   ],
   "source": [
    "# create features\n",
    "X = np.array([-7., -4., -1., 2., 5., 8., 11., 14.])\n",
    "\n",
    "# create labels\n",
    "y = np.array([3., 6., 9., 12., 15., 18., 21., 24.])\n",
    "\n",
    "#visualize\n",
    "plt.scatter(X, y)"
   ]
  },
  {
   "cell_type": "code",
   "execution_count": 4,
   "metadata": {},
   "outputs": [
    {
     "data": {
      "text/plain": [
       "array([ 3.,  6.,  9., 12., 15., 18., 21., 24.])"
      ]
     },
     "execution_count": 4,
     "metadata": {},
     "output_type": "execute_result"
    }
   ],
   "source": [
    "X + 10"
   ]
  },
  {
   "cell_type": "code",
   "execution_count": 5,
   "metadata": {},
   "outputs": [
    {
     "data": {
      "text/plain": [
       "array([ True,  True,  True,  True,  True,  True,  True,  True])"
      ]
     },
     "execution_count": 5,
     "metadata": {},
     "output_type": "execute_result"
    }
   ],
   "source": [
    "# function we want our nn to learn\n",
    "y == X + 10"
   ]
  },
  {
   "cell_type": "markdown",
   "metadata": {},
   "source": [
    "### input and output shapes"
   ]
  },
  {
   "cell_type": "code",
   "execution_count": 6,
   "metadata": {},
   "outputs": [
    {
     "data": {
      "text/plain": [
       "(<tf.Tensor: shape=(3,), dtype=string, numpy=array([b'bedroom', b'bathroom', b'garage'], dtype=object)>,\n",
       " <tf.Tensor: shape=(1,), dtype=int32, numpy=array([939700])>)"
      ]
     },
     "execution_count": 6,
     "metadata": {},
     "output_type": "execute_result"
    }
   ],
   "source": [
    "# Create a demo tensor for our housing price prediction problem\n",
    "\n",
    "house_info = tf.constant([\"bedroom\", \"bathroom\", \"garage\"])\n",
    "house_price = tf.constant([939700])\n",
    "\n",
    "house_info, house_price"
   ]
  },
  {
   "cell_type": "code",
   "execution_count": 7,
   "metadata": {},
   "outputs": [
    {
     "data": {
      "text/plain": [
       "(-7.0, 3.0)"
      ]
     },
     "execution_count": 7,
     "metadata": {},
     "output_type": "execute_result"
    }
   ],
   "source": [
    "X[0], y[0]"
   ]
  },
  {
   "cell_type": "code",
   "execution_count": 8,
   "metadata": {},
   "outputs": [
    {
     "data": {
      "text/plain": [
       "(-4.0, 6.0)"
      ]
     },
     "execution_count": 8,
     "metadata": {},
     "output_type": "execute_result"
    }
   ],
   "source": [
    "X[1], y[1]"
   ]
  },
  {
   "cell_type": "code",
   "execution_count": 9,
   "metadata": {},
   "outputs": [
    {
     "data": {
      "text/plain": [
       "((8,), (8,))"
      ]
     },
     "execution_count": 9,
     "metadata": {},
     "output_type": "execute_result"
    }
   ],
   "source": [
    "input_shape = X.shape\n",
    "output_shape = y.shape\n",
    "\n",
    "input_shape, output_shape"
   ]
  },
  {
   "cell_type": "code",
   "execution_count": 10,
   "metadata": {},
   "outputs": [
    {
     "data": {
      "text/plain": [
       "((), ())"
      ]
     },
     "execution_count": 10,
     "metadata": {},
     "output_type": "execute_result"
    }
   ],
   "source": [
    "input_shape = X[0].shape\n",
    "output_shape = y[0].shape\n",
    "\n",
    "input_shape, output_shape"
   ]
  },
  {
   "cell_type": "code",
   "execution_count": 11,
   "metadata": {},
   "outputs": [
    {
     "data": {
      "text/plain": [
       "0"
      ]
     },
     "execution_count": 11,
     "metadata": {},
     "output_type": "execute_result"
    }
   ],
   "source": [
    "X[0].ndim"
   ]
  },
  {
   "cell_type": "code",
   "execution_count": 12,
   "metadata": {},
   "outputs": [
    {
     "data": {
      "text/plain": [
       "(-7.0, 3.0)"
      ]
     },
     "execution_count": 12,
     "metadata": {},
     "output_type": "execute_result"
    }
   ],
   "source": [
    "X[0], y[0]"
   ]
  },
  {
   "cell_type": "code",
   "execution_count": 13,
   "metadata": {},
   "outputs": [
    {
     "data": {
      "text/plain": [
       "(<tf.Tensor: shape=(8,), dtype=float64, numpy=array([-7., -4., -1.,  2.,  5.,  8., 11., 14.])>,\n",
       " <tf.Tensor: shape=(8,), dtype=float64, numpy=array([ 3.,  6.,  9., 12., 15., 18., 21., 24.])>)"
      ]
     },
     "execution_count": 13,
     "metadata": {},
     "output_type": "execute_result"
    }
   ],
   "source": [
    "# Turn our numpy arrays into tensors\n",
    "\n",
    "X = tf.constant(X)\n",
    "y = tf.constant(y)\n",
    "\n",
    "X, y"
   ]
  },
  {
   "cell_type": "code",
   "execution_count": 14,
   "metadata": {},
   "outputs": [
    {
     "data": {
      "text/plain": [
       "(TensorShape([]), TensorShape([]))"
      ]
     },
     "execution_count": 14,
     "metadata": {},
     "output_type": "execute_result"
    }
   ],
   "source": [
    "input_shape = X[0].shape\n",
    "output_shape = y[0].shape\n",
    "\n",
    "input_shape, output_shape"
   ]
  },
  {
   "cell_type": "code",
   "execution_count": 20,
   "metadata": {},
   "outputs": [
    {
     "data": {
      "text/plain": [
       "<matplotlib.collections.PathCollection at 0x179af833eb0>"
      ]
     },
     "execution_count": 20,
     "metadata": {},
     "output_type": "execute_result"
    },
    {
     "data": {
      "image/png": "[encoded data removed]",
      "text/plain": [
       "<Figure size 432x288 with 1 Axes>"
      ]
     },
     "metadata": {
      "needs_background": "light"
     },
     "output_type": "display_data"
    }
   ],
   "source": [
    "plt.scatter(X, y)"
   ]
  },
  {
   "cell_type": "markdown",
   "metadata": {},
   "source": [
    "## Steps in modelling with TensorFlow\n",
    "\n",
    "1. Creating a model - define the input and output layers, as weel as the hidden layers of a deep learning model\n",
    "2. Compiling a model - define the loss function (in other words, the function which tells our model how wrong it is) and the optimizer (tells our model how to improve the patterns its learning) and evaluation metrics (what we can use to interpret the performance of our model)\n",
    "3. Fitting a model - letting a model try to find patterns between X & y (features and labels)"
   ]
  },
  {
   "cell_type": "code",
   "execution_count": 22,
   "metadata": {},
   "outputs": [
    {
     "name": "stdout",
     "output_type": "stream",
     "text": [
      "Epoch 1/5\n",
      "1/1 [==============================] - 1s 668ms/step - loss: 11.5048 - mae: 11.5048\n",
      "Epoch 2/5\n",
      "1/1 [==============================] - 0s 7ms/step - loss: 11.3723 - mae: 11.3723\n",
      "Epoch 3/5\n",
      "1/1 [==============================] - 0s 10ms/step - loss: 11.2398 - mae: 11.2398\n",
      "Epoch 4/5\n",
      "1/1 [==============================] - 0s 8ms/step - loss: 11.1073 - mae: 11.1073\n",
      "Epoch 5/5\n",
      "1/1 [==============================] - 0s 6ms/step - loss: 10.9748 - mae: 10.9748\n"
     ]
    },
    {
     "data": {
      "text/plain": [
       "<keras.callbacks.History at 0x179af886ec0>"
      ]
     },
     "execution_count": 22,
     "metadata": {},
     "output_type": "execute_result"
    }
   ],
   "source": [
    "# Set random seed\n",
    "tf.random.set_seed(42)\n",
    "\n",
    "# 1. Create a model using Sequential API\n",
    "model = tf.keras.Sequential([\n",
    "    tf.keras.layers.Dense(1) # , input_shape = (1,)\n",
    "])\n",
    "\n",
    "# 2. Compile the model\n",
    "model.compile(loss = tf.keras.losses.mae, # mae -> mean absolute error\n",
    "                optimizer = tf.keras.optimizers.SGD(),\n",
    "                metrics = [\"mae\"]) # SGD -> stochastic gradient descent\n",
    "\n",
    "# 3. Fit the model\n",
    "model.fit(tf.expand_dims(X, axis = -1), y, epochs = 5)"
   ]
  },
  {
   "cell_type": "code",
   "execution_count": 21,
   "metadata": {},
   "outputs": [],
   "source": [
    "# model = tf.keras.Sequential()\n",
    "# model.add(tf.keras.layers.Dense(1))"
   ]
  },
  {
   "cell_type": "code",
   "execution_count": null,
   "metadata": {},
   "outputs": [],
   "source": [
    "# # Optionally, the first layer can receive an 'input_shape' argument:\n",
    "# model = tf.keras.Sequential()\n",
    "# model.add(tf.keras.layers.Dense(8, input_shape = (16,)))\n",
    "# # After, we do automatic shape inference\n",
    "# model.add(tf.keras.layers.Dense(4))"
   ]
  },
  {
   "cell_type": "code",
   "execution_count": 23,
   "metadata": {},
   "outputs": [
    {
     "data": {
      "text/plain": [
       "(<tf.Tensor: shape=(8,), dtype=float32, numpy=array([-7., -4., -1.,  2.,  5.,  8., 11., 14.], dtype=float32)>,\n",
       " <tf.Tensor: shape=(8,), dtype=float32, numpy=array([ 3.,  6.,  9., 12., 15., 18., 21., 24.], dtype=float32)>)"
      ]
     },
     "execution_count": 23,
     "metadata": {},
     "output_type": "execute_result"
    }
   ],
   "source": [
    "# Turn our NumPy arrays into tensors with dtype float32\n",
    "X = tf.cast(tf.constant(X), dtype = tf.float32)\n",
    "y = tf.cast(tf.constant(y), dtype = tf.float32)\n",
    "\n",
    "X, y"
   ]
  },
  {
   "cell_type": "code",
   "execution_count": 24,
   "metadata": {},
   "outputs": [
    {
     "data": {
      "text/plain": [
       "(<tf.Tensor: shape=(8,), dtype=float32, numpy=array([-7., -4., -1.,  2.,  5.,  8., 11., 14.], dtype=float32)>,\n",
       " <tf.Tensor: shape=(8,), dtype=float32, numpy=array([ 3.,  6.,  9., 12., 15., 18., 21., 24.], dtype=float32)>)"
      ]
     },
     "execution_count": 24,
     "metadata": {},
     "output_type": "execute_result"
    }
   ],
   "source": [
    "# Check out X and y\n",
    "X, y"
   ]
  },
  {
   "cell_type": "code",
   "execution_count": 25,
   "metadata": {},
   "outputs": [
    {
     "name": "stdout",
     "output_type": "stream",
     "text": [
      "1/1 [==============================] - 0s 121ms/step\n"
     ]
    },
    {
     "data": {
      "text/plain": [
       "array([[12.716021]], dtype=float32)"
      ]
     },
     "execution_count": 25,
     "metadata": {},
     "output_type": "execute_result"
    }
   ],
   "source": [
    "# try and make a prediction using our model\n",
    "model.predict([17.])"
   ]
  },
  {
   "cell_type": "code",
   "execution_count": 18,
   "metadata": {},
   "outputs": [],
   "source": [
    "# Another version of creating a model\n",
    "\n",
    "# model = tf.keras.Sequential()\n",
    "# model.add(tf.keras.layers.Dense(1))\n"
   ]
  },
  {
   "cell_type": "markdown",
   "metadata": {},
   "source": [
    "## STEPS IN IMPROVING A MODEL\n",
    "\n",
    "We can improve our model by altering the steps we took to create a model.\n",
    "\n",
    "1. **Creating a model** - here, we might add more layers, increase the number of hidden units (neurons) within each of the hidden layers, change the activation function of each layer.\n",
    "2. **Compiling a model** - here we might change the optimization function or perhaps the **learning rate** of the optimization function.\n",
    "3. **Fitting a model** - here we might fit a model for more **epochs** (leave it training for longer) or on more data (give the model more examples to learn from)"
   ]
  },
  {
   "cell_type": "code",
   "execution_count": 29,
   "metadata": {},
   "outputs": [
    {
     "name": "stdout",
     "output_type": "stream",
     "text": [
      "Epoch 1/100\n",
      "1/1 [==============================] - 1s 759ms/step - loss: 11.2219 - mae: 11.2219\n",
      "Epoch 2/100\n",
      "1/1 [==============================] - 0s 8ms/step - loss: 11.0894 - mae: 11.0894\n",
      "Epoch 3/100\n",
      "1/1 [==============================] - 0s 8ms/step - loss: 10.9569 - mae: 10.9569\n",
      "Epoch 4/100\n",
      "1/1 [==============================] - 0s 9ms/step - loss: 10.8244 - mae: 10.8244\n",
      "Epoch 5/100\n",
      "1/1 [==============================] - 0s 7ms/step - loss: 10.6919 - mae: 10.6919\n",
      "Epoch 6/100\n",
      "1/1 [==============================] - 0s 8ms/step - loss: 10.5594 - mae: 10.5594\n",
      "Epoch 7/100\n",
      "1/1 [==============================] - 0s 8ms/step - loss: 10.4269 - mae: 10.4269\n",
      "Epoch 8/100\n",
      "1/1 [==============================] - 0s 13ms/step - loss: 10.2944 - mae: 10.2944\n",
      "Epoch 9/100\n",
      "1/1 [==============================] - 0s 8ms/step - loss: 10.1619 - mae: 10.1619\n",
      "Epoch 10/100\n",
      "1/1 [==============================] - 0s 10ms/step - loss: 10.0294 - mae: 10.0294\n",
      "Epoch 11/100\n",
      "1/1 [==============================] - 0s 7ms/step - loss: 9.8969 - mae: 9.8969\n",
      "Epoch 12/100\n",
      "1/1 [==============================] - 0s 11ms/step - loss: 9.7644 - mae: 9.7644\n",
      "Epoch 13/100\n",
      "1/1 [==============================] - 0s 9ms/step - loss: 9.6319 - mae: 9.6319\n",
      "Epoch 14/100\n",
      "1/1 [==============================] - 0s 6ms/step - loss: 9.4994 - mae: 9.4994\n",
      "Epoch 15/100\n",
      "1/1 [==============================] - 0s 12ms/step - loss: 9.3669 - mae: 9.3669\n",
      "Epoch 16/100\n",
      "1/1 [==============================] - 0s 7ms/step - loss: 9.2344 - mae: 9.2344\n",
      "Epoch 17/100\n",
      "1/1 [==============================] - 0s 9ms/step - loss: 9.1019 - mae: 9.1019\n",
      "Epoch 18/100\n",
      "1/1 [==============================] - 0s 7ms/step - loss: 8.9694 - mae: 8.9694\n",
      "Epoch 19/100\n",
      "1/1 [==============================] - 0s 7ms/step - loss: 8.8369 - mae: 8.8369\n",
      "Epoch 20/100\n",
      "1/1 [==============================] - 0s 9ms/step - loss: 8.7044 - mae: 8.7044\n",
      "Epoch 21/100\n",
      "1/1 [==============================] - 0s 10ms/step - loss: 8.5719 - mae: 8.5719\n",
      "Epoch 22/100\n",
      "1/1 [==============================] - 0s 8ms/step - loss: 8.4394 - mae: 8.4394\n",
      "Epoch 23/100\n",
      "1/1 [==============================] - 0s 3ms/step - loss: 8.3069 - mae: 8.3069\n",
      "Epoch 24/100\n",
      "1/1 [==============================] - 0s 13ms/step - loss: 8.1744 - mae: 8.1744\n",
      "Epoch 25/100\n",
      "1/1 [==============================] - 0s 8ms/step - loss: 8.0419 - mae: 8.0419\n",
      "Epoch 26/100\n",
      "1/1 [==============================] - 0s 8ms/step - loss: 7.9094 - mae: 7.9094\n",
      "Epoch 27/100\n",
      "1/1 [==============================] - 0s 8ms/step - loss: 7.7769 - mae: 7.7769\n",
      "Epoch 28/100\n",
      "1/1 [==============================] - 0s 9ms/step - loss: 7.6444 - mae: 7.6444\n",
      "Epoch 29/100\n",
      "1/1 [==============================] - 0s 9ms/step - loss: 7.5119 - mae: 7.5119\n",
      "Epoch 30/100\n",
      "1/1 [==============================] - 0s 9ms/step - loss: 7.3794 - mae: 7.3794\n",
      "Epoch 31/100\n",
      "1/1 [==============================] - 0s 8ms/step - loss: 7.2750 - mae: 7.2750\n",
      "Epoch 32/100\n",
      "1/1 [==============================] - 0s 9ms/step - loss: 7.2694 - mae: 7.2694\n",
      "Epoch 33/100\n",
      "1/1 [==============================] - 0s 13ms/step - loss: 7.2638 - mae: 7.2638\n",
      "Epoch 34/100\n",
      "1/1 [==============================] - 0s 11ms/step - loss: 7.2581 - mae: 7.2581\n",
      "Epoch 35/100\n",
      "1/1 [==============================] - 0s 8ms/step - loss: 7.2525 - mae: 7.2525\n",
      "Epoch 36/100\n",
      "1/1 [==============================] - 0s 40ms/step - loss: 7.2469 - mae: 7.2469\n",
      "Epoch 37/100\n",
      "1/1 [==============================] - 0s 9ms/step - loss: 7.2412 - mae: 7.2412\n",
      "Epoch 38/100\n",
      "1/1 [==============================] - 0s 9ms/step - loss: 7.2356 - mae: 7.2356\n",
      "Epoch 39/100\n",
      "1/1 [==============================] - 0s 8ms/step - loss: 7.2300 - mae: 7.2300\n",
      "Epoch 40/100\n",
      "1/1 [==============================] - 0s 7ms/step - loss: 7.2244 - mae: 7.2244\n",
      "Epoch 41/100\n",
      "1/1 [==============================] - 0s 9ms/step - loss: 7.2188 - mae: 7.2188\n",
      "Epoch 42/100\n",
      "1/1 [==============================] - 0s 13ms/step - loss: 7.2131 - mae: 7.2131\n",
      "Epoch 43/100\n",
      "1/1 [==============================] - 0s 8ms/step - loss: 7.2075 - mae: 7.2075\n",
      "Epoch 44/100\n",
      "1/1 [==============================] - 0s 10ms/step - loss: 7.2019 - mae: 7.2019\n",
      "Epoch 45/100\n",
      "1/1 [==============================] - 0s 13ms/step - loss: 7.1962 - mae: 7.1962\n",
      "Epoch 46/100\n",
      "1/1 [==============================] - 0s 18ms/step - loss: 7.1906 - mae: 7.1906\n",
      "Epoch 47/100\n",
      "1/1 [==============================] - 0s 13ms/step - loss: 7.1850 - mae: 7.1850\n",
      "Epoch 48/100\n",
      "1/1 [==============================] - 0s 9ms/step - loss: 7.1794 - mae: 7.1794\n",
      "Epoch 49/100\n",
      "1/1 [==============================] - 0s 8ms/step - loss: 7.1737 - mae: 7.1737\n",
      "Epoch 50/100\n",
      "1/1 [==============================] - 0s 83ms/step - loss: 7.1681 - mae: 7.1681\n",
      "Epoch 51/100\n",
      "1/1 [==============================] - 0s 9ms/step - loss: 7.1625 - mae: 7.1625\n",
      "Epoch 52/100\n",
      "1/1 [==============================] - 0s 9ms/step - loss: 7.1569 - mae: 7.1569\n",
      "Epoch 53/100\n",
      "1/1 [==============================] - 0s 51ms/step - loss: 7.1512 - mae: 7.1512\n",
      "Epoch 54/100\n",
      "1/1 [==============================] - 0s 11ms/step - loss: 7.1456 - mae: 7.1456\n",
      "Epoch 55/100\n",
      "1/1 [==============================] - 0s 10ms/step - loss: 7.1400 - mae: 7.1400\n",
      "Epoch 56/100\n",
      "1/1 [==============================] - 0s 8ms/step - loss: 7.1344 - mae: 7.1344\n",
      "Epoch 57/100\n",
      "1/1 [==============================] - 0s 9ms/step - loss: 7.1287 - mae: 7.1287\n",
      "Epoch 58/100\n",
      "1/1 [==============================] - 0s 9ms/step - loss: 7.1231 - mae: 7.1231\n",
      "Epoch 59/100\n",
      "1/1 [==============================] - 0s 8ms/step - loss: 7.1175 - mae: 7.1175\n",
      "Epoch 60/100\n",
      "1/1 [==============================] - 0s 6ms/step - loss: 7.1119 - mae: 7.1119\n",
      "Epoch 61/100\n",
      "1/1 [==============================] - 0s 8ms/step - loss: 7.1062 - mae: 7.1062\n",
      "Epoch 62/100\n",
      "1/1 [==============================] - 0s 9ms/step - loss: 7.1006 - mae: 7.1006\n",
      "Epoch 63/100\n",
      "1/1 [==============================] - 0s 8ms/step - loss: 7.0950 - mae: 7.0950\n",
      "Epoch 64/100\n",
      "1/1 [==============================] - 0s 13ms/step - loss: 7.0894 - mae: 7.0894\n",
      "Epoch 65/100\n",
      "1/1 [==============================] - 0s 8ms/step - loss: 7.0838 - mae: 7.0838\n",
      "Epoch 66/100\n",
      "1/1 [==============================] - 0s 7ms/step - loss: 7.0781 - mae: 7.0781\n",
      "Epoch 67/100\n",
      "1/1 [==============================] - 0s 7ms/step - loss: 7.0725 - mae: 7.0725\n",
      "Epoch 68/100\n",
      "1/1 [==============================] - 0s 53ms/step - loss: 7.0669 - mae: 7.0669\n",
      "Epoch 69/100\n",
      "1/1 [==============================] - 0s 7ms/step - loss: 7.0613 - mae: 7.0613\n",
      "Epoch 70/100\n",
      "1/1 [==============================] - 0s 9ms/step - loss: 7.0556 - mae: 7.0556\n",
      "Epoch 71/100\n",
      "1/1 [==============================] - 0s 7ms/step - loss: 7.0500 - mae: 7.0500\n",
      "Epoch 72/100\n",
      "1/1 [==============================] - 0s 8ms/step - loss: 7.0444 - mae: 7.0444\n",
      "Epoch 73/100\n",
      "1/1 [==============================] - 0s 6ms/step - loss: 7.0388 - mae: 7.0388\n",
      "Epoch 74/100\n",
      "1/1 [==============================] - 0s 8ms/step - loss: 7.0331 - mae: 7.0331\n",
      "Epoch 75/100\n",
      "1/1 [==============================] - 0s 6ms/step - loss: 7.0275 - mae: 7.0275\n",
      "Epoch 76/100\n",
      "1/1 [==============================] - 0s 7ms/step - loss: 7.0219 - mae: 7.0219\n",
      "Epoch 77/100\n",
      "1/1 [==============================] - 0s 8ms/step - loss: 7.0163 - mae: 7.0163\n",
      "Epoch 78/100\n",
      "1/1 [==============================] - 0s 8ms/step - loss: 7.0106 - mae: 7.0106\n",
      "Epoch 79/100\n",
      "1/1 [==============================] - 0s 8ms/step - loss: 7.0050 - mae: 7.0050\n",
      "Epoch 80/100\n",
      "1/1 [==============================] - 0s 9ms/step - loss: 6.9994 - mae: 6.9994\n",
      "Epoch 81/100\n",
      "1/1 [==============================] - 0s 8ms/step - loss: 6.9938 - mae: 6.9938\n",
      "Epoch 82/100\n",
      "1/1 [==============================] - 0s 10ms/step - loss: 6.9881 - mae: 6.9881\n",
      "Epoch 83/100\n",
      "1/1 [==============================] - 0s 8ms/step - loss: 6.9825 - mae: 6.9825\n",
      "Epoch 84/100\n",
      "1/1 [==============================] - 0s 7ms/step - loss: 6.9769 - mae: 6.9769\n",
      "Epoch 85/100\n",
      "1/1 [==============================] - 0s 9ms/step - loss: 6.9713 - mae: 6.9713\n",
      "Epoch 86/100\n",
      "1/1 [==============================] - 0s 10ms/step - loss: 6.9656 - mae: 6.9656\n",
      "Epoch 87/100\n",
      "1/1 [==============================] - 0s 8ms/step - loss: 6.9600 - mae: 6.9600\n",
      "Epoch 88/100\n",
      "1/1 [==============================] - 0s 7ms/step - loss: 6.9544 - mae: 6.9544\n",
      "Epoch 89/100\n",
      "1/1 [==============================] - 0s 8ms/step - loss: 6.9488 - mae: 6.9488\n",
      "Epoch 90/100\n",
      "1/1 [==============================] - 0s 8ms/step - loss: 6.9431 - mae: 6.9431\n",
      "Epoch 91/100\n",
      "1/1 [==============================] - 0s 10ms/step - loss: 6.9375 - mae: 6.9375\n",
      "Epoch 92/100\n",
      "1/1 [==============================] - 0s 11ms/step - loss: 6.9319 - mae: 6.9319\n",
      "Epoch 93/100\n",
      "1/1 [==============================] - 0s 10ms/step - loss: 6.9263 - mae: 6.9263\n",
      "Epoch 94/100\n",
      "1/1 [==============================] - 0s 11ms/step - loss: 6.9206 - mae: 6.9206\n",
      "Epoch 95/100\n",
      "1/1 [==============================] - 0s 8ms/step - loss: 6.9150 - mae: 6.9150\n",
      "Epoch 96/100\n",
      "1/1 [==============================] - 0s 10ms/step - loss: 6.9094 - mae: 6.9094\n",
      "Epoch 97/100\n",
      "1/1 [==============================] - 0s 10ms/step - loss: 6.9038 - mae: 6.9038\n",
      "Epoch 98/100\n",
      "1/1 [==============================] - 0s 8ms/step - loss: 6.8981 - mae: 6.8981\n",
      "Epoch 99/100\n",
      "1/1 [==============================] - 0s 15ms/step - loss: 6.8925 - mae: 6.8925\n",
      "Epoch 100/100\n",
      "1/1 [==============================] - 0s 8ms/step - loss: 6.8869 - mae: 6.8869\n"
     ]
    },
    {
     "data": {
      "text/plain": [
       "<keras.callbacks.History at 0x179b0a33160>"
      ]
     },
     "execution_count": 29,
     "metadata": {},
     "output_type": "execute_result"
    }
   ],
   "source": [
    "# Let's rebuild our model\n",
    "\n",
    "# 1. Create a model\n",
    "model = tf.keras.Sequential()\n",
    "model.add(tf.keras.layers.Dense(1))\n",
    "\n",
    "# 2. Compile a model\n",
    "model.compile(loss = tf.keras.losses.mae, \n",
    "                optimizer = tf.keras.optimizers.SGD(),\n",
    "                metrics = [\"mae\"])\n",
    "\n",
    "# fit the model (this time we'll train for longer)\n",
    "model.fit(tf.expand_dims(X, axis = -1), y, epochs=100)"
   ]
  },
  {
   "cell_type": "code",
   "execution_count": 30,
   "metadata": {},
   "outputs": [
    {
     "name": "stdout",
     "output_type": "stream",
     "text": [
      "1/1 [==============================] - 0s 101ms/step\n"
     ]
    },
    {
     "data": {
      "text/plain": [
       "array([[29.739855]], dtype=float32)"
      ]
     },
     "execution_count": 30,
     "metadata": {},
     "output_type": "execute_result"
    }
   ],
   "source": [
    "model.predict([17.])"
   ]
  },
  {
   "cell_type": "code",
   "execution_count": 31,
   "metadata": {},
   "outputs": [
    {
     "data": {
      "text/plain": [
       "(<tf.Tensor: shape=(8,), dtype=float32, numpy=array([-7., -4., -1.,  2.,  5.,  8., 11., 14.], dtype=float32)>,\n",
       " <tf.Tensor: shape=(8,), dtype=float32, numpy=array([ 3.,  6.,  9., 12., 15., 18., 21., 24.], dtype=float32)>)"
      ]
     },
     "execution_count": 31,
     "metadata": {},
     "output_type": "execute_result"
    }
   ],
   "source": [
    "# Remind ourselves of the data\n",
    "X, y"
   ]
  },
  {
   "cell_type": "markdown",
   "metadata": {},
   "source": [
    "## PART 3"
   ]
  },
  {
   "cell_type": "code",
   "execution_count": 32,
   "metadata": {},
   "outputs": [
    {
     "name": "stdout",
     "output_type": "stream",
     "text": [
      "Epoch 1/100\n",
      "1/1 [==============================] - 1s 943ms/step - loss: 12.3193 - mae: 12.3193\n",
      "Epoch 2/100\n",
      "1/1 [==============================] - 0s 13ms/step - loss: 11.7804 - mae: 11.7804\n",
      "Epoch 3/100\n",
      "1/1 [==============================] - 0s 10ms/step - loss: 11.2324 - mae: 11.2324\n",
      "Epoch 4/100\n",
      "1/1 [==============================] - 0s 9ms/step - loss: 10.6601 - mae: 10.6601\n",
      "Epoch 5/100\n",
      "1/1 [==============================] - 0s 11ms/step - loss: 10.0632 - mae: 10.0632\n",
      "Epoch 6/100\n",
      "1/1 [==============================] - 0s 12ms/step - loss: 9.4503 - mae: 9.4503\n",
      "Epoch 7/100\n",
      "1/1 [==============================] - 0s 9ms/step - loss: 8.7991 - mae: 8.7991\n",
      "Epoch 8/100\n",
      "1/1 [==============================] - 0s 10ms/step - loss: 8.1072 - mae: 8.1072\n",
      "Epoch 9/100\n",
      "1/1 [==============================] - 0s 10ms/step - loss: 7.3691 - mae: 7.3691\n",
      "Epoch 10/100\n",
      "1/1 [==============================] - 0s 6ms/step - loss: 6.5758 - mae: 6.5758\n",
      "Epoch 11/100\n",
      "1/1 [==============================] - 0s 7ms/step - loss: 5.7205 - mae: 5.7205\n",
      "Epoch 12/100\n",
      "1/1 [==============================] - 0s 9ms/step - loss: 4.7947 - mae: 4.7947\n",
      "Epoch 13/100\n",
      "1/1 [==============================] - 0s 9ms/step - loss: 4.3581 - mae: 4.3581\n",
      "Epoch 14/100\n",
      "1/1 [==============================] - 0s 8ms/step - loss: 4.3134 - mae: 4.3134\n",
      "Epoch 15/100\n",
      "1/1 [==============================] - 0s 8ms/step - loss: 4.2550 - mae: 4.2550\n",
      "Epoch 16/100\n",
      "1/1 [==============================] - 0s 7ms/step - loss: 4.2442 - mae: 4.2442\n",
      "Epoch 17/100\n",
      "1/1 [==============================] - 0s 11ms/step - loss: 4.1520 - mae: 4.1520\n",
      "Epoch 18/100\n",
      "1/1 [==============================] - 0s 9ms/step - loss: 4.1739 - mae: 4.1739\n",
      "Epoch 19/100\n",
      "1/1 [==============================] - 0s 10ms/step - loss: 4.0681 - mae: 4.0681\n",
      "Epoch 20/100\n",
      "1/1 [==============================] - 0s 8ms/step - loss: 4.0807 - mae: 4.0807\n",
      "Epoch 21/100\n",
      "1/1 [==============================] - 0s 10ms/step - loss: 3.9954 - mae: 3.9954\n",
      "Epoch 22/100\n",
      "1/1 [==============================] - 0s 9ms/step - loss: 3.9739 - mae: 3.9739\n",
      "Epoch 23/100\n",
      "1/1 [==============================] - 0s 8ms/step - loss: 3.9208 - mae: 3.9208\n",
      "Epoch 24/100\n",
      "1/1 [==============================] - 0s 8ms/step - loss: 3.9047 - mae: 3.9047\n",
      "Epoch 25/100\n",
      "1/1 [==============================] - 0s 9ms/step - loss: 3.9267 - mae: 3.9267\n",
      "Epoch 26/100\n",
      "1/1 [==============================] - 0s 9ms/step - loss: 3.8797 - mae: 3.8797\n",
      "Epoch 27/100\n",
      "1/1 [==============================] - 0s 6ms/step - loss: 3.9341 - mae: 3.9341\n",
      "Epoch 28/100\n",
      "1/1 [==============================] - 0s 7ms/step - loss: 3.8678 - mae: 3.8678\n",
      "Epoch 29/100\n",
      "1/1 [==============================] - 0s 9ms/step - loss: 3.9274 - mae: 3.9274\n",
      "Epoch 30/100\n",
      "1/1 [==============================] - 0s 7ms/step - loss: 3.8751 - mae: 3.8751\n",
      "Epoch 31/100\n",
      "1/1 [==============================] - 0s 9ms/step - loss: 3.9080 - mae: 3.9080\n",
      "Epoch 32/100\n",
      "1/1 [==============================] - 0s 10ms/step - loss: 3.8893 - mae: 3.8893\n",
      "Epoch 33/100\n",
      "1/1 [==============================] - 0s 8ms/step - loss: 3.8834 - mae: 3.8834\n",
      "Epoch 34/100\n",
      "1/1 [==============================] - 0s 14ms/step - loss: 3.8969 - mae: 3.8969\n",
      "Epoch 35/100\n",
      "1/1 [==============================] - 0s 8ms/step - loss: 3.8581 - mae: 3.8581\n",
      "Epoch 36/100\n",
      "1/1 [==============================] - 0s 15ms/step - loss: 3.9046 - mae: 3.9046\n",
      "Epoch 37/100\n",
      "1/1 [==============================] - 0s 8ms/step - loss: 3.8386 - mae: 3.8386\n",
      "Epoch 38/100\n",
      "1/1 [==============================] - 0s 7ms/step - loss: 3.9054 - mae: 3.9054\n",
      "Epoch 39/100\n",
      "1/1 [==============================] - 0s 10ms/step - loss: 3.8482 - mae: 3.8482\n",
      "Epoch 40/100\n",
      "1/1 [==============================] - 0s 7ms/step - loss: 3.8862 - mae: 3.8862\n",
      "Epoch 41/100\n",
      "1/1 [==============================] - 0s 10ms/step - loss: 3.8605 - mae: 3.8605\n",
      "Epoch 42/100\n",
      "1/1 [==============================] - 0s 10ms/step - loss: 3.8608 - mae: 3.8608\n",
      "Epoch 43/100\n",
      "1/1 [==============================] - 0s 11ms/step - loss: 3.8683 - mae: 3.8683\n",
      "Epoch 44/100\n",
      "1/1 [==============================] - 0s 7ms/step - loss: 3.8352 - mae: 3.8352\n",
      "Epoch 45/100\n",
      "1/1 [==============================] - 0s 8ms/step - loss: 3.8762 - mae: 3.8762\n",
      "Epoch 46/100\n",
      "1/1 [==============================] - 0s 8ms/step - loss: 3.8106 - mae: 3.8106\n",
      "Epoch 47/100\n",
      "1/1 [==============================] - 0s 12ms/step - loss: 3.8821 - mae: 3.8821\n",
      "Epoch 48/100\n",
      "1/1 [==============================] - 0s 10ms/step - loss: 3.8234 - mae: 3.8234\n",
      "Epoch 49/100\n",
      "1/1 [==============================] - 0s 9ms/step - loss: 3.8626 - mae: 3.8626\n",
      "Epoch 50/100\n",
      "1/1 [==============================] - 0s 13ms/step - loss: 3.8328 - mae: 3.8328\n",
      "Epoch 51/100\n",
      "1/1 [==============================] - 0s 8ms/step - loss: 3.8369 - mae: 3.8369\n",
      "Epoch 52/100\n",
      "1/1 [==============================] - 0s 18ms/step - loss: 3.8408 - mae: 3.8408\n",
      "Epoch 53/100\n",
      "1/1 [==============================] - 0s 15ms/step - loss: 3.8111 - mae: 3.8111\n",
      "Epoch 54/100\n",
      "1/1 [==============================] - 0s 21ms/step - loss: 3.8489 - mae: 3.8489\n",
      "Epoch 55/100\n",
      "1/1 [==============================] - 0s 9ms/step - loss: 3.7850 - mae: 3.7850\n",
      "Epoch 56/100\n",
      "1/1 [==============================] - 0s 10ms/step - loss: 3.8585 - mae: 3.8585\n",
      "Epoch 57/100\n",
      "1/1 [==============================] - 0s 44ms/step - loss: 3.7982 - mae: 3.7982\n",
      "Epoch 58/100\n",
      "1/1 [==============================] - 0s 10ms/step - loss: 3.8377 - mae: 3.8377\n",
      "Epoch 59/100\n",
      "1/1 [==============================] - 0s 10ms/step - loss: 3.8062 - mae: 3.8062\n",
      "Epoch 60/100\n",
      "1/1 [==============================] - 0s 9ms/step - loss: 3.8117 - mae: 3.8117\n",
      "Epoch 61/100\n",
      "1/1 [==============================] - 0s 14ms/step - loss: 3.8144 - mae: 3.8144\n",
      "Epoch 62/100\n",
      "1/1 [==============================] - 0s 8ms/step - loss: 3.7856 - mae: 3.7856\n",
      "Epoch 63/100\n",
      "1/1 [==============================] - 0s 9ms/step - loss: 3.8227 - mae: 3.8227\n",
      "Epoch 64/100\n",
      "1/1 [==============================] - 0s 9ms/step - loss: 3.7593 - mae: 3.7593\n",
      "Epoch 65/100\n",
      "1/1 [==============================] - 0s 9ms/step - loss: 3.8352 - mae: 3.8352\n",
      "Epoch 66/100\n",
      "1/1 [==============================] - 0s 9ms/step - loss: 3.7725 - mae: 3.7725\n",
      "Epoch 67/100\n",
      "1/1 [==============================] - 0s 13ms/step - loss: 3.8115 - mae: 3.8115\n",
      "Epoch 68/100\n",
      "1/1 [==============================] - 0s 11ms/step - loss: 3.7807 - mae: 3.7807\n",
      "Epoch 69/100\n",
      "1/1 [==============================] - 0s 10ms/step - loss: 3.7853 - mae: 3.7853\n",
      "Epoch 70/100\n",
      "1/1 [==============================] - 0s 8ms/step - loss: 3.7891 - mae: 3.7891\n",
      "Epoch 71/100\n",
      "1/1 [==============================] - 0s 12ms/step - loss: 3.7588 - mae: 3.7588\n",
      "Epoch 72/100\n",
      "1/1 [==============================] - 0s 12ms/step - loss: 3.7975 - mae: 3.7975\n",
      "Epoch 73/100\n",
      "1/1 [==============================] - 0s 26ms/step - loss: 3.7337 - mae: 3.7337\n",
      "Epoch 74/100\n",
      "1/1 [==============================] - 0s 7ms/step - loss: 3.8105 - mae: 3.8105\n",
      "Epoch 75/100\n",
      "1/1 [==============================] - 0s 36ms/step - loss: 3.7478 - mae: 3.7478\n",
      "Epoch 76/100\n",
      "1/1 [==============================] - 0s 8ms/step - loss: 3.7840 - mae: 3.7840\n",
      "Epoch 77/100\n",
      "1/1 [==============================] - 0s 8ms/step - loss: 3.7563 - mae: 3.7563\n",
      "Epoch 78/100\n",
      "1/1 [==============================] - 0s 9ms/step - loss: 3.7575 - mae: 3.7575\n",
      "Epoch 79/100\n",
      "1/1 [==============================] - 0s 8ms/step - loss: 3.7648 - mae: 3.7648\n",
      "Epoch 80/100\n",
      "1/1 [==============================] - 0s 9ms/step - loss: 3.7307 - mae: 3.7307\n",
      "Epoch 81/100\n",
      "1/1 [==============================] - 0s 8ms/step - loss: 3.7735 - mae: 3.7735\n",
      "Epoch 82/100\n",
      "1/1 [==============================] - 0s 9ms/step - loss: 3.7125 - mae: 3.7125\n",
      "Epoch 83/100\n",
      "1/1 [==============================] - 0s 16ms/step - loss: 3.7820 - mae: 3.7820\n",
      "Epoch 84/100\n",
      "1/1 [==============================] - 0s 8ms/step - loss: 3.7242 - mae: 3.7242\n",
      "Epoch 85/100\n",
      "1/1 [==============================] - 0s 7ms/step - loss: 3.7552 - mae: 3.7552\n",
      "Epoch 86/100\n",
      "1/1 [==============================] - 0s 9ms/step - loss: 3.7329 - mae: 3.7329\n",
      "Epoch 87/100\n",
      "1/1 [==============================] - 0s 8ms/step - loss: 3.7284 - mae: 3.7284\n",
      "Epoch 88/100\n",
      "1/1 [==============================] - 0s 9ms/step - loss: 3.7416 - mae: 3.7416\n",
      "Epoch 89/100\n",
      "1/1 [==============================] - 0s 7ms/step - loss: 3.7013 - mae: 3.7013\n",
      "Epoch 90/100\n",
      "1/1 [==============================] - 0s 6ms/step - loss: 3.7505 - mae: 3.7505\n",
      "Epoch 91/100\n",
      "1/1 [==============================] - 0s 8ms/step - loss: 3.6921 - mae: 3.6921\n",
      "Epoch 92/100\n",
      "1/1 [==============================] - 0s 9ms/step - loss: 3.7522 - mae: 3.7522\n",
      "Epoch 93/100\n",
      "1/1 [==============================] - 0s 10ms/step - loss: 3.7016 - mae: 3.7016\n",
      "Epoch 94/100\n",
      "1/1 [==============================] - 0s 9ms/step - loss: 3.7251 - mae: 3.7251\n",
      "Epoch 95/100\n",
      "1/1 [==============================] - 0s 13ms/step - loss: 3.7105 - mae: 3.7105\n",
      "Epoch 96/100\n",
      "1/1 [==============================] - 0s 9ms/step - loss: 3.6979 - mae: 3.6979\n",
      "Epoch 97/100\n",
      "1/1 [==============================] - 0s 10ms/step - loss: 3.7194 - mae: 3.7194\n",
      "Epoch 98/100\n",
      "1/1 [==============================] - 0s 10ms/step - loss: 3.6705 - mae: 3.6705\n",
      "Epoch 99/100\n",
      "1/1 [==============================] - 0s 10ms/step - loss: 3.7299 - mae: 3.7299\n",
      "Epoch 100/100\n",
      "1/1 [==============================] - 0s 8ms/step - loss: 3.6711 - mae: 3.6711\n"
     ]
    },
    {
     "data": {
      "text/plain": [
       "<keras.callbacks.History at 0x179b0a742b0>"
      ]
     },
     "execution_count": 32,
     "metadata": {},
     "output_type": "execute_result"
    }
   ],
   "source": [
    "# 1. Create a model (this time with an extra hidden layer with 100 hidden units)\n",
    "\n",
    "model = tf.keras.Sequential()\n",
    "model.add(tf.keras.layers.Dense(100, activation=\"relu\"))\n",
    "model.add(tf.keras.layers.Dense(1))\n",
    "\n",
    "# 2. Compile the model\n",
    "model.compile(loss = tf.keras.losses.mae,\n",
    "                optimizer = tf.keras.optimizers.SGD(),\n",
    "                metrics = [\"mae\"])\n",
    "\n",
    "# 3. Fit the model\n",
    "\n",
    "model.fit(tf.expand_dims(X, axis = -1), y, epochs = 100)"
   ]
  },
  {
   "cell_type": "code",
   "execution_count": 33,
   "metadata": {},
   "outputs": [
    {
     "data": {
      "text/plain": [
       "(<tf.Tensor: shape=(8,), dtype=float32, numpy=array([-7., -4., -1.,  2.,  5.,  8., 11., 14.], dtype=float32)>,\n",
       " <tf.Tensor: shape=(8,), dtype=float32, numpy=array([ 3.,  6.,  9., 12., 15., 18., 21., 24.], dtype=float32)>)"
      ]
     },
     "execution_count": 33,
     "metadata": {},
     "output_type": "execute_result"
    }
   ],
   "source": [
    "# Let's remind ourselves of the data\n",
    "X, y"
   ]
  },
  {
   "cell_type": "code",
   "execution_count": 34,
   "metadata": {},
   "outputs": [
    {
     "name": "stdout",
     "output_type": "stream",
     "text": [
      "1/1 [==============================] - 0s 124ms/step\n"
     ]
    },
    {
     "data": {
      "text/plain": [
       "array([[31.223137]], dtype=float32)"
      ]
     },
     "execution_count": 34,
     "metadata": {},
     "output_type": "execute_result"
    }
   ],
   "source": [
    "model.predict([17.])"
   ]
  },
  {
   "cell_type": "code",
   "execution_count": 35,
   "metadata": {},
   "outputs": [
    {
     "name": "stdout",
     "output_type": "stream",
     "text": [
      "Epoch 1/100\n",
      "1/1 [==============================] - 1s 657ms/step - loss: 12.1456 - mae: 12.1456\n",
      "Epoch 2/100\n",
      "1/1 [==============================] - 0s 8ms/step - loss: 11.5538 - mae: 11.5538\n",
      "Epoch 3/100\n",
      "1/1 [==============================] - 0s 3ms/step - loss: 10.9405 - mae: 10.9405\n",
      "Epoch 4/100\n",
      "1/1 [==============================] - 0s 8ms/step - loss: 10.3009 - mae: 10.3009\n",
      "Epoch 5/100\n",
      "1/1 [==============================] - 0s 8ms/step - loss: 9.6325 - mae: 9.6325\n",
      "Epoch 6/100\n",
      "1/1 [==============================] - 0s 9ms/step - loss: 8.9314 - mae: 8.9314\n",
      "Epoch 7/100\n",
      "1/1 [==============================] - 0s 7ms/step - loss: 8.1937 - mae: 8.1937\n",
      "Epoch 8/100\n",
      "1/1 [==============================] - 0s 6ms/step - loss: 7.3997 - mae: 7.3997\n",
      "Epoch 9/100\n",
      "1/1 [==============================] - 0s 7ms/step - loss: 6.5612 - mae: 6.5612\n",
      "Epoch 10/100\n",
      "1/1 [==============================] - 0s 7ms/step - loss: 5.6630 - mae: 5.6630\n",
      "Epoch 11/100\n",
      "1/1 [==============================] - 0s 7ms/step - loss: 4.6956 - mae: 4.6956\n",
      "Epoch 12/100\n",
      "1/1 [==============================] - 0s 7ms/step - loss: 4.2610 - mae: 4.2610\n",
      "Epoch 13/100\n",
      "1/1 [==============================] - 0s 7ms/step - loss: 4.2586 - mae: 4.2586\n",
      "Epoch 14/100\n",
      "1/1 [==============================] - 0s 6ms/step - loss: 4.1631 - mae: 4.1631\n",
      "Epoch 15/100\n",
      "1/1 [==============================] - 0s 6ms/step - loss: 4.1946 - mae: 4.1946\n",
      "Epoch 16/100\n",
      "1/1 [==============================] - 0s 7ms/step - loss: 4.0891 - mae: 4.0891\n",
      "Epoch 17/100\n",
      "1/1 [==============================] - 0s 8ms/step - loss: 4.1034 - mae: 4.1034\n",
      "Epoch 18/100\n",
      "1/1 [==============================] - 0s 7ms/step - loss: 4.0234 - mae: 4.0234\n",
      "Epoch 19/100\n",
      "1/1 [==============================] - 0s 6ms/step - loss: 4.0029 - mae: 4.0029\n",
      "Epoch 20/100\n",
      "1/1 [==============================] - 0s 8ms/step - loss: 3.9563 - mae: 3.9563\n",
      "Epoch 21/100\n",
      "1/1 [==============================] - 0s 9ms/step - loss: 3.9147 - mae: 3.9147\n",
      "Epoch 22/100\n",
      "1/1 [==============================] - 0s 8ms/step - loss: 3.9407 - mae: 3.9407\n",
      "Epoch 23/100\n",
      "1/1 [==============================] - 0s 6ms/step - loss: 3.8891 - mae: 3.8891\n",
      "Epoch 24/100\n",
      "1/1 [==============================] - 0s 8ms/step - loss: 3.9518 - mae: 3.9518\n",
      "Epoch 25/100\n",
      "1/1 [==============================] - 0s 7ms/step - loss: 3.8861 - mae: 3.8861\n",
      "Epoch 26/100\n",
      "1/1 [==============================] - 0s 9ms/step - loss: 3.9452 - mae: 3.9452\n",
      "Epoch 27/100\n",
      "1/1 [==============================] - 0s 7ms/step - loss: 3.8940 - mae: 3.8940\n",
      "Epoch 28/100\n",
      "1/1 [==============================] - 0s 7ms/step - loss: 3.9197 - mae: 3.9197\n",
      "Epoch 29/100\n",
      "1/1 [==============================] - 0s 7ms/step - loss: 3.9021 - mae: 3.9021\n",
      "Epoch 30/100\n",
      "1/1 [==============================] - 0s 7ms/step - loss: 3.8941 - mae: 3.8941\n",
      "Epoch 31/100\n",
      "1/1 [==============================] - 0s 7ms/step - loss: 3.9102 - mae: 3.9102\n",
      "Epoch 32/100\n",
      "1/1 [==============================] - 0s 7ms/step - loss: 3.8686 - mae: 3.8686\n",
      "Epoch 33/100\n",
      "1/1 [==============================] - 0s 8ms/step - loss: 3.9247 - mae: 3.9247\n",
      "Epoch 34/100\n",
      "1/1 [==============================] - 0s 6ms/step - loss: 3.8562 - mae: 3.8562\n",
      "Epoch 35/100\n",
      "1/1 [==============================] - 0s 0s/step - loss: 3.9239 - mae: 3.9239\n",
      "Epoch 36/100\n",
      "1/1 [==============================] - 0s 20ms/step - loss: 3.8643 - mae: 3.8643\n",
      "Epoch 37/100\n",
      "1/1 [==============================] - 0s 5ms/step - loss: 3.8982 - mae: 3.8982\n",
      "Epoch 38/100\n",
      "1/1 [==============================] - 0s 5ms/step - loss: 3.8725 - mae: 3.8725\n",
      "Epoch 39/100\n",
      "1/1 [==============================] - 0s 10ms/step - loss: 3.8723 - mae: 3.8723\n",
      "Epoch 40/100\n",
      "1/1 [==============================] - 0s 7ms/step - loss: 3.8809 - mae: 3.8809\n",
      "Epoch 41/100\n",
      "1/1 [==============================] - 0s 8ms/step - loss: 3.8492 - mae: 3.8492\n",
      "Epoch 42/100\n",
      "1/1 [==============================] - 0s 10ms/step - loss: 3.8956 - mae: 3.8956\n",
      "Epoch 43/100\n",
      "1/1 [==============================] - 0s 13ms/step - loss: 3.8274 - mae: 3.8274\n",
      "Epoch 44/100\n",
      "1/1 [==============================] - 0s 25ms/step - loss: 3.9013 - mae: 3.9013\n",
      "Epoch 45/100\n",
      "1/1 [==============================] - 0s 16ms/step - loss: 3.8357 - mae: 3.8357\n",
      "Epoch 46/100\n",
      "1/1 [==============================] - 0s 8ms/step - loss: 3.8753 - mae: 3.8753\n",
      "Epoch 47/100\n",
      "1/1 [==============================] - 0s 7ms/step - loss: 3.8442 - mae: 3.8442\n",
      "Epoch 48/100\n",
      "1/1 [==============================] - 0s 6ms/step - loss: 3.8492 - mae: 3.8492\n",
      "Epoch 49/100\n",
      "1/1 [==============================] - 0s 6ms/step - loss: 3.8527 - mae: 3.8527\n",
      "Epoch 50/100\n",
      "1/1 [==============================] - 0s 8ms/step - loss: 3.8283 - mae: 3.8283\n",
      "Epoch 51/100\n",
      "1/1 [==============================] - 0s 53ms/step - loss: 3.8675 - mae: 3.8675\n",
      "Epoch 52/100\n",
      "1/1 [==============================] - 0s 8ms/step - loss: 3.8019 - mae: 3.8019\n",
      "Epoch 53/100\n",
      "1/1 [==============================] - 0s 12ms/step - loss: 3.8763 - mae: 3.8763\n",
      "Epoch 54/100\n",
      "1/1 [==============================] - 0s 7ms/step - loss: 3.8082 - mae: 3.8082\n",
      "Epoch 55/100\n",
      "1/1 [==============================] - 0s 7ms/step - loss: 3.8512 - mae: 3.8512\n",
      "Epoch 56/100\n",
      "1/1 [==============================] - 0s 8ms/step - loss: 3.8169 - mae: 3.8169\n",
      "Epoch 57/100\n",
      "1/1 [==============================] - 0s 6ms/step - loss: 3.8248 - mae: 3.8248\n",
      "Epoch 58/100\n",
      "1/1 [==============================] - 0s 6ms/step - loss: 3.8273 - mae: 3.8273\n",
      "Epoch 59/100\n",
      "1/1 [==============================] - 0s 11ms/step - loss: 3.8037 - mae: 3.8037\n",
      "Epoch 60/100\n",
      "1/1 [==============================] - 0s 6ms/step - loss: 3.8406 - mae: 3.8406\n",
      "Epoch 61/100\n",
      "1/1 [==============================] - 0s 8ms/step - loss: 3.7769 - mae: 3.7769\n",
      "Epoch 62/100\n",
      "1/1 [==============================] - 0s 6ms/step - loss: 3.8496 - mae: 3.8496\n",
      "Epoch 63/100\n",
      "1/1 [==============================] - 0s 5ms/step - loss: 3.7818 - mae: 3.7818\n",
      "Epoch 64/100\n",
      "1/1 [==============================] - 0s 7ms/step - loss: 3.8258 - mae: 3.8258\n",
      "Epoch 65/100\n",
      "1/1 [==============================] - 0s 8ms/step - loss: 3.7907 - mae: 3.7907\n",
      "Epoch 66/100\n",
      "1/1 [==============================] - 0s 6ms/step - loss: 3.7991 - mae: 3.7991\n",
      "Epoch 67/100\n",
      "1/1 [==============================] - 0s 7ms/step - loss: 3.8035 - mae: 3.8035\n",
      "Epoch 68/100\n",
      "1/1 [==============================] - 0s 8ms/step - loss: 3.7776 - mae: 3.7776\n",
      "Epoch 69/100\n",
      "1/1 [==============================] - 0s 7ms/step - loss: 3.8148 - mae: 3.8148\n",
      "Epoch 70/100\n",
      "1/1 [==============================] - 0s 6ms/step - loss: 3.7505 - mae: 3.7505\n",
      "Epoch 71/100\n",
      "1/1 [==============================] - 0s 7ms/step - loss: 3.8240 - mae: 3.8240\n",
      "Epoch 72/100\n",
      "1/1 [==============================] - 0s 8ms/step - loss: 3.7565 - mae: 3.7565\n",
      "Epoch 73/100\n",
      "1/1 [==============================] - 0s 7ms/step - loss: 3.7991 - mae: 3.7991\n",
      "Epoch 74/100\n",
      "1/1 [==============================] - 0s 16ms/step - loss: 3.7655 - mae: 3.7655\n",
      "Epoch 75/100\n",
      "1/1 [==============================] - 0s 9ms/step - loss: 3.7726 - mae: 3.7726\n",
      "Epoch 76/100\n",
      "1/1 [==============================] - 0s 6ms/step - loss: 3.7807 - mae: 3.7807\n",
      "Epoch 77/100\n",
      "1/1 [==============================] - 0s 7ms/step - loss: 3.7503 - mae: 3.7503\n",
      "Epoch 78/100\n",
      "1/1 [==============================] - 0s 9ms/step - loss: 3.7900 - mae: 3.7900\n",
      "Epoch 79/100\n",
      "1/1 [==============================] - 0s 8ms/step - loss: 3.7231 - mae: 3.7231\n",
      "Epoch 80/100\n",
      "1/1 [==============================] - 0s 8ms/step - loss: 3.7983 - mae: 3.7983\n",
      "Epoch 81/100\n",
      "1/1 [==============================] - 0s 8ms/step - loss: 3.7322 - mae: 3.7322\n",
      "Epoch 82/100\n",
      "1/1 [==============================] - 0s 11ms/step - loss: 3.7711 - mae: 3.7711\n",
      "Epoch 83/100\n",
      "1/1 [==============================] - 0s 9ms/step - loss: 3.7414 - mae: 3.7414\n",
      "Epoch 84/100\n",
      "1/1 [==============================] - 0s 8ms/step - loss: 3.7462 - mae: 3.7462\n",
      "Epoch 85/100\n",
      "1/1 [==============================] - 0s 7ms/step - loss: 3.7568 - mae: 3.7568\n",
      "Epoch 86/100\n",
      "1/1 [==============================] - 0s 9ms/step - loss: 3.7216 - mae: 3.7216\n",
      "Epoch 87/100\n",
      "1/1 [==============================] - 0s 7ms/step - loss: 3.7663 - mae: 3.7663\n",
      "Epoch 88/100\n",
      "1/1 [==============================] - 0s 8ms/step - loss: 3.6996 - mae: 3.6996\n",
      "Epoch 89/100\n",
      "1/1 [==============================] - 0s 10ms/step - loss: 3.7692 - mae: 3.7692\n",
      "Epoch 90/100\n",
      "1/1 [==============================] - 0s 11ms/step - loss: 3.7089 - mae: 3.7089\n",
      "Epoch 91/100\n",
      "1/1 [==============================] - 0s 6ms/step - loss: 3.7418 - mae: 3.7418\n",
      "Epoch 92/100\n",
      "1/1 [==============================] - 0s 7ms/step - loss: 3.7184 - mae: 3.7184\n",
      "Epoch 93/100\n",
      "1/1 [==============================] - 0s 8ms/step - loss: 3.7183 - mae: 3.7183\n",
      "Epoch 94/100\n",
      "1/1 [==============================] - 0s 8ms/step - loss: 3.7339 - mae: 3.7339\n",
      "Epoch 95/100\n",
      "1/1 [==============================] - 0s 8ms/step - loss: 3.6916 - mae: 3.6916\n",
      "Epoch 96/100\n",
      "1/1 [==============================] - 0s 11ms/step - loss: 3.7436 - mae: 3.7436\n",
      "Epoch 97/100\n",
      "1/1 [==============================] - 0s 9ms/step - loss: 3.6771 - mae: 3.6771\n",
      "Epoch 98/100\n",
      "1/1 [==============================] - 0s 11ms/step - loss: 3.7389 - mae: 3.7389\n",
      "Epoch 99/100\n",
      "1/1 [==============================] - 0s 6ms/step - loss: 3.6866 - mae: 3.6866\n",
      "Epoch 100/100\n",
      "1/1 [==============================] - 0s 6ms/step - loss: 3.7111 - mae: 3.7111\n"
     ]
    },
    {
     "data": {
      "text/plain": [
       "<keras.callbacks.History at 0x179b27dc460>"
      ]
     },
     "execution_count": 35,
     "metadata": {},
     "output_type": "execute_result"
    }
   ],
   "source": [
    "# 1. Create a model (this time with an extra hidden layer with 100 hidden units)\n",
    "\n",
    "model = tf.keras.Sequential()\n",
    "model.add(tf.keras.layers.Dense(50, activation=\"relu\"))\n",
    "model.add(tf.keras.layers.Dense(1))\n",
    "\n",
    "# 2. Compile the model\n",
    "model.compile(loss = tf.keras.losses.mae,\n",
    "                optimizer = tf.keras.optimizers.SGD(),\n",
    "                metrics = [\"mae\"])\n",
    "\n",
    "# 3. Fit the model\n",
    "\n",
    "model.fit(tf.expand_dims(X, axis = -1), y, epochs = 100)"
   ]
  },
  {
   "cell_type": "code",
   "execution_count": 36,
   "metadata": {},
   "outputs": [
    {
     "name": "stdout",
     "output_type": "stream",
     "text": [
      "WARNING:tensorflow:5 out of the last 5 calls to <function Model.make_predict_function.<locals>.predict_function at 0x00000179B16A6DD0> triggered tf.function retracing. Tracing is expensive and the excessive number of tracings could be due to (1) creating @tf.function repeatedly in a loop, (2) passing tensors with different shapes, (3) passing Python objects instead of tensors. For (1), please define your @tf.function outside of the loop. For (2), @tf.function has reduce_retracing=True option that can avoid unnecessary retracing. For (3), please refer to https://www.tensorflow.org/guide/function#controlling_retracing and https://www.tensorflow.org/api_docs/python/tf/function for  more details.\n",
      "1/1 [==============================] - 0s 124ms/step\n"
     ]
    },
    {
     "data": {
      "text/plain": [
       "array([[32.45491]], dtype=float32)"
      ]
     },
     "execution_count": 36,
     "metadata": {},
     "output_type": "execute_result"
    }
   ],
   "source": [
    "model.predict([17.])"
   ]
  },
  {
   "cell_type": "code",
   "execution_count": 37,
   "metadata": {},
   "outputs": [
    {
     "name": "stdout",
     "output_type": "stream",
     "text": [
      "Epoch 1/100\n",
      "1/1 [==============================] - 1s 729ms/step - loss: 13.4562 - mae: 13.4562\n",
      "Epoch 2/100\n",
      "1/1 [==============================] - 0s 9ms/step - loss: 12.9006 - mae: 12.9006\n",
      "Epoch 3/100\n",
      "1/1 [==============================] - 0s 8ms/step - loss: 12.3433 - mae: 12.3433\n",
      "Epoch 4/100\n",
      "1/1 [==============================] - 0s 7ms/step - loss: 11.7814 - mae: 11.7814\n",
      "Epoch 5/100\n",
      "1/1 [==============================] - 0s 8ms/step - loss: 11.2120 - mae: 11.2120\n",
      "Epoch 6/100\n",
      "1/1 [==============================] - 0s 11ms/step - loss: 10.6322 - mae: 10.6322\n",
      "Epoch 7/100\n",
      "1/1 [==============================] - 0s 10ms/step - loss: 10.0390 - mae: 10.0390\n",
      "Epoch 8/100\n",
      "1/1 [==============================] - 0s 7ms/step - loss: 9.4293 - mae: 9.4293\n",
      "Epoch 9/100\n",
      "1/1 [==============================] - 0s 6ms/step - loss: 8.8000 - mae: 8.8000\n",
      "Epoch 10/100\n",
      "1/1 [==============================] - 0s 11ms/step - loss: 8.1478 - mae: 8.1478\n",
      "Epoch 11/100\n",
      "1/1 [==============================] - 0s 8ms/step - loss: 7.4695 - mae: 7.4695\n",
      "Epoch 12/100\n",
      "1/1 [==============================] - 0s 9ms/step - loss: 7.2162 - mae: 7.2162\n",
      "Epoch 13/100\n",
      "1/1 [==============================] - 0s 7ms/step - loss: 7.1950 - mae: 7.1950\n",
      "Epoch 14/100\n",
      "1/1 [==============================] - 0s 6ms/step - loss: 7.1736 - mae: 7.1736\n",
      "Epoch 15/100\n",
      "1/1 [==============================] - 0s 8ms/step - loss: 7.1523 - mae: 7.1523\n",
      "Epoch 16/100\n",
      "1/1 [==============================] - 0s 6ms/step - loss: 7.1309 - mae: 7.1309\n",
      "Epoch 17/100\n",
      "1/1 [==============================] - 0s 7ms/step - loss: 7.1094 - mae: 7.1094\n",
      "Epoch 18/100\n",
      "1/1 [==============================] - 0s 8ms/step - loss: 7.0879 - mae: 7.0879\n",
      "Epoch 19/100\n",
      "1/1 [==============================] - 0s 8ms/step - loss: 7.0663 - mae: 7.0663\n",
      "Epoch 20/100\n",
      "1/1 [==============================] - 0s 8ms/step - loss: 7.0446 - mae: 7.0446\n",
      "Epoch 21/100\n",
      "1/1 [==============================] - 0s 7ms/step - loss: 7.0229 - mae: 7.0229\n",
      "Epoch 22/100\n",
      "1/1 [==============================] - 0s 8ms/step - loss: 7.0011 - mae: 7.0011\n",
      "Epoch 23/100\n",
      "1/1 [==============================] - 0s 12ms/step - loss: 6.9792 - mae: 6.9792\n",
      "Epoch 24/100\n",
      "1/1 [==============================] - 0s 9ms/step - loss: 6.9573 - mae: 6.9573\n",
      "Epoch 25/100\n",
      "1/1 [==============================] - 0s 6ms/step - loss: 6.9352 - mae: 6.9352\n",
      "Epoch 26/100\n",
      "1/1 [==============================] - 0s 7ms/step - loss: 6.9217 - mae: 6.9217\n",
      "Epoch 27/100\n",
      "1/1 [==============================] - 0s 7ms/step - loss: 6.9052 - mae: 6.9052\n",
      "Epoch 28/100\n",
      "1/1 [==============================] - 0s 6ms/step - loss: 6.8835 - mae: 6.8835\n",
      "Epoch 29/100\n",
      "1/1 [==============================] - 0s 7ms/step - loss: 6.8617 - mae: 6.8617\n",
      "Epoch 30/100\n",
      "1/1 [==============================] - 0s 28ms/step - loss: 6.8397 - mae: 6.8397\n",
      "Epoch 31/100\n",
      "1/1 [==============================] - 0s 6ms/step - loss: 6.8177 - mae: 6.8177\n",
      "Epoch 32/100\n",
      "1/1 [==============================] - 0s 7ms/step - loss: 6.7955 - mae: 6.7955\n",
      "Epoch 33/100\n",
      "1/1 [==============================] - 0s 9ms/step - loss: 6.7732 - mae: 6.7732\n",
      "Epoch 34/100\n",
      "1/1 [==============================] - 0s 6ms/step - loss: 6.7508 - mae: 6.7508\n",
      "Epoch 35/100\n",
      "1/1 [==============================] - 0s 5ms/step - loss: 6.7283 - mae: 6.7283\n",
      "Epoch 36/100\n",
      "1/1 [==============================] - 0s 8ms/step - loss: 6.7057 - mae: 6.7057\n",
      "Epoch 37/100\n",
      "1/1 [==============================] - 0s 8ms/step - loss: 6.6829 - mae: 6.6829\n",
      "Epoch 38/100\n",
      "1/1 [==============================] - 0s 8ms/step - loss: 6.6600 - mae: 6.6600\n",
      "Epoch 39/100\n",
      "1/1 [==============================] - 0s 15ms/step - loss: 6.6370 - mae: 6.6370\n",
      "Epoch 40/100\n",
      "1/1 [==============================] - 0s 6ms/step - loss: 6.6138 - mae: 6.6138\n",
      "Epoch 41/100\n",
      "1/1 [==============================] - 0s 8ms/step - loss: 6.5905 - mae: 6.5905\n",
      "Epoch 42/100\n",
      "1/1 [==============================] - 0s 6ms/step - loss: 6.5670 - mae: 6.5670\n",
      "Epoch 43/100\n",
      "1/1 [==============================] - 0s 8ms/step - loss: 6.5434 - mae: 6.5434\n",
      "Epoch 44/100\n",
      "1/1 [==============================] - 0s 9ms/step - loss: 6.5196 - mae: 6.5196\n",
      "Epoch 45/100\n",
      "1/1 [==============================] - 0s 8ms/step - loss: 6.4957 - mae: 6.4957\n",
      "Epoch 46/100\n",
      "1/1 [==============================] - 0s 7ms/step - loss: 6.4716 - mae: 6.4716\n",
      "Epoch 47/100\n",
      "1/1 [==============================] - 0s 8ms/step - loss: 6.4473 - mae: 6.4473\n",
      "Epoch 48/100\n",
      "1/1 [==============================] - 0s 7ms/step - loss: 6.4229 - mae: 6.4229\n",
      "Epoch 49/100\n",
      "1/1 [==============================] - 0s 11ms/step - loss: 6.3983 - mae: 6.3983\n",
      "Epoch 50/100\n",
      "1/1 [==============================] - 0s 8ms/step - loss: 6.3735 - mae: 6.3735\n",
      "Epoch 51/100\n",
      "1/1 [==============================] - 0s 8ms/step - loss: 6.3575 - mae: 6.3575\n",
      "Epoch 52/100\n",
      "1/1 [==============================] - 0s 9ms/step - loss: 6.3450 - mae: 6.3450\n",
      "Epoch 53/100\n",
      "1/1 [==============================] - 0s 6ms/step - loss: 6.3203 - mae: 6.3203\n",
      "Epoch 54/100\n",
      "1/1 [==============================] - 0s 6ms/step - loss: 6.2953 - mae: 6.2953\n",
      "Epoch 55/100\n",
      "1/1 [==============================] - 0s 8ms/step - loss: 6.2702 - mae: 6.2702\n",
      "Epoch 56/100\n",
      "1/1 [==============================] - 0s 7ms/step - loss: 6.2448 - mae: 6.2448\n",
      "Epoch 57/100\n",
      "1/1 [==============================] - 0s 10ms/step - loss: 6.2192 - mae: 6.2192\n",
      "Epoch 58/100\n",
      "1/1 [==============================] - 0s 9ms/step - loss: 6.1935 - mae: 6.1935\n",
      "Epoch 59/100\n",
      "1/1 [==============================] - 0s 6ms/step - loss: 6.1675 - mae: 6.1675\n",
      "Epoch 60/100\n",
      "1/1 [==============================] - 0s 8ms/step - loss: 6.1413 - mae: 6.1413\n",
      "Epoch 61/100\n",
      "1/1 [==============================] - 0s 9ms/step - loss: 6.1148 - mae: 6.1148\n",
      "Epoch 62/100\n",
      "1/1 [==============================] - 0s 8ms/step - loss: 6.0882 - mae: 6.0882\n",
      "Epoch 63/100\n",
      "1/1 [==============================] - 0s 7ms/step - loss: 6.0613 - mae: 6.0613\n",
      "Epoch 64/100\n",
      "1/1 [==============================] - 0s 11ms/step - loss: 6.0341 - mae: 6.0341\n",
      "Epoch 65/100\n",
      "1/1 [==============================] - 0s 11ms/step - loss: 6.0068 - mae: 6.0068\n",
      "Epoch 66/100\n",
      "1/1 [==============================] - 0s 6ms/step - loss: 5.9791 - mae: 5.9791\n",
      "Epoch 67/100\n",
      "1/1 [==============================] - 0s 7ms/step - loss: 5.9513 - mae: 5.9513\n",
      "Epoch 68/100\n",
      "1/1 [==============================] - 0s 11ms/step - loss: 5.9231 - mae: 5.9231\n",
      "Epoch 69/100\n",
      "1/1 [==============================] - 0s 6ms/step - loss: 5.8947 - mae: 5.8947\n",
      "Epoch 70/100\n",
      "1/1 [==============================] - 0s 7ms/step - loss: 5.8763 - mae: 5.8763\n",
      "Epoch 71/100\n",
      "1/1 [==============================] - 0s 6ms/step - loss: 5.8738 - mae: 5.8738\n",
      "Epoch 72/100\n",
      "1/1 [==============================] - 0s 7ms/step - loss: 5.9856 - mae: 5.9856\n",
      "Epoch 73/100\n",
      "1/1 [==============================] - 0s 13ms/step - loss: 5.8031 - mae: 5.8031\n",
      "Epoch 74/100\n",
      "1/1 [==============================] - 0s 8ms/step - loss: 5.7738 - mae: 5.7738\n",
      "Epoch 75/100\n",
      "1/1 [==============================] - 0s 7ms/step - loss: 5.7442 - mae: 5.7442\n",
      "Epoch 76/100\n",
      "1/1 [==============================] - 0s 6ms/step - loss: 5.7144 - mae: 5.7144\n",
      "Epoch 77/100\n",
      "1/1 [==============================] - 0s 7ms/step - loss: 5.6842 - mae: 5.6842\n",
      "Epoch 78/100\n",
      "1/1 [==============================] - 0s 10ms/step - loss: 5.6538 - mae: 5.6538\n",
      "Epoch 79/100\n",
      "1/1 [==============================] - 0s 10ms/step - loss: 5.6230 - mae: 5.6230\n",
      "Epoch 80/100\n",
      "1/1 [==============================] - 0s 10ms/step - loss: 5.5919 - mae: 5.5919\n",
      "Epoch 81/100\n",
      "1/1 [==============================] - 0s 7ms/step - loss: 5.5605 - mae: 5.5605\n",
      "Epoch 82/100\n",
      "1/1 [==============================] - 0s 6ms/step - loss: 5.5287 - mae: 5.5287\n",
      "Epoch 83/100\n",
      "1/1 [==============================] - 0s 7ms/step - loss: 5.5201 - mae: 5.5201\n",
      "Epoch 84/100\n",
      "1/1 [==============================] - 0s 7ms/step - loss: 5.5384 - mae: 5.5384\n",
      "Epoch 85/100\n",
      "1/1 [==============================] - 0s 10ms/step - loss: 5.6340 - mae: 5.6340\n",
      "Epoch 86/100\n",
      "1/1 [==============================] - 0s 7ms/step - loss: 5.4264 - mae: 5.4264\n",
      "Epoch 87/100\n",
      "1/1 [==============================] - 0s 6ms/step - loss: 5.3935 - mae: 5.3935\n",
      "Epoch 88/100\n",
      "1/1 [==============================] - 0s 8ms/step - loss: 5.3602 - mae: 5.3602\n",
      "Epoch 89/100\n",
      "1/1 [==============================] - 0s 7ms/step - loss: 5.3265 - mae: 5.3265\n",
      "Epoch 90/100\n",
      "1/1 [==============================] - 0s 6ms/step - loss: 5.2925 - mae: 5.2925\n",
      "Epoch 91/100\n",
      "1/1 [==============================] - 0s 8ms/step - loss: 5.2581 - mae: 5.2581\n",
      "Epoch 92/100\n",
      "1/1 [==============================] - 0s 7ms/step - loss: 5.2233 - mae: 5.2233\n",
      "Epoch 93/100\n",
      "1/1 [==============================] - 0s 7ms/step - loss: 5.1881 - mae: 5.1881\n",
      "Epoch 94/100\n",
      "1/1 [==============================] - 0s 6ms/step - loss: 5.1559 - mae: 5.1559\n",
      "Epoch 95/100\n",
      "1/1 [==============================] - 0s 8ms/step - loss: 5.2690 - mae: 5.2690\n",
      "Epoch 96/100\n",
      "1/1 [==============================] - 0s 6ms/step - loss: 5.2731 - mae: 5.2731\n",
      "Epoch 97/100\n",
      "1/1 [==============================] - 0s 6ms/step - loss: 5.0743 - mae: 5.0743\n",
      "Epoch 98/100\n",
      "1/1 [==============================] - 0s 7ms/step - loss: 5.0376 - mae: 5.0376\n",
      "Epoch 99/100\n",
      "1/1 [==============================] - 0s 8ms/step - loss: 5.0005 - mae: 5.0005\n",
      "Epoch 100/100\n",
      "1/1 [==============================] - 0s 9ms/step - loss: 4.9629 - mae: 4.9629\n"
     ]
    },
    {
     "data": {
      "text/plain": [
       "<keras.callbacks.History at 0x179b0a32da0>"
      ]
     },
     "execution_count": 37,
     "metadata": {},
     "output_type": "execute_result"
    }
   ],
   "source": [
    "# 1. Create a model (this time with an extra hidden layer with 100 hidden units)\n",
    "\n",
    "model = tf.keras.Sequential()\n",
    "model.add(tf.keras.layers.Dense(100, activation=None))\n",
    "model.add(tf.keras.layers.Dense(1))\n",
    "\n",
    "# 2. Compile the model\n",
    "model.compile(loss = tf.keras.losses.mae,\n",
    "                optimizer = tf.keras.optimizers.SGD(),\n",
    "                metrics = [\"mae\"])\n",
    "\n",
    "# 3. Fit the model\n",
    "\n",
    "model.fit(tf.expand_dims(X, axis = -1), y, epochs = 100)"
   ]
  },
  {
   "cell_type": "code",
   "execution_count": 38,
   "metadata": {},
   "outputs": [
    {
     "name": "stdout",
     "output_type": "stream",
     "text": [
      "WARNING:tensorflow:6 out of the last 6 calls to <function Model.make_predict_function.<locals>.predict_function at 0x00000179B27F1A20> triggered tf.function retracing. Tracing is expensive and the excessive number of tracings could be due to (1) creating @tf.function repeatedly in a loop, (2) passing tensors with different shapes, (3) passing Python objects instead of tensors. For (1), please define your @tf.function outside of the loop. For (2), @tf.function has reduce_retracing=True option that can avoid unnecessary retracing. For (3), please refer to https://www.tensorflow.org/guide/function#controlling_retracing and https://www.tensorflow.org/api_docs/python/tf/function for  more details.\n",
      "1/1 [==============================] - 0s 138ms/step\n"
     ]
    },
    {
     "data": {
      "text/plain": [
       "array([[29.716785]], dtype=float32)"
      ]
     },
     "execution_count": 38,
     "metadata": {},
     "output_type": "execute_result"
    }
   ],
   "source": [
    "model.predict([17.])"
   ]
  },
  {
   "cell_type": "code",
   "execution_count": 44,
   "metadata": {},
   "outputs": [
    {
     "name": "stdout",
     "output_type": "stream",
     "text": [
      "Epoch 1/100\n",
      "1/1 [==============================] - 1s 823ms/step - loss: 13.2573 - mae: 13.2573\n",
      "Epoch 2/100\n",
      "1/1 [==============================] - 0s 9ms/step - loss: 12.5838 - mae: 12.5838\n",
      "Epoch 3/100\n",
      "1/1 [==============================] - 0s 7ms/step - loss: 11.9128 - mae: 11.9128\n",
      "Epoch 4/100\n",
      "1/1 [==============================] - 0s 6ms/step - loss: 11.2431 - mae: 11.2431\n",
      "Epoch 5/100\n",
      "1/1 [==============================] - 0s 9ms/step - loss: 10.5732 - mae: 10.5732\n",
      "Epoch 6/100\n",
      "1/1 [==============================] - 0s 8ms/step - loss: 9.9004 - mae: 9.9004\n",
      "Epoch 7/100\n",
      "1/1 [==============================] - 0s 8ms/step - loss: 9.2220 - mae: 9.2220\n",
      "Epoch 8/100\n",
      "1/1 [==============================] - 0s 6ms/step - loss: 8.5346 - mae: 8.5346\n",
      "Epoch 9/100\n",
      "1/1 [==============================] - 0s 7ms/step - loss: 7.8344 - mae: 7.8344\n",
      "Epoch 10/100\n",
      "1/1 [==============================] - 0s 10ms/step - loss: 7.1177 - mae: 7.1177\n",
      "Epoch 11/100\n",
      "1/1 [==============================] - 0s 9ms/step - loss: 6.7180 - mae: 6.7180\n",
      "Epoch 12/100\n",
      "1/1 [==============================] - 0s 11ms/step - loss: 6.8883 - mae: 6.8883\n",
      "Epoch 13/100\n",
      "1/1 [==============================] - 0s 7ms/step - loss: 7.1561 - mae: 7.1561\n",
      "Epoch 14/100\n",
      "1/1 [==============================] - 0s 6ms/step - loss: 7.3610 - mae: 7.3610\n",
      "Epoch 15/100\n",
      "1/1 [==============================] - 0s 8ms/step - loss: 7.4613 - mae: 7.4613\n",
      "Epoch 16/100\n",
      "1/1 [==============================] - 0s 8ms/step - loss: 7.3741 - mae: 7.3741\n",
      "Epoch 17/100\n",
      "1/1 [==============================] - 0s 6ms/step - loss: 7.1455 - mae: 7.1455\n",
      "Epoch 18/100\n",
      "1/1 [==============================] - 0s 9ms/step - loss: 6.8928 - mae: 6.8928\n",
      "Epoch 19/100\n",
      "1/1 [==============================] - 0s 7ms/step - loss: 6.6574 - mae: 6.6574\n",
      "Epoch 20/100\n",
      "1/1 [==============================] - 0s 9ms/step - loss: 6.4062 - mae: 6.4062\n",
      "Epoch 21/100\n",
      "1/1 [==============================] - 0s 8ms/step - loss: 6.1431 - mae: 6.1431\n",
      "Epoch 22/100\n",
      "1/1 [==============================] - 0s 10ms/step - loss: 6.0711 - mae: 6.0711\n",
      "Epoch 23/100\n",
      "1/1 [==============================] - 0s 7ms/step - loss: 6.0294 - mae: 6.0294\n",
      "Epoch 24/100\n",
      "1/1 [==============================] - 0s 7ms/step - loss: 6.1734 - mae: 6.1734\n",
      "Epoch 25/100\n",
      "1/1 [==============================] - 0s 7ms/step - loss: 6.2366 - mae: 6.2366\n",
      "Epoch 26/100\n",
      "1/1 [==============================] - 0s 9ms/step - loss: 6.2014 - mae: 6.2014\n",
      "Epoch 27/100\n",
      "1/1 [==============================] - 0s 8ms/step - loss: 6.0804 - mae: 6.0804\n",
      "Epoch 28/100\n",
      "1/1 [==============================] - 0s 8ms/step - loss: 5.8831 - mae: 5.8831\n",
      "Epoch 29/100\n",
      "1/1 [==============================] - 0s 11ms/step - loss: 5.6163 - mae: 5.6163\n",
      "Epoch 30/100\n",
      "1/1 [==============================] - 0s 11ms/step - loss: 5.4593 - mae: 5.4593\n",
      "Epoch 31/100\n",
      "1/1 [==============================] - 0s 8ms/step - loss: 5.3442 - mae: 5.3442\n",
      "Epoch 32/100\n",
      "1/1 [==============================] - 0s 8ms/step - loss: 5.3164 - mae: 5.3164\n",
      "Epoch 33/100\n",
      "1/1 [==============================] - 0s 7ms/step - loss: 5.3219 - mae: 5.3219\n",
      "Epoch 34/100\n",
      "1/1 [==============================] - 0s 8ms/step - loss: 5.2849 - mae: 5.2849\n",
      "Epoch 35/100\n",
      "1/1 [==============================] - 0s 11ms/step - loss: 5.2085 - mae: 5.2085\n",
      "Epoch 36/100\n",
      "1/1 [==============================] - 0s 9ms/step - loss: 5.0956 - mae: 5.0956\n",
      "Epoch 37/100\n",
      "1/1 [==============================] - 0s 7ms/step - loss: 4.9489 - mae: 4.9489\n",
      "Epoch 38/100\n",
      "1/1 [==============================] - 0s 7ms/step - loss: 4.7713 - mae: 4.7713\n",
      "Epoch 39/100\n",
      "1/1 [==============================] - 0s 7ms/step - loss: 4.5652 - mae: 4.5652\n",
      "Epoch 40/100\n",
      "1/1 [==============================] - 0s 7ms/step - loss: 4.4294 - mae: 4.4294\n",
      "Epoch 41/100\n",
      "1/1 [==============================] - 0s 6ms/step - loss: 4.3308 - mae: 4.3308\n",
      "Epoch 42/100\n",
      "1/1 [==============================] - 0s 6ms/step - loss: 4.2476 - mae: 4.2476\n",
      "Epoch 43/100\n",
      "1/1 [==============================] - 0s 12ms/step - loss: 4.1597 - mae: 4.1597\n",
      "Epoch 44/100\n",
      "1/1 [==============================] - 0s 6ms/step - loss: 3.9614 - mae: 3.9614\n",
      "Epoch 45/100\n",
      "1/1 [==============================] - 0s 7ms/step - loss: 3.7924 - mae: 3.7924\n",
      "Epoch 46/100\n",
      "1/1 [==============================] - 0s 9ms/step - loss: 3.6244 - mae: 3.6244\n",
      "Epoch 47/100\n",
      "1/1 [==============================] - 0s 8ms/step - loss: 3.5311 - mae: 3.5311\n",
      "Epoch 48/100\n",
      "1/1 [==============================] - 0s 7ms/step - loss: 3.4287 - mae: 3.4287\n",
      "Epoch 49/100\n",
      "1/1 [==============================] - 0s 8ms/step - loss: 3.2758 - mae: 3.2758\n",
      "Epoch 50/100\n",
      "1/1 [==============================] - 0s 13ms/step - loss: 3.0746 - mae: 3.0746\n",
      "Epoch 51/100\n",
      "1/1 [==============================] - 0s 8ms/step - loss: 2.8271 - mae: 2.8271\n",
      "Epoch 52/100\n",
      "1/1 [==============================] - 0s 10ms/step - loss: 2.6062 - mae: 2.6062\n",
      "Epoch 53/100\n",
      "1/1 [==============================] - 0s 9ms/step - loss: 2.4322 - mae: 2.4322\n",
      "Epoch 54/100\n",
      "1/1 [==============================] - 0s 7ms/step - loss: 2.2506 - mae: 2.2506\n",
      "Epoch 55/100\n",
      "1/1 [==============================] - 0s 6ms/step - loss: 1.9983 - mae: 1.9983\n",
      "Epoch 56/100\n",
      "1/1 [==============================] - 0s 9ms/step - loss: 1.7739 - mae: 1.7739\n",
      "Epoch 57/100\n",
      "1/1 [==============================] - 0s 8ms/step - loss: 1.5704 - mae: 1.5704\n",
      "Epoch 58/100\n",
      "1/1 [==============================] - 0s 8ms/step - loss: 1.3039 - mae: 1.3039\n",
      "Epoch 59/100\n",
      "1/1 [==============================] - 0s 7ms/step - loss: 1.0588 - mae: 1.0588\n",
      "Epoch 60/100\n",
      "1/1 [==============================] - 0s 8ms/step - loss: 0.7926 - mae: 0.7926\n",
      "Epoch 61/100\n",
      "1/1 [==============================] - 0s 9ms/step - loss: 0.5168 - mae: 0.5168\n",
      "Epoch 62/100\n",
      "1/1 [==============================] - 0s 6ms/step - loss: 0.2580 - mae: 0.2580\n",
      "Epoch 63/100\n",
      "1/1 [==============================] - 0s 6ms/step - loss: 0.1599 - mae: 0.1599\n",
      "Epoch 64/100\n",
      "1/1 [==============================] - 0s 8ms/step - loss: 0.3268 - mae: 0.3268\n",
      "Epoch 65/100\n",
      "1/1 [==============================] - 0s 6ms/step - loss: 0.4767 - mae: 0.4767\n",
      "Epoch 66/100\n",
      "1/1 [==============================] - 0s 5ms/step - loss: 0.6287 - mae: 0.6287\n",
      "Epoch 67/100\n",
      "1/1 [==============================] - 0s 7ms/step - loss: 0.6752 - mae: 0.6752\n",
      "Epoch 68/100\n",
      "1/1 [==============================] - 0s 11ms/step - loss: 0.7310 - mae: 0.7310\n",
      "Epoch 69/100\n",
      "1/1 [==============================] - 0s 5ms/step - loss: 0.6731 - mae: 0.6731\n",
      "Epoch 70/100\n",
      "1/1 [==============================] - 0s 6ms/step - loss: 0.6205 - mae: 0.6205\n",
      "Epoch 71/100\n",
      "1/1 [==============================] - 0s 9ms/step - loss: 0.5270 - mae: 0.5270\n",
      "Epoch 72/100\n",
      "1/1 [==============================] - 0s 6ms/step - loss: 0.4139 - mae: 0.4139\n",
      "Epoch 73/100\n",
      "1/1 [==============================] - 0s 6ms/step - loss: 0.2749 - mae: 0.2749\n",
      "Epoch 74/100\n",
      "1/1 [==============================] - 0s 8ms/step - loss: 0.1425 - mae: 0.1425\n",
      "Epoch 75/100\n",
      "1/1 [==============================] - 0s 6ms/step - loss: 0.1786 - mae: 0.1786\n",
      "Epoch 76/100\n",
      "1/1 [==============================] - 0s 7ms/step - loss: 0.1939 - mae: 0.1939\n",
      "Epoch 77/100\n",
      "1/1 [==============================] - 0s 7ms/step - loss: 0.2833 - mae: 0.2833\n",
      "Epoch 78/100\n",
      "1/1 [==============================] - 0s 8ms/step - loss: 0.3302 - mae: 0.3302\n",
      "Epoch 79/100\n",
      "1/1 [==============================] - 0s 8ms/step - loss: 0.3612 - mae: 0.3612\n",
      "Epoch 80/100\n",
      "1/1 [==============================] - 0s 7ms/step - loss: 0.3644 - mae: 0.3644\n",
      "Epoch 81/100\n",
      "1/1 [==============================] - 0s 8ms/step - loss: 0.2945 - mae: 0.2945\n",
      "Epoch 82/100\n",
      "1/1 [==============================] - 0s 10ms/step - loss: 0.2658 - mae: 0.2658\n",
      "Epoch 83/100\n",
      "1/1 [==============================] - 0s 7ms/step - loss: 0.1404 - mae: 0.1404\n",
      "Epoch 84/100\n",
      "1/1 [==============================] - 0s 7ms/step - loss: 0.2269 - mae: 0.2269\n",
      "Epoch 85/100\n",
      "1/1 [==============================] - 0s 7ms/step - loss: 0.1874 - mae: 0.1874\n",
      "Epoch 86/100\n",
      "1/1 [==============================] - 0s 10ms/step - loss: 0.2791 - mae: 0.2791\n",
      "Epoch 87/100\n",
      "1/1 [==============================] - 0s 7ms/step - loss: 0.2932 - mae: 0.2932\n",
      "Epoch 88/100\n",
      "1/1 [==============================] - 0s 8ms/step - loss: 0.2909 - mae: 0.2909\n",
      "Epoch 89/100\n",
      "1/1 [==============================] - 0s 9ms/step - loss: 0.2787 - mae: 0.2787\n",
      "Epoch 90/100\n",
      "1/1 [==============================] - 0s 8ms/step - loss: 0.1928 - mae: 0.1928\n",
      "Epoch 91/100\n",
      "1/1 [==============================] - 0s 11ms/step - loss: 0.1018 - mae: 0.1018\n",
      "Epoch 92/100\n",
      "1/1 [==============================] - 0s 15ms/step - loss: 0.2131 - mae: 0.2131\n",
      "Epoch 93/100\n",
      "1/1 [==============================] - 0s 10ms/step - loss: 0.1587 - mae: 0.1587\n",
      "Epoch 94/100\n",
      "1/1 [==============================] - 0s 10ms/step - loss: 0.2531 - mae: 0.2531\n",
      "Epoch 95/100\n",
      "1/1 [==============================] - 0s 7ms/step - loss: 0.3484 - mae: 0.3484\n",
      "Epoch 96/100\n",
      "1/1 [==============================] - 0s 7ms/step - loss: 0.2385 - mae: 0.2385\n",
      "Epoch 97/100\n",
      "1/1 [==============================] - 0s 8ms/step - loss: 0.1801 - mae: 0.1801\n",
      "Epoch 98/100\n",
      "1/1 [==============================] - 0s 11ms/step - loss: 0.1808 - mae: 0.1808\n",
      "Epoch 99/100\n",
      "1/1 [==============================] - 0s 8ms/step - loss: 0.0961 - mae: 0.0961\n",
      "Epoch 100/100\n",
      "1/1 [==============================] - 0s 9ms/step - loss: 0.0683 - mae: 0.0683\n"
     ]
    },
    {
     "data": {
      "text/plain": [
       "<keras.callbacks.History at 0x179b3a821a0>"
      ]
     },
     "execution_count": 44,
     "metadata": {},
     "output_type": "execute_result"
    }
   ],
   "source": [
    "# 1. Create a model (this time with an extra hidden layer with 100 hidden units)\n",
    "\n",
    "model = tf.keras.Sequential()\n",
    "model.add(tf.keras.layers.Dense(50, activation=None))\n",
    "model.add(tf.keras.layers.Dense(1))\n",
    "\n",
    "# 2. Compile the model\n",
    "model.compile(loss = tf.keras.losses.mae,\n",
    "                optimizer = tf.keras.optimizers.Adam(learning_rate = 0.01),\n",
    "                metrics = [\"mae\"])\n",
    "\n",
    "# 3. Fit the model\n",
    "\n",
    "model.fit(tf.expand_dims(X, axis = -1), y, epochs = 100)"
   ]
  },
  {
   "cell_type": "code",
   "execution_count": 45,
   "metadata": {},
   "outputs": [
    {
     "name": "stdout",
     "output_type": "stream",
     "text": [
      "1/1 [==============================] - 0s 162ms/step\n"
     ]
    },
    {
     "data": {
      "text/plain": [
       "array([[27.48981]], dtype=float32)"
      ]
     },
     "execution_count": 45,
     "metadata": {},
     "output_type": "execute_result"
    }
   ],
   "source": [
    "model.predict([17.])"
   ]
  },
  {
   "cell_type": "markdown",
   "metadata": {},
   "source": [
    "## The learning rate is the most important hyperparameter of many different neural networks. "
   ]
  },
  {
   "cell_type": "code",
   "execution_count": null,
   "metadata": {},
   "outputs": [],
   "source": []
  }
 ],
 "metadata": {
  "kernelspec": {
   "display_name": "Python 3.10.3 64-bit",
   "language": "python",
   "name": "python3"
  },
  "language_info": {
   "codemirror_mode": {
    "name": "ipython",
    "version": 3
   },
   "file_extension": ".py",
   "mimetype": "text/x-python",
   "name": "python",
   "nbconvert_exporter": "python",
   "pygments_lexer": "ipython3",
   "version": "3.10.3"
  },
  "orig_nbformat": 4,
  "vscode": {
   "interpreter": {
    "hash": "2d436155cd8e9b45e10cf2c331e8b7d009ce9655ba26437721181731940346e6"
   }
  }
 },
 "nbformat": 4,
 "nbformat_minor": 2
}
