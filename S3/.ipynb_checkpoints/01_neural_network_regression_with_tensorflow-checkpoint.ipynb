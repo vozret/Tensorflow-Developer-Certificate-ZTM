{
 "cells": [
  {
   "cell_type": "markdown",
   "metadata": {},
   "source": [
    "# Introduction to Regression with Neural Networks in TensorFlow\n",
    "\n",
    "Predicting a numerical variable based on some other combination of vairables."
   ]
  },
  {
   "cell_type": "code",
   "execution_count": 1,
   "metadata": {},
   "outputs": [],
   "source": [
    "# conda install -c anaconda graphviz"
   ]
  },
  {
   "cell_type": "code",
   "execution_count": 2,
   "metadata": {},
   "outputs": [],
   "source": [
    "# pip install pydot"
   ]
  },
  {
   "cell_type": "code",
   "execution_count": 3,
   "metadata": {},
   "outputs": [],
   "source": [
    "# pip install tensorflow"
   ]
  },
  {
   "cell_type": "code",
   "execution_count": 4,
   "metadata": {},
   "outputs": [],
   "source": [
    "# pip install pandas"
   ]
  },
  {
   "cell_type": "code",
   "execution_count": 5,
   "metadata": {},
   "outputs": [],
   "source": [
    "# pip install matplotlib"
   ]
  },
  {
   "cell_type": "code",
   "execution_count": 6,
   "metadata": {},
   "outputs": [
    {
     "name": "stdout",
     "output_type": "stream",
     "text": [
      "2.11.0\n"
     ]
    }
   ],
   "source": [
    "import tensorflow as tf\n",
    "print(tf.__version__)"
   ]
  },
  {
   "cell_type": "code",
   "execution_count": 7,
   "metadata": {},
   "outputs": [],
   "source": [
    "## Create data to view and fit\n",
    "import numpy as np\n",
    "import pandas as pd\n",
    "import matplotlib.pyplot as plt"
   ]
  },
  {
   "cell_type": "code",
   "execution_count": 8,
   "metadata": {},
   "outputs": [
    {
     "data": {
      "text/plain": [
       "<matplotlib.collections.PathCollection at 0x117f43cdee0>"
      ]
     },
     "execution_count": 8,
     "metadata": {},
     "output_type": "execute_result"
    },
    {
     "data": {
      "image/png": "[encoded data removed]",
      "text/plain": [
       "<Figure size 640x480 with 1 Axes>"
      ]
     },
     "metadata": {},
     "output_type": "display_data"
    }
   ],
   "source": [
    "# create features\n",
    "X = np.array([-7., -4., -1., 2., 5., 8., 11., 14.])\n",
    "\n",
    "# create labels\n",
    "y = np.array([3., 6., 9., 12., 15., 18., 21., 24.])\n",
    "\n",
    "#visualize\n",
    "plt.scatter(X, y)"
   ]
  },
  {
   "cell_type": "code",
   "execution_count": 9,
   "metadata": {},
   "outputs": [
    {
     "data": {
      "text/plain": [
       "array([ 3.,  6.,  9., 12., 15., 18., 21., 24.])"
      ]
     },
     "execution_count": 9,
     "metadata": {},
     "output_type": "execute_result"
    }
   ],
   "source": [
    "X + 10"
   ]
  },
  {
   "cell_type": "code",
   "execution_count": 10,
   "metadata": {},
   "outputs": [
    {
     "data": {
      "text/plain": [
       "array([ True,  True,  True,  True,  True,  True,  True,  True])"
      ]
     },
     "execution_count": 10,
     "metadata": {},
     "output_type": "execute_result"
    }
   ],
   "source": [
    "# function we want our nn to learn\n",
    "y == X + 10"
   ]
  },
  {
   "cell_type": "markdown",
   "metadata": {},
   "source": [
    "### input and output shapes"
   ]
  },
  {
   "cell_type": "code",
   "execution_count": 11,
   "metadata": {},
   "outputs": [
    {
     "data": {
      "text/plain": [
       "(<tf.Tensor: shape=(3,), dtype=string, numpy=array([b'bedroom', b'bathroom', b'garage'], dtype=object)>,\n",
       " <tf.Tensor: shape=(1,), dtype=int32, numpy=array([939700])>)"
      ]
     },
     "execution_count": 11,
     "metadata": {},
     "output_type": "execute_result"
    }
   ],
   "source": [
    "# Create a demo tensor for our housing price prediction problem\n",
    "\n",
    "house_info = tf.constant([\"bedroom\", \"bathroom\", \"garage\"])\n",
    "house_price = tf.constant([939700])\n",
    "\n",
    "house_info, house_price"
   ]
  },
  {
   "cell_type": "code",
   "execution_count": 12,
   "metadata": {},
   "outputs": [
    {
     "data": {
      "text/plain": [
       "(-7.0, 3.0)"
      ]
     },
     "execution_count": 12,
     "metadata": {},
     "output_type": "execute_result"
    }
   ],
   "source": [
    "X[0], y[0]"
   ]
  },
  {
   "cell_type": "code",
   "execution_count": 13,
   "metadata": {},
   "outputs": [
    {
     "data": {
      "text/plain": [
       "(-4.0, 6.0)"
      ]
     },
     "execution_count": 13,
     "metadata": {},
     "output_type": "execute_result"
    }
   ],
   "source": [
    "X[1], y[1]"
   ]
  },
  {
   "cell_type": "code",
   "execution_count": 14,
   "metadata": {},
   "outputs": [
    {
     "data": {
      "text/plain": [
       "((8,), (8,))"
      ]
     },
     "execution_count": 14,
     "metadata": {},
     "output_type": "execute_result"
    }
   ],
   "source": [
    "input_shape = X.shape\n",
    "output_shape = y.shape\n",
    "\n",
    "input_shape, output_shape"
   ]
  },
  {
   "cell_type": "code",
   "execution_count": 15,
   "metadata": {},
   "outputs": [
    {
     "data": {
      "text/plain": [
       "((), ())"
      ]
     },
     "execution_count": 15,
     "metadata": {},
     "output_type": "execute_result"
    }
   ],
   "source": [
    "input_shape = X[0].shape\n",
    "output_shape = y[0].shape\n",
    "\n",
    "input_shape, output_shape"
   ]
  },
  {
   "cell_type": "code",
   "execution_count": 16,
   "metadata": {},
   "outputs": [
    {
     "data": {
      "text/plain": [
       "0"
      ]
     },
     "execution_count": 16,
     "metadata": {},
     "output_type": "execute_result"
    }
   ],
   "source": [
    "X[0].ndim"
   ]
  },
  {
   "cell_type": "code",
   "execution_count": 17,
   "metadata": {},
   "outputs": [
    {
     "data": {
      "text/plain": [
       "(-7.0, 3.0)"
      ]
     },
     "execution_count": 17,
     "metadata": {},
     "output_type": "execute_result"
    }
   ],
   "source": [
    "X[0], y[0]"
   ]
  },
  {
   "cell_type": "code",
   "execution_count": 18,
   "metadata": {},
   "outputs": [
    {
     "data": {
      "text/plain": [
       "(<tf.Tensor: shape=(8,), dtype=float64, numpy=array([-7., -4., -1.,  2.,  5.,  8., 11., 14.])>,\n",
       " <tf.Tensor: shape=(8,), dtype=float64, numpy=array([ 3.,  6.,  9., 12., 15., 18., 21., 24.])>)"
      ]
     },
     "execution_count": 18,
     "metadata": {},
     "output_type": "execute_result"
    }
   ],
   "source": [
    "# Turn our numpy arrays into tensors\n",
    "\n",
    "X = tf.constant(X)\n",
    "y = tf.constant(y)\n",
    "\n",
    "X, y"
   ]
  },
  {
   "cell_type": "code",
   "execution_count": 19,
   "metadata": {},
   "outputs": [
    {
     "data": {
      "text/plain": [
       "(TensorShape([]), TensorShape([]))"
      ]
     },
     "execution_count": 19,
     "metadata": {},
     "output_type": "execute_result"
    }
   ],
   "source": [
    "input_shape = X[0].shape\n",
    "output_shape = y[0].shape\n",
    "\n",
    "input_shape, output_shape"
   ]
  },
  {
   "cell_type": "code",
   "execution_count": 20,
   "metadata": {},
   "outputs": [
    {
     "data": {
      "text/plain": [
       "<matplotlib.collections.PathCollection at 0x117f4444370>"
      ]
     },
     "execution_count": 20,
     "metadata": {},
     "output_type": "execute_result"
    },
    {
     "data": {
      "image/png": "[encoded data removed]",
      "text/plain": [
       "<Figure size 640x480 with 1 Axes>"
      ]
     },
     "metadata": {},
     "output_type": "display_data"
    }
   ],
   "source": [
    "plt.scatter(X, y)"
   ]
  },
  {
   "cell_type": "markdown",
   "metadata": {},
   "source": [
    "## Steps in modelling with TensorFlow\n",
    "\n",
    "1. Creating a model - define the input and output layers, as weel as the hidden layers of a deep learning model\n",
    "2. Compiling a model - define the loss function (in other words, the function which tells our model how wrong it is) and the optimizer (tells our model how to improve the patterns its learning) and evaluation metrics (what we can use to interpret the performance of our model)\n",
    "3. Fitting a model - letting a model try to find patterns between X & y (features and labels)"
   ]
  },
  {
   "cell_type": "code",
   "execution_count": 21,
   "metadata": {},
   "outputs": [
    {
     "name": "stdout",
     "output_type": "stream",
     "text": [
      "Epoch 1/5\n",
      "1/1 [==============================] - 1s 847ms/step - loss: 12.8216 - mae: 12.8216\n",
      "Epoch 2/5\n",
      "1/1 [==============================] - 0s 16ms/step - loss: 12.6891 - mae: 12.6891\n",
      "Epoch 3/5\n",
      "1/1 [==============================] - 0s 0s/step - loss: 12.5566 - mae: 12.5566\n",
      "Epoch 4/5\n",
      "1/1 [==============================] - 0s 0s/step - loss: 12.4241 - mae: 12.4241\n",
      "Epoch 5/5\n",
      "1/1 [==============================] - 0s 6ms/step - loss: 12.2916 - mae: 12.2916\n"
     ]
    },
    {
     "data": {
      "text/plain": [
       "<keras.callbacks.History at 0x117f564ca60>"
      ]
     },
     "execution_count": 21,
     "metadata": {},
     "output_type": "execute_result"
    }
   ],
   "source": [
    "# Set random seed\n",
    "tf.random.set_seed(42)\n",
    "\n",
    "# 1. Create a model using Sequential API\n",
    "model = tf.keras.Sequential([\n",
    "    tf.keras.layers.Dense(1) # , input_shape = (1,)\n",
    "])\n",
    "\n",
    "# 2. Compile the model\n",
    "model.compile(loss = tf.keras.losses.mae, # mae -> mean absolute error\n",
    "                optimizer = tf.keras.optimizers.SGD(),\n",
    "                metrics = [\"mae\"]) # SGD -> stochastic gradient descent\n",
    "\n",
    "# 3. Fit the model\n",
    "model.fit(tf.expand_dims(X, axis = -1), y, epochs = 5)"
   ]
  },
  {
   "cell_type": "code",
   "execution_count": 22,
   "metadata": {},
   "outputs": [],
   "source": [
    "# model = tf.keras.Sequential()\n",
    "# model.add(tf.keras.layers.Dense(1))"
   ]
  },
  {
   "cell_type": "code",
   "execution_count": 23,
   "metadata": {},
   "outputs": [],
   "source": [
    "# # Optionally, the first layer can receive an 'input_shape' argument:\n",
    "# model = tf.keras.Sequential()\n",
    "# model.add(tf.keras.layers.Dense(8, input_shape = (16,)))\n",
    "# # After, we do automatic shape inference\n",
    "# model.add(tf.keras.layers.Dense(4))"
   ]
  },
  {
   "cell_type": "code",
   "execution_count": 24,
   "metadata": {},
   "outputs": [
    {
     "data": {
      "text/plain": [
       "(<tf.Tensor: shape=(8,), dtype=float32, numpy=array([-7., -4., -1.,  2.,  5.,  8., 11., 14.], dtype=float32)>,\n",
       " <tf.Tensor: shape=(8,), dtype=float32, numpy=array([ 3.,  6.,  9., 12., 15., 18., 21., 24.], dtype=float32)>)"
      ]
     },
     "execution_count": 24,
     "metadata": {},
     "output_type": "execute_result"
    }
   ],
   "source": [
    "# Turn our NumPy arrays into tensors with dtype float32\n",
    "X = tf.cast(tf.constant(X), dtype = tf.float32)\n",
    "y = tf.cast(tf.constant(y), dtype = tf.float32)\n",
    "\n",
    "X, y"
   ]
  },
  {
   "cell_type": "code",
   "execution_count": 25,
   "metadata": {},
   "outputs": [
    {
     "data": {
      "text/plain": [
       "(<tf.Tensor: shape=(8,), dtype=float32, numpy=array([-7., -4., -1.,  2.,  5.,  8., 11., 14.], dtype=float32)>,\n",
       " <tf.Tensor: shape=(8,), dtype=float32, numpy=array([ 3.,  6.,  9., 12., 15., 18., 21., 24.], dtype=float32)>)"
      ]
     },
     "execution_count": 25,
     "metadata": {},
     "output_type": "execute_result"
    }
   ],
   "source": [
    "# Check out X and y\n",
    "X, y"
   ]
  },
  {
   "cell_type": "code",
   "execution_count": 26,
   "metadata": {},
   "outputs": [
    {
     "name": "stdout",
     "output_type": "stream",
     "text": [
      "1/1 [==============================] - 0s 173ms/step\n"
     ]
    },
    {
     "data": {
      "text/plain": [
       "array([[6.3199806]], dtype=float32)"
      ]
     },
     "execution_count": 26,
     "metadata": {},
     "output_type": "execute_result"
    }
   ],
   "source": [
    "# try and make a prediction using our model\n",
    "model.predict([17.])"
   ]
  },
  {
   "cell_type": "code",
   "execution_count": 27,
   "metadata": {},
   "outputs": [],
   "source": [
    "# Another version of creating a model\n",
    "\n",
    "# model = tf.keras.Sequential()\n",
    "# model.add(tf.keras.layers.Dense(1))\n"
   ]
  },
  {
   "cell_type": "markdown",
   "metadata": {},
   "source": [
    "## STEPS IN IMPROVING A MODEL\n",
    "\n",
    "We can improve our model by altering the steps we took to create a model.\n",
    "\n",
    "1. **Creating a model** - here, we might add more layers, increase the number of hidden units (neurons) within each of the hidden layers, change the activation function of each layer.\n",
    "2. **Compiling a model** - here we might change the optimization function or perhaps the **learning rate** of the optimization function.\n",
    "3. **Fitting a model** - here we might fit a model for more **epochs** (leave it training for longer) or on more data (give the model more examples to learn from)"
   ]
  },
  {
   "cell_type": "code",
   "execution_count": 28,
   "metadata": {},
   "outputs": [
    {
     "name": "stdout",
     "output_type": "stream",
     "text": [
      "Epoch 1/100\n",
      "1/1 [==============================] - 1s 549ms/step - loss: 8.4497 - mae: 8.4497\n",
      "Epoch 2/100\n",
      "1/1 [==============================] - 0s 16ms/step - loss: 8.3172 - mae: 8.3172\n",
      "Epoch 3/100\n",
      "1/1 [==============================] - 0s 16ms/step - loss: 8.1847 - mae: 8.1847\n",
      "Epoch 4/100\n",
      "1/1 [==============================] - 0s 16ms/step - loss: 8.0522 - mae: 8.0522\n",
      "Epoch 5/100\n",
      "1/1 [==============================] - 0s 16ms/step - loss: 7.9197 - mae: 7.9197\n",
      "Epoch 6/100\n",
      "1/1 [==============================] - 0s 16ms/step - loss: 7.7872 - mae: 7.7872\n",
      "Epoch 7/100\n",
      "1/1 [==============================] - 0s 22ms/step - loss: 7.6547 - mae: 7.6547\n",
      "Epoch 8/100\n",
      "1/1 [==============================] - 0s 16ms/step - loss: 7.5222 - mae: 7.5222\n",
      "Epoch 9/100\n",
      "1/1 [==============================] - 0s 16ms/step - loss: 7.4400 - mae: 7.4400\n",
      "Epoch 10/100\n",
      "1/1 [==============================] - 0s 16ms/step - loss: 7.4344 - mae: 7.4344\n",
      "Epoch 11/100\n",
      "1/1 [==============================] - 0s 16ms/step - loss: 7.4288 - mae: 7.4288\n",
      "Epoch 12/100\n",
      "1/1 [==============================] - 0s 4ms/step - loss: 7.4231 - mae: 7.4231\n",
      "Epoch 13/100\n",
      "1/1 [==============================] - 0s 16ms/step - loss: 7.4175 - mae: 7.4175\n",
      "Epoch 14/100\n",
      "1/1 [==============================] - 0s 16ms/step - loss: 7.4119 - mae: 7.4119\n",
      "Epoch 15/100\n",
      "1/1 [==============================] - 0s 16ms/step - loss: 7.4062 - mae: 7.4062\n",
      "Epoch 16/100\n",
      "1/1 [==============================] - 0s 19ms/step - loss: 7.4006 - mae: 7.4006\n",
      "Epoch 17/100\n",
      "1/1 [==============================] - 0s 13ms/step - loss: 7.3950 - mae: 7.3950\n",
      "Epoch 18/100\n",
      "1/1 [==============================] - 0s 0s/step - loss: 7.3894 - mae: 7.3894\n",
      "Epoch 19/100\n",
      "1/1 [==============================] - 0s 16ms/step - loss: 7.3837 - mae: 7.3837\n",
      "Epoch 20/100\n",
      "1/1 [==============================] - 0s 16ms/step - loss: 7.3781 - mae: 7.3781\n",
      "Epoch 21/100\n",
      "1/1 [==============================] - 0s 25ms/step - loss: 7.3725 - mae: 7.3725\n",
      "Epoch 22/100\n",
      "1/1 [==============================] - 0s 16ms/step - loss: 7.3669 - mae: 7.3669\n",
      "Epoch 23/100\n",
      "1/1 [==============================] - 0s 16ms/step - loss: 7.3613 - mae: 7.3613\n",
      "Epoch 24/100\n",
      "1/1 [==============================] - 0s 16ms/step - loss: 7.3556 - mae: 7.3556\n",
      "Epoch 25/100\n",
      "1/1 [==============================] - 0s 0s/step - loss: 7.3500 - mae: 7.3500\n",
      "Epoch 26/100\n",
      "1/1 [==============================] - 0s 0s/step - loss: 7.3444 - mae: 7.3444\n",
      "Epoch 27/100\n",
      "1/1 [==============================] - 0s 0s/step - loss: 7.3387 - mae: 7.3387\n",
      "Epoch 28/100\n",
      "1/1 [==============================] - 0s 16ms/step - loss: 7.3331 - mae: 7.3331\n",
      "Epoch 29/100\n",
      "1/1 [==============================] - 0s 16ms/step - loss: 7.3275 - mae: 7.3275\n",
      "Epoch 30/100\n",
      "1/1 [==============================] - 0s 16ms/step - loss: 7.3219 - mae: 7.3219\n",
      "Epoch 31/100\n",
      "1/1 [==============================] - 0s 16ms/step - loss: 7.3163 - mae: 7.3163\n",
      "Epoch 32/100\n",
      "1/1 [==============================] - 0s 21ms/step - loss: 7.3106 - mae: 7.3106\n",
      "Epoch 33/100\n",
      "1/1 [==============================] - 0s 11ms/step - loss: 7.3050 - mae: 7.3050\n",
      "Epoch 34/100\n",
      "1/1 [==============================] - 0s 16ms/step - loss: 7.2994 - mae: 7.2994\n",
      "Epoch 35/100\n",
      "1/1 [==============================] - 0s 16ms/step - loss: 7.2938 - mae: 7.2938\n",
      "Epoch 36/100\n",
      "1/1 [==============================] - 0s 16ms/step - loss: 7.2881 - mae: 7.2881\n",
      "Epoch 37/100\n",
      "1/1 [==============================] - 0s 16ms/step - loss: 7.2825 - mae: 7.2825\n",
      "Epoch 38/100\n",
      "1/1 [==============================] - 0s 16ms/step - loss: 7.2769 - mae: 7.2769\n",
      "Epoch 39/100\n",
      "1/1 [==============================] - 0s 5ms/step - loss: 7.2713 - mae: 7.2713\n",
      "Epoch 40/100\n",
      "1/1 [==============================] - 0s 16ms/step - loss: 7.2656 - mae: 7.2656\n",
      "Epoch 41/100\n",
      "1/1 [==============================] - 0s 16ms/step - loss: 7.2600 - mae: 7.2600\n",
      "Epoch 42/100\n",
      "1/1 [==============================] - 0s 16ms/step - loss: 7.2544 - mae: 7.2544\n",
      "Epoch 43/100\n",
      "1/1 [==============================] - 0s 16ms/step - loss: 7.2488 - mae: 7.2488\n",
      "Epoch 44/100\n",
      "1/1 [==============================] - 0s 16ms/step - loss: 7.2431 - mae: 7.2431\n",
      "Epoch 45/100\n",
      "1/1 [==============================] - 0s 18ms/step - loss: 7.2375 - mae: 7.2375\n",
      "Epoch 46/100\n",
      "1/1 [==============================] - 0s 14ms/step - loss: 7.2319 - mae: 7.2319\n",
      "Epoch 47/100\n",
      "1/1 [==============================] - 0s 16ms/step - loss: 7.2263 - mae: 7.2263\n",
      "Epoch 48/100\n",
      "1/1 [==============================] - 0s 0s/step - loss: 7.2206 - mae: 7.2206\n",
      "Epoch 49/100\n",
      "1/1 [==============================] - 0s 16ms/step - loss: 7.2150 - mae: 7.2150\n",
      "Epoch 50/100\n",
      "1/1 [==============================] - 0s 16ms/step - loss: 7.2094 - mae: 7.2094\n",
      "Epoch 51/100\n",
      "1/1 [==============================] - 0s 8ms/step - loss: 7.2038 - mae: 7.2038\n",
      "Epoch 52/100\n",
      "1/1 [==============================] - 0s 16ms/step - loss: 7.1981 - mae: 7.1981\n",
      "Epoch 53/100\n",
      "1/1 [==============================] - 0s 16ms/step - loss: 7.1925 - mae: 7.1925\n",
      "Epoch 54/100\n",
      "1/1 [==============================] - 0s 16ms/step - loss: 7.1869 - mae: 7.1869\n",
      "Epoch 55/100\n",
      "1/1 [==============================] - 0s 16ms/step - loss: 7.1813 - mae: 7.1813\n",
      "Epoch 56/100\n",
      "1/1 [==============================] - 0s 16ms/step - loss: 7.1756 - mae: 7.1756\n",
      "Epoch 57/100\n",
      "1/1 [==============================] - 0s 16ms/step - loss: 7.1700 - mae: 7.1700\n",
      "Epoch 58/100\n",
      "1/1 [==============================] - 0s 16ms/step - loss: 7.1644 - mae: 7.1644\n",
      "Epoch 59/100\n",
      "1/1 [==============================] - 0s 0s/step - loss: 7.1588 - mae: 7.1588\n",
      "Epoch 60/100\n",
      "1/1 [==============================] - 0s 16ms/step - loss: 7.1531 - mae: 7.1531\n",
      "Epoch 61/100\n",
      "1/1 [==============================] - 0s 12ms/step - loss: 7.1475 - mae: 7.1475\n",
      "Epoch 62/100\n",
      "1/1 [==============================] - 0s 16ms/step - loss: 7.1419 - mae: 7.1419\n",
      "Epoch 63/100\n",
      "1/1 [==============================] - 0s 16ms/step - loss: 7.1362 - mae: 7.1362\n",
      "Epoch 64/100\n",
      "1/1 [==============================] - 0s 0s/step - loss: 7.1306 - mae: 7.1306\n",
      "Epoch 65/100\n",
      "1/1 [==============================] - 0s 16ms/step - loss: 7.1250 - mae: 7.1250\n",
      "Epoch 66/100\n",
      "1/1 [==============================] - 0s 16ms/step - loss: 7.1194 - mae: 7.1194\n",
      "Epoch 67/100\n",
      "1/1 [==============================] - 0s 16ms/step - loss: 7.1138 - mae: 7.1138\n",
      "Epoch 68/100\n",
      "1/1 [==============================] - 0s 16ms/step - loss: 7.1081 - mae: 7.1081\n",
      "Epoch 69/100\n",
      "1/1 [==============================] - 0s 16ms/step - loss: 7.1025 - mae: 7.1025\n",
      "Epoch 70/100\n",
      "1/1 [==============================] - 0s 16ms/step - loss: 7.0969 - mae: 7.0969\n",
      "Epoch 71/100\n",
      "1/1 [==============================] - 0s 17ms/step - loss: 7.0913 - mae: 7.0913\n",
      "Epoch 72/100\n",
      "1/1 [==============================] - 0s 15ms/step - loss: 7.0856 - mae: 7.0856\n",
      "Epoch 73/100\n",
      "1/1 [==============================] - 0s 16ms/step - loss: 7.0800 - mae: 7.0800\n",
      "Epoch 74/100\n",
      "1/1 [==============================] - 0s 16ms/step - loss: 7.0744 - mae: 7.0744\n",
      "Epoch 75/100\n",
      "1/1 [==============================] - 0s 16ms/step - loss: 7.0688 - mae: 7.0688\n",
      "Epoch 76/100\n",
      "1/1 [==============================] - 0s 23ms/step - loss: 7.0631 - mae: 7.0631\n",
      "Epoch 77/100\n",
      "1/1 [==============================] - 0s 9ms/step - loss: 7.0575 - mae: 7.0575\n",
      "Epoch 78/100\n",
      "1/1 [==============================] - 0s 0s/step - loss: 7.0519 - mae: 7.0519\n",
      "Epoch 79/100\n",
      "1/1 [==============================] - 0s 16ms/step - loss: 7.0463 - mae: 7.0463\n",
      "Epoch 80/100\n",
      "1/1 [==============================] - 0s 16ms/step - loss: 7.0406 - mae: 7.0406\n",
      "Epoch 81/100\n",
      "1/1 [==============================] - 0s 16ms/step - loss: 7.0350 - mae: 7.0350\n",
      "Epoch 82/100\n",
      "1/1 [==============================] - 0s 16ms/step - loss: 7.0294 - mae: 7.0294\n",
      "Epoch 83/100\n",
      "1/1 [==============================] - 0s 16ms/step - loss: 7.0238 - mae: 7.0238\n",
      "Epoch 84/100\n",
      "1/1 [==============================] - 0s 16ms/step - loss: 7.0181 - mae: 7.0181\n",
      "Epoch 85/100\n",
      "1/1 [==============================] - 0s 16ms/step - loss: 7.0125 - mae: 7.0125\n",
      "Epoch 86/100\n",
      "1/1 [==============================] - 0s 16ms/step - loss: 7.0069 - mae: 7.0069\n",
      "Epoch 87/100\n",
      "1/1 [==============================] - 0s 16ms/step - loss: 7.0013 - mae: 7.0013\n",
      "Epoch 88/100\n"
     ]
    },
    {
     "name": "stdout",
     "output_type": "stream",
     "text": [
      "1/1 [==============================] - 0s 19ms/step - loss: 6.9956 - mae: 6.9956\n",
      "Epoch 89/100\n",
      "1/1 [==============================] - 0s 13ms/step - loss: 6.9900 - mae: 6.9900\n",
      "Epoch 90/100\n",
      "1/1 [==============================] - 0s 16ms/step - loss: 6.9844 - mae: 6.9844\n",
      "Epoch 91/100\n",
      "1/1 [==============================] - 0s 16ms/step - loss: 6.9788 - mae: 6.9788\n",
      "Epoch 92/100\n",
      "1/1 [==============================] - 0s 16ms/step - loss: 6.9731 - mae: 6.9731\n",
      "Epoch 93/100\n",
      "1/1 [==============================] - 0s 16ms/step - loss: 6.9675 - mae: 6.9675\n",
      "Epoch 94/100\n",
      "1/1 [==============================] - 0s 16ms/step - loss: 6.9619 - mae: 6.9619\n",
      "Epoch 95/100\n",
      "1/1 [==============================] - 0s 7ms/step - loss: 6.9563 - mae: 6.9563\n",
      "Epoch 96/100\n",
      "1/1 [==============================] - 0s 16ms/step - loss: 6.9506 - mae: 6.9506\n",
      "Epoch 97/100\n",
      "1/1 [==============================] - 0s 16ms/step - loss: 6.9450 - mae: 6.9450\n",
      "Epoch 98/100\n",
      "1/1 [==============================] - 0s 16ms/step - loss: 6.9394 - mae: 6.9394\n",
      "Epoch 99/100\n",
      "1/1 [==============================] - 0s 16ms/step - loss: 6.9338 - mae: 6.9338\n",
      "Epoch 100/100\n",
      "1/1 [==============================] - 0s 16ms/step - loss: 6.9281 - mae: 6.9281\n"
     ]
    },
    {
     "data": {
      "text/plain": [
       "<keras.callbacks.History at 0x117f580a940>"
      ]
     },
     "execution_count": 28,
     "metadata": {},
     "output_type": "execute_result"
    }
   ],
   "source": [
    "# Let's rebuild our model\n",
    "\n",
    "# 1. Create a model\n",
    "model = tf.keras.Sequential()\n",
    "model.add(tf.keras.layers.Dense(1))\n",
    "\n",
    "# 2. Compile a model\n",
    "model.compile(loss = tf.keras.losses.mae, \n",
    "                optimizer = tf.keras.optimizers.SGD(),\n",
    "                metrics = [\"mae\"])\n",
    "\n",
    "# fit the model (this time we'll train for longer)\n",
    "model.fit(tf.expand_dims(X, axis = -1), y, epochs=100)"
   ]
  },
  {
   "cell_type": "code",
   "execution_count": 29,
   "metadata": {},
   "outputs": [
    {
     "name": "stdout",
     "output_type": "stream",
     "text": [
      "1/1 [==============================] - 0s 126ms/step\n"
     ]
    },
    {
     "data": {
      "text/plain": [
       "array([[30.060114]], dtype=float32)"
      ]
     },
     "execution_count": 29,
     "metadata": {},
     "output_type": "execute_result"
    }
   ],
   "source": [
    "model.predict([17.])"
   ]
  },
  {
   "cell_type": "code",
   "execution_count": 30,
   "metadata": {},
   "outputs": [
    {
     "data": {
      "text/plain": [
       "(<tf.Tensor: shape=(8,), dtype=float32, numpy=array([-7., -4., -1.,  2.,  5.,  8., 11., 14.], dtype=float32)>,\n",
       " <tf.Tensor: shape=(8,), dtype=float32, numpy=array([ 3.,  6.,  9., 12., 15., 18., 21., 24.], dtype=float32)>)"
      ]
     },
     "execution_count": 30,
     "metadata": {},
     "output_type": "execute_result"
    }
   ],
   "source": [
    "# Remind ourselves of the data\n",
    "X, y"
   ]
  },
  {
   "cell_type": "markdown",
   "metadata": {},
   "source": [
    "## PART 3"
   ]
  },
  {
   "cell_type": "code",
   "execution_count": 31,
   "metadata": {},
   "outputs": [
    {
     "name": "stdout",
     "output_type": "stream",
     "text": [
      "Epoch 1/100\n",
      "1/1 [==============================] - 1s 675ms/step - loss: 13.2710 - mae: 13.2710\n",
      "Epoch 2/100\n",
      "1/1 [==============================] - 0s 20ms/step - loss: 12.6992 - mae: 12.6992\n",
      "Epoch 3/100\n",
      "1/1 [==============================] - 0s 12ms/step - loss: 12.1304 - mae: 12.1304\n",
      "Epoch 4/100\n",
      "1/1 [==============================] - 0s 0s/step - loss: 11.5693 - mae: 11.5693\n",
      "Epoch 5/100\n",
      "1/1 [==============================] - 0s 0s/step - loss: 10.9973 - mae: 10.9973\n",
      "Epoch 6/100\n",
      "1/1 [==============================] - 0s 16ms/step - loss: 10.4105 - mae: 10.4105\n",
      "Epoch 7/100\n",
      "1/1 [==============================] - 0s 16ms/step - loss: 9.7996 - mae: 9.7996\n",
      "Epoch 8/100\n",
      "1/1 [==============================] - 0s 16ms/step - loss: 9.1564 - mae: 9.1564\n",
      "Epoch 9/100\n",
      "1/1 [==============================] - 0s 0s/step - loss: 8.4921 - mae: 8.4921\n",
      "Epoch 10/100\n",
      "1/1 [==============================] - 0s 16ms/step - loss: 7.7892 - mae: 7.7892\n",
      "Epoch 11/100\n",
      "1/1 [==============================] - 0s 16ms/step - loss: 7.0532 - mae: 7.0532\n",
      "Epoch 12/100\n",
      "1/1 [==============================] - 0s 15ms/step - loss: 6.2629 - mae: 6.2629\n",
      "Epoch 13/100\n",
      "1/1 [==============================] - 0s 16ms/step - loss: 5.4065 - mae: 5.4065\n",
      "Epoch 14/100\n",
      "1/1 [==============================] - 0s 16ms/step - loss: 4.4825 - mae: 4.4825\n",
      "Epoch 15/100\n",
      "1/1 [==============================] - 0s 23ms/step - loss: 3.9969 - mae: 3.9969\n",
      "Epoch 16/100\n",
      "1/1 [==============================] - 0s 25ms/step - loss: 3.9022 - mae: 3.9022\n",
      "Epoch 17/100\n",
      "1/1 [==============================] - 0s 16ms/step - loss: 3.9738 - mae: 3.9738\n",
      "Epoch 18/100\n",
      "1/1 [==============================] - 0s 16ms/step - loss: 3.9067 - mae: 3.9067\n",
      "Epoch 19/100\n",
      "1/1 [==============================] - 0s 16ms/step - loss: 3.9486 - mae: 3.9486\n",
      "Epoch 20/100\n",
      "1/1 [==============================] - 0s 16ms/step - loss: 3.9128 - mae: 3.9128\n",
      "Epoch 21/100\n",
      "1/1 [==============================] - 0s 16ms/step - loss: 3.9229 - mae: 3.9229\n",
      "Epoch 22/100\n",
      "1/1 [==============================] - 0s 16ms/step - loss: 3.9190 - mae: 3.9190\n",
      "Epoch 23/100\n",
      "1/1 [==============================] - 0s 19ms/step - loss: 3.9014 - mae: 3.9014\n",
      "Epoch 24/100\n",
      "1/1 [==============================] - 0s 13ms/step - loss: 3.9345 - mae: 3.9345\n",
      "Epoch 25/100\n",
      "1/1 [==============================] - 0s 16ms/step - loss: 3.8797 - mae: 3.8797\n",
      "Epoch 26/100\n",
      "1/1 [==============================] - 0s 16ms/step - loss: 3.9408 - mae: 3.9408\n",
      "Epoch 27/100\n",
      "1/1 [==============================] - 0s 16ms/step - loss: 3.8744 - mae: 3.8744\n",
      "Epoch 28/100\n",
      "1/1 [==============================] - 0s 7ms/step - loss: 3.9255 - mae: 3.9255\n",
      "Epoch 29/100\n",
      "1/1 [==============================] - 0s 16ms/step - loss: 3.8808 - mae: 3.8808\n",
      "Epoch 30/100\n",
      "1/1 [==============================] - 0s 16ms/step - loss: 3.8996 - mae: 3.8996\n",
      "Epoch 31/100\n",
      "1/1 [==============================] - 0s 0s/step - loss: 3.8902 - mae: 3.8902\n",
      "Epoch 32/100\n",
      "1/1 [==============================] - 0s 16ms/step - loss: 3.8821 - mae: 3.8821\n",
      "Epoch 33/100\n",
      "1/1 [==============================] - 0s 16ms/step - loss: 3.9028 - mae: 3.9028\n",
      "Epoch 34/100\n",
      "1/1 [==============================] - 0s 0s/step - loss: 3.8558 - mae: 3.8558\n",
      "Epoch 35/100\n",
      "1/1 [==============================] - 0s 16ms/step - loss: 3.9094 - mae: 3.9094\n",
      "Epoch 36/100\n",
      "1/1 [==============================] - 0s 16ms/step - loss: 3.8434 - mae: 3.8434\n",
      "Epoch 37/100\n",
      "1/1 [==============================] - 0s 22ms/step - loss: 3.9011 - mae: 3.9011\n",
      "Epoch 38/100\n",
      "1/1 [==============================] - 0s 16ms/step - loss: 3.8500 - mae: 3.8500\n",
      "Epoch 39/100\n",
      "1/1 [==============================] - 0s 16ms/step - loss: 3.8772 - mae: 3.8772\n",
      "Epoch 40/100\n",
      "1/1 [==============================] - 0s 16ms/step - loss: 3.8657 - mae: 3.8657\n",
      "Epoch 41/100\n",
      "1/1 [==============================] - 0s 16ms/step - loss: 3.8571 - mae: 3.8571\n",
      "Epoch 42/100\n",
      "1/1 [==============================] - 0s 13ms/step - loss: 3.8724 - mae: 3.8724\n",
      "Epoch 43/100\n",
      "1/1 [==============================] - 0s 0s/step - loss: 3.8306 - mae: 3.8306\n",
      "Epoch 44/100\n",
      "1/1 [==============================] - 0s 0s/step - loss: 3.8792 - mae: 3.8792\n",
      "Epoch 45/100\n",
      "1/1 [==============================] - 0s 0s/step - loss: 3.8136 - mae: 3.8136\n",
      "Epoch 46/100\n",
      "1/1 [==============================] - 0s 16ms/step - loss: 3.8755 - mae: 3.8755\n",
      "Epoch 47/100\n",
      "1/1 [==============================] - 0s 16ms/step - loss: 3.8210 - mae: 3.8210\n",
      "Epoch 48/100\n",
      "1/1 [==============================] - 0s 19ms/step - loss: 3.8575 - mae: 3.8575\n",
      "Epoch 49/100\n",
      "1/1 [==============================] - 0s 13ms/step - loss: 3.8363 - mae: 3.8363\n",
      "Epoch 50/100\n",
      "1/1 [==============================] - 0s 0s/step - loss: 3.8308 - mae: 3.8308\n",
      "Epoch 51/100\n",
      "1/1 [==============================] - 0s 16ms/step - loss: 3.8431 - mae: 3.8431\n",
      "Epoch 52/100\n",
      "1/1 [==============================] - 0s 16ms/step - loss: 3.8040 - mae: 3.8040\n",
      "Epoch 53/100\n",
      "1/1 [==============================] - 0s 16ms/step - loss: 3.8501 - mae: 3.8501\n",
      "Epoch 54/100\n",
      "1/1 [==============================] - 0s 7ms/step - loss: 3.7848 - mae: 3.7848\n",
      "Epoch 55/100\n",
      "1/1 [==============================] - 0s 0s/step - loss: 3.8486 - mae: 3.8486\n",
      "Epoch 56/100\n",
      "1/1 [==============================] - 0s 16ms/step - loss: 3.7997 - mae: 3.7997\n",
      "Epoch 57/100\n",
      "1/1 [==============================] - 0s 16ms/step - loss: 3.8303 - mae: 3.8303\n",
      "Epoch 58/100\n",
      "1/1 [==============================] - 0s 16ms/step - loss: 3.8079 - mae: 3.8079\n",
      "Epoch 59/100\n",
      "1/1 [==============================] - 0s 16ms/step - loss: 3.8032 - mae: 3.8032\n",
      "Epoch 60/100\n",
      "1/1 [==============================] - 0s 16ms/step - loss: 3.8150 - mae: 3.8150\n",
      "Epoch 61/100\n",
      "1/1 [==============================] - 0s 16ms/step - loss: 3.7762 - mae: 3.7762\n",
      "Epoch 62/100\n",
      "1/1 [==============================] - 0s 0s/step - loss: 3.8222 - mae: 3.8222\n",
      "Epoch 63/100\n",
      "1/1 [==============================] - 0s 16ms/step - loss: 3.7572 - mae: 3.7572\n",
      "Epoch 64/100\n",
      "1/1 [==============================] - 0s 11ms/step - loss: 3.8272 - mae: 3.8272\n",
      "Epoch 65/100\n",
      "1/1 [==============================] - 0s 16ms/step - loss: 3.7734 - mae: 3.7734\n",
      "Epoch 66/100\n",
      "1/1 [==============================] - 0s 16ms/step - loss: 3.8017 - mae: 3.8017\n",
      "Epoch 67/100\n",
      "1/1 [==============================] - 0s 0s/step - loss: 3.7806 - mae: 3.7806\n",
      "Epoch 68/100\n",
      "1/1 [==============================] - 0s 16ms/step - loss: 3.7744 - mae: 3.7744\n",
      "Epoch 69/100\n",
      "1/1 [==============================] - 0s 5ms/step - loss: 3.7878 - mae: 3.7878\n",
      "Epoch 70/100\n",
      "1/1 [==============================] - 0s 0s/step - loss: 3.7471 - mae: 3.7471\n",
      "Epoch 71/100\n",
      "1/1 [==============================] - 0s 16ms/step - loss: 3.7952 - mae: 3.7952\n",
      "Epoch 72/100\n",
      "1/1 [==============================] - 0s 16ms/step - loss: 3.7355 - mae: 3.7355\n",
      "Epoch 73/100\n",
      "1/1 [==============================] - 0s 16ms/step - loss: 3.7994 - mae: 3.7994\n",
      "Epoch 74/100\n",
      "1/1 [==============================] - 0s 0s/step - loss: 3.7468 - mae: 3.7468\n",
      "Epoch 75/100\n",
      "1/1 [==============================] - 0s 16ms/step - loss: 3.7719 - mae: 3.7719\n",
      "Epoch 76/100\n",
      "1/1 [==============================] - 0s 16ms/step - loss: 3.7542 - mae: 3.7542\n",
      "Epoch 77/100\n",
      "1/1 [==============================] - 0s 16ms/step - loss: 3.7443 - mae: 3.7443\n",
      "Epoch 78/100\n",
      "1/1 [==============================] - 0s 0s/step - loss: 3.7617 - mae: 3.7617\n",
      "Epoch 79/100\n",
      "1/1 [==============================] - 0s 8ms/step - loss: 3.7167 - mae: 3.7167\n",
      "Epoch 80/100\n",
      "1/1 [==============================] - 0s 0s/step - loss: 3.7724 - mae: 3.7724\n",
      "Epoch 81/100\n",
      "1/1 [==============================] - 0s 16ms/step - loss: 3.7138 - mae: 3.7138\n",
      "Epoch 82/100\n",
      "1/1 [==============================] - 0s 16ms/step - loss: 3.7685 - mae: 3.7685\n",
      "Epoch 83/100\n",
      "1/1 [==============================] - 0s 0s/step - loss: 3.7212 - mae: 3.7212\n",
      "Epoch 84/100\n",
      "1/1 [==============================] - 0s 0s/step - loss: 3.7407 - mae: 3.7407\n",
      "Epoch 85/100\n",
      "1/1 [==============================] - 0s 16ms/step - loss: 3.7288 - mae: 3.7288\n",
      "Epoch 86/100\n",
      "1/1 [==============================] - 0s 0s/step - loss: 3.7128 - mae: 3.7128\n",
      "Epoch 87/100\n",
      "1/1 [==============================] - 0s 0s/step - loss: 3.7366 - mae: 3.7366\n",
      "Epoch 88/100\n"
     ]
    },
    {
     "name": "stdout",
     "output_type": "stream",
     "text": [
      "1/1 [==============================] - 0s 0s/step - loss: 3.6866 - mae: 3.6866\n",
      "Epoch 89/100\n",
      "1/1 [==============================] - 0s 0s/step - loss: 3.7535 - mae: 3.7535\n",
      "Epoch 90/100\n",
      "1/1 [==============================] - 0s 0s/step - loss: 3.6891 - mae: 3.6891\n",
      "Epoch 91/100\n",
      "1/1 [==============================] - 0s 0s/step - loss: 3.7363 - mae: 3.7363\n",
      "Epoch 92/100\n",
      "1/1 [==============================] - 0s 5ms/step - loss: 3.6967 - mae: 3.6967\n",
      "Epoch 93/100\n",
      "1/1 [==============================] - 0s 0s/step - loss: 3.7081 - mae: 3.7081\n",
      "Epoch 94/100\n",
      "1/1 [==============================] - 0s 0s/step - loss: 3.7046 - mae: 3.7046\n",
      "Epoch 95/100\n",
      "1/1 [==============================] - 0s 0s/step - loss: 3.6800 - mae: 3.6800\n",
      "Epoch 96/100\n",
      "1/1 [==============================] - 0s 0s/step - loss: 3.7125 - mae: 3.7125\n",
      "Epoch 97/100\n",
      "1/1 [==============================] - 0s 16ms/step - loss: 3.6603 - mae: 3.6603\n",
      "Epoch 98/100\n",
      "1/1 [==============================] - 0s 16ms/step - loss: 3.7295 - mae: 3.7295\n",
      "Epoch 99/100\n",
      "1/1 [==============================] - 0s 16ms/step - loss: 3.6653 - mae: 3.6653\n",
      "Epoch 100/100\n",
      "1/1 [==============================] - 0s 16ms/step - loss: 3.7028 - mae: 3.7028\n"
     ]
    },
    {
     "data": {
      "text/plain": [
       "<keras.callbacks.History at 0x117f6a26a30>"
      ]
     },
     "execution_count": 31,
     "metadata": {},
     "output_type": "execute_result"
    }
   ],
   "source": [
    "# 1. Create a model (this time with an extra hidden layer with 100 hidden units)\n",
    "\n",
    "model = tf.keras.Sequential()\n",
    "model.add(tf.keras.layers.Dense(100, activation=\"relu\"))\n",
    "model.add(tf.keras.layers.Dense(1))\n",
    "\n",
    "# 2. Compile the model\n",
    "model.compile(loss = tf.keras.losses.mae,\n",
    "                optimizer = tf.keras.optimizers.SGD(),\n",
    "                metrics = [\"mae\"])\n",
    "\n",
    "# 3. Fit the model\n",
    "\n",
    "model.fit(tf.expand_dims(X, axis = -1), y, epochs = 100)"
   ]
  },
  {
   "cell_type": "code",
   "execution_count": 32,
   "metadata": {},
   "outputs": [
    {
     "data": {
      "text/plain": [
       "(<tf.Tensor: shape=(8,), dtype=float32, numpy=array([-7., -4., -1.,  2.,  5.,  8., 11., 14.], dtype=float32)>,\n",
       " <tf.Tensor: shape=(8,), dtype=float32, numpy=array([ 3.,  6.,  9., 12., 15., 18., 21., 24.], dtype=float32)>)"
      ]
     },
     "execution_count": 32,
     "metadata": {},
     "output_type": "execute_result"
    }
   ],
   "source": [
    "# Let's remind ourselves of the data\n",
    "X, y"
   ]
  },
  {
   "cell_type": "code",
   "execution_count": 33,
   "metadata": {},
   "outputs": [
    {
     "name": "stdout",
     "output_type": "stream",
     "text": [
      "1/1 [==============================] - 0s 126ms/step\n"
     ]
    },
    {
     "data": {
      "text/plain": [
       "array([[32.331104]], dtype=float32)"
      ]
     },
     "execution_count": 33,
     "metadata": {},
     "output_type": "execute_result"
    }
   ],
   "source": [
    "model.predict([17.])"
   ]
  },
  {
   "cell_type": "code",
   "execution_count": 34,
   "metadata": {},
   "outputs": [
    {
     "name": "stdout",
     "output_type": "stream",
     "text": [
      "Epoch 1/100\n",
      "1/1 [==============================] - 1s 674ms/step - loss: 14.4000 - mae: 14.4000\n",
      "Epoch 2/100\n",
      "1/1 [==============================] - 0s 11ms/step - loss: 13.8423 - mae: 13.8423\n",
      "Epoch 3/100\n",
      "1/1 [==============================] - 0s 16ms/step - loss: 13.2929 - mae: 13.2929\n",
      "Epoch 4/100\n",
      "1/1 [==============================] - 0s 16ms/step - loss: 12.7465 - mae: 12.7465\n",
      "Epoch 5/100\n",
      "1/1 [==============================] - 0s 16ms/step - loss: 12.1976 - mae: 12.1976\n",
      "Epoch 6/100\n",
      "1/1 [==============================] - 0s 0s/step - loss: 11.6415 - mae: 11.6415\n",
      "Epoch 7/100\n",
      "1/1 [==============================] - 0s 12ms/step - loss: 11.0724 - mae: 11.0724\n",
      "Epoch 8/100\n",
      "1/1 [==============================] - 0s 16ms/step - loss: 10.4857 - mae: 10.4857\n",
      "Epoch 9/100\n",
      "1/1 [==============================] - 0s 16ms/step - loss: 9.8761 - mae: 9.8761\n",
      "Epoch 10/100\n",
      "1/1 [==============================] - 0s 16ms/step - loss: 9.2382 - mae: 9.2382\n",
      "Epoch 11/100\n",
      "1/1 [==============================] - 0s 16ms/step - loss: 8.5808 - mae: 8.5808\n",
      "Epoch 12/100\n",
      "1/1 [==============================] - 0s 18ms/step - loss: 7.9522 - mae: 7.9522\n",
      "Epoch 13/100\n",
      "1/1 [==============================] - 0s 14ms/step - loss: 7.2758 - mae: 7.2758\n",
      "Epoch 14/100\n",
      "1/1 [==============================] - 0s 16ms/step - loss: 6.5433 - mae: 6.5433\n",
      "Epoch 15/100\n",
      "1/1 [==============================] - 0s 16ms/step - loss: 5.7517 - mae: 5.7517\n",
      "Epoch 16/100\n",
      "1/1 [==============================] - 0s 16ms/step - loss: 4.8931 - mae: 4.8931\n",
      "Epoch 17/100\n",
      "1/1 [==============================] - 0s 16ms/step - loss: 4.1138 - mae: 4.1138\n",
      "Epoch 18/100\n",
      "1/1 [==============================] - 0s 31ms/step - loss: 4.0173 - mae: 4.0173\n",
      "Epoch 19/100\n",
      "1/1 [==============================] - 0s 16ms/step - loss: 3.9183 - mae: 3.9183\n",
      "Epoch 20/100\n",
      "1/1 [==============================] - 0s 16ms/step - loss: 3.9305 - mae: 3.9305\n",
      "Epoch 21/100\n",
      "1/1 [==============================] - 0s 16ms/step - loss: 3.9013 - mae: 3.9013\n",
      "Epoch 22/100\n",
      "1/1 [==============================] - 0s 16ms/step - loss: 3.9464 - mae: 3.9464\n",
      "Epoch 23/100\n",
      "1/1 [==============================] - 0s 16ms/step - loss: 3.8780 - mae: 3.8780\n",
      "Epoch 24/100\n",
      "1/1 [==============================] - 0s 16ms/step - loss: 3.9484 - mae: 3.9484\n",
      "Epoch 25/100\n",
      "1/1 [==============================] - 0s 16ms/step - loss: 3.8842 - mae: 3.8842\n",
      "Epoch 26/100\n",
      "1/1 [==============================] - 0s 12ms/step - loss: 3.9220 - mae: 3.9220\n",
      "Epoch 27/100\n",
      "1/1 [==============================] - 0s 16ms/step - loss: 3.8905 - mae: 3.8905\n",
      "Epoch 28/100\n",
      "1/1 [==============================] - 0s 0s/step - loss: 3.8955 - mae: 3.8955\n",
      "Epoch 29/100\n",
      "1/1 [==============================] - 0s 16ms/step - loss: 3.9068 - mae: 3.9068\n",
      "Epoch 30/100\n",
      "1/1 [==============================] - 0s 16ms/step - loss: 3.8779 - mae: 3.8779\n",
      "Epoch 31/100\n",
      "1/1 [==============================] - 0s 6ms/step - loss: 3.9132 - mae: 3.9132\n",
      "Epoch 32/100\n",
      "1/1 [==============================] - 0s 16ms/step - loss: 3.8509 - mae: 3.8509\n",
      "Epoch 33/100\n",
      "1/1 [==============================] - 0s 16ms/step - loss: 3.9199 - mae: 3.9199\n",
      "Epoch 34/100\n",
      "1/1 [==============================] - 0s 16ms/step - loss: 3.8516 - mae: 3.8516\n",
      "Epoch 35/100\n",
      "1/1 [==============================] - 0s 17ms/step - loss: 3.8978 - mae: 3.8978\n",
      "Epoch 36/100\n",
      "1/1 [==============================] - 0s 15ms/step - loss: 3.8581 - mae: 3.8581\n",
      "Epoch 37/100\n",
      "1/1 [==============================] - 0s 0s/step - loss: 3.8802 - mae: 3.8802\n",
      "Epoch 38/100\n",
      "1/1 [==============================] - 0s 16ms/step - loss: 3.8746 - mae: 3.8746\n",
      "Epoch 39/100\n",
      "1/1 [==============================] - 0s 16ms/step - loss: 3.8531 - mae: 3.8531\n",
      "Epoch 40/100\n",
      "1/1 [==============================] - 0s 9ms/step - loss: 3.8813 - mae: 3.8813\n",
      "Epoch 41/100\n",
      "1/1 [==============================] - 0s 16ms/step - loss: 3.8258 - mae: 3.8258\n",
      "Epoch 42/100\n",
      "1/1 [==============================] - 0s 16ms/step - loss: 3.8881 - mae: 3.8881\n",
      "Epoch 43/100\n",
      "1/1 [==============================] - 0s 16ms/step - loss: 3.8203 - mae: 3.8203\n",
      "Epoch 44/100\n",
      "1/1 [==============================] - 0s 16ms/step - loss: 3.8723 - mae: 3.8723\n",
      "Epoch 45/100\n",
      "1/1 [==============================] - 0s 16ms/step - loss: 3.8352 - mae: 3.8352\n",
      "Epoch 46/100\n",
      "1/1 [==============================] - 0s 16ms/step - loss: 3.8544 - mae: 3.8544\n",
      "Epoch 47/100\n",
      "1/1 [==============================] - 0s 0s/step - loss: 3.8438 - mae: 3.8438\n",
      "Epoch 48/100\n",
      "1/1 [==============================] - 0s 16ms/step - loss: 3.8270 - mae: 3.8270\n",
      "Epoch 49/100\n",
      "1/1 [==============================] - 0s 19ms/step - loss: 3.8507 - mae: 3.8507\n",
      "Epoch 50/100\n",
      "1/1 [==============================] - 0s 13ms/step - loss: 3.7995 - mae: 3.7995\n",
      "Epoch 51/100\n",
      "1/1 [==============================] - 0s 0s/step - loss: 3.8577 - mae: 3.8577\n",
      "Epoch 52/100\n",
      "1/1 [==============================] - 0s 16ms/step - loss: 3.7903 - mae: 3.7903\n",
      "Epoch 53/100\n",
      "1/1 [==============================] - 0s 16ms/step - loss: 3.8528 - mae: 3.8528\n",
      "Epoch 54/100\n",
      "1/1 [==============================] - 0s 25ms/step - loss: 3.8071 - mae: 3.8071\n",
      "Epoch 55/100\n",
      "1/1 [==============================] - 0s 0s/step - loss: 3.8273 - mae: 3.8273\n",
      "Epoch 56/100\n",
      "1/1 [==============================] - 0s 16ms/step - loss: 3.8140 - mae: 3.8140\n",
      "Epoch 57/100\n",
      "1/1 [==============================] - 0s 16ms/step - loss: 3.7996 - mae: 3.7996\n",
      "Epoch 58/100\n",
      "1/1 [==============================] - 0s 16ms/step - loss: 3.8211 - mae: 3.8211\n",
      "Epoch 59/100\n",
      "1/1 [==============================] - 0s 0s/step - loss: 3.7719 - mae: 3.7719\n",
      "Epoch 60/100\n",
      "1/1 [==============================] - 0s 16ms/step - loss: 3.8285 - mae: 3.8285\n",
      "Epoch 61/100\n",
      "1/1 [==============================] - 0s 16ms/step - loss: 3.7668 - mae: 3.7668\n",
      "Epoch 62/100\n",
      "1/1 [==============================] - 0s 16ms/step - loss: 3.8267 - mae: 3.8267\n",
      "Epoch 63/100\n",
      "1/1 [==============================] - 0s 16ms/step - loss: 3.7782 - mae: 3.7782\n",
      "Epoch 64/100\n",
      "1/1 [==============================] - 0s 7ms/step - loss: 3.7989 - mae: 3.7989\n",
      "Epoch 65/100\n",
      "1/1 [==============================] - 0s 0s/step - loss: 3.7854 - mae: 3.7854\n",
      "Epoch 66/100\n",
      "1/1 [==============================] - 0s 16ms/step - loss: 3.7710 - mae: 3.7710\n",
      "Epoch 67/100\n",
      "1/1 [==============================] - 0s 16ms/step - loss: 3.7928 - mae: 3.7928\n",
      "Epoch 68/100\n",
      "1/1 [==============================] - 0s 16ms/step - loss: 3.7430 - mae: 3.7430\n",
      "Epoch 69/100\n",
      "1/1 [==============================] - 0s 16ms/step - loss: 3.8039 - mae: 3.8039\n",
      "Epoch 70/100\n",
      "1/1 [==============================] - 0s 4ms/step - loss: 3.7432 - mae: 3.7432\n",
      "Epoch 71/100\n",
      "1/1 [==============================] - 0s 0s/step - loss: 3.7974 - mae: 3.7974\n",
      "Epoch 72/100\n",
      "1/1 [==============================] - 0s 16ms/step - loss: 3.7504 - mae: 3.7504\n",
      "Epoch 73/100\n",
      "1/1 [==============================] - 0s 16ms/step - loss: 3.7692 - mae: 3.7692\n",
      "Epoch 74/100\n",
      "1/1 [==============================] - 0s 0s/step - loss: 3.7578 - mae: 3.7578\n",
      "Epoch 75/100\n",
      "1/1 [==============================] - 0s 16ms/step - loss: 3.7410 - mae: 3.7410\n",
      "Epoch 76/100\n",
      "1/1 [==============================] - 0s 16ms/step - loss: 3.7654 - mae: 3.7654\n",
      "Epoch 77/100\n",
      "1/1 [==============================] - 0s 16ms/step - loss: 3.7150 - mae: 3.7150\n",
      "Epoch 78/100\n",
      "1/1 [==============================] - 0s 16ms/step - loss: 3.7829 - mae: 3.7829\n",
      "Epoch 79/100\n",
      "1/1 [==============================] - 0s 0s/step - loss: 3.7162 - mae: 3.7162\n",
      "Epoch 80/100\n",
      "1/1 [==============================] - 0s 16ms/step - loss: 3.7666 - mae: 3.7666\n",
      "Epoch 81/100\n",
      "1/1 [==============================] - 0s 16ms/step - loss: 3.7237 - mae: 3.7237\n",
      "Epoch 82/100\n",
      "1/1 [==============================] - 0s 16ms/step - loss: 3.7382 - mae: 3.7382\n",
      "Epoch 83/100\n",
      "1/1 [==============================] - 0s 0s/step - loss: 3.7313 - mae: 3.7313\n",
      "Epoch 84/100\n",
      "1/1 [==============================] - 0s 16ms/step - loss: 3.7097 - mae: 3.7097\n",
      "Epoch 85/100\n",
      "1/1 [==============================] - 0s 16ms/step - loss: 3.7393 - mae: 3.7393\n",
      "Epoch 86/100\n",
      "1/1 [==============================] - 0s 16ms/step - loss: 3.6902 - mae: 3.6902\n",
      "Epoch 87/100\n",
      "1/1 [==============================] - 0s 16ms/step - loss: 3.7567 - mae: 3.7567\n",
      "Epoch 88/100\n"
     ]
    },
    {
     "name": "stdout",
     "output_type": "stream",
     "text": [
      "1/1 [==============================] - 0s 0s/step - loss: 3.6903 - mae: 3.6903\n",
      "Epoch 89/100\n",
      "1/1 [==============================] - 0s 0s/step - loss: 3.7346 - mae: 3.7346\n",
      "Epoch 90/100\n",
      "1/1 [==============================] - 0s 16ms/step - loss: 3.6979 - mae: 3.6979\n",
      "Epoch 91/100\n",
      "1/1 [==============================] - 0s 11ms/step - loss: 3.7059 - mae: 3.7059\n",
      "Epoch 92/100\n",
      "1/1 [==============================] - 0s 16ms/step - loss: 3.7058 - mae: 3.7058\n",
      "Epoch 93/100\n",
      "1/1 [==============================] - 0s 16ms/step - loss: 3.6771 - mae: 3.6771\n",
      "Epoch 94/100\n",
      "1/1 [==============================] - 0s 16ms/step - loss: 3.7214 - mae: 3.7214\n",
      "Epoch 95/100\n",
      "1/1 [==============================] - 0s 16ms/step - loss: 3.6576 - mae: 3.6576\n",
      "Epoch 96/100\n",
      "1/1 [==============================] - 0s 16ms/step - loss: 3.7302 - mae: 3.7302\n",
      "Epoch 97/100\n",
      "1/1 [==============================] - 0s 16ms/step - loss: 3.6653 - mae: 3.6653\n",
      "Epoch 98/100\n",
      "1/1 [==============================] - 0s 16ms/step - loss: 3.7012 - mae: 3.7012\n",
      "Epoch 99/100\n",
      "1/1 [==============================] - 0s 16ms/step - loss: 3.6732 - mae: 3.6732\n",
      "Epoch 100/100\n",
      "1/1 [==============================] - 0s 16ms/step - loss: 3.6722 - mae: 3.6722\n"
     ]
    },
    {
     "data": {
      "text/plain": [
       "<keras.callbacks.History at 0x117f6b08550>"
      ]
     },
     "execution_count": 34,
     "metadata": {},
     "output_type": "execute_result"
    }
   ],
   "source": [
    "# 1. Create a model (this time with an extra hidden layer with 100 hidden units)\n",
    "\n",
    "model = tf.keras.Sequential()\n",
    "model.add(tf.keras.layers.Dense(50, activation=\"relu\"))\n",
    "model.add(tf.keras.layers.Dense(1))\n",
    "\n",
    "# 2. Compile the model\n",
    "model.compile(loss = tf.keras.losses.mae,\n",
    "                optimizer = tf.keras.optimizers.SGD(),\n",
    "                metrics = [\"mae\"])\n",
    "\n",
    "# 3. Fit the model\n",
    "\n",
    "model.fit(tf.expand_dims(X, axis = -1), y, epochs = 100)"
   ]
  },
  {
   "cell_type": "code",
   "execution_count": 35,
   "metadata": {},
   "outputs": [
    {
     "name": "stdout",
     "output_type": "stream",
     "text": [
      "1/1 [==============================] - 0s 192ms/step\n"
     ]
    },
    {
     "data": {
      "text/plain": [
       "array([[32.589176]], dtype=float32)"
      ]
     },
     "execution_count": 35,
     "metadata": {},
     "output_type": "execute_result"
    }
   ],
   "source": [
    "model.predict([17.])"
   ]
  },
  {
   "cell_type": "code",
   "execution_count": 36,
   "metadata": {},
   "outputs": [
    {
     "name": "stdout",
     "output_type": "stream",
     "text": [
      "Epoch 1/100\n",
      "1/1 [==============================] - 1s 831ms/step - loss: 13.7788 - mae: 13.7788\n",
      "Epoch 2/100\n",
      "1/1 [==============================] - 0s 16ms/step - loss: 13.2171 - mae: 13.2171\n",
      "Epoch 3/100\n",
      "1/1 [==============================] - 0s 16ms/step - loss: 12.6554 - mae: 12.6554\n",
      "Epoch 4/100\n",
      "1/1 [==============================] - 0s 7ms/step - loss: 12.0908 - mae: 12.0908\n",
      "Epoch 5/100\n",
      "1/1 [==============================] - 0s 16ms/step - loss: 11.5204 - mae: 11.5204\n",
      "Epoch 6/100\n",
      "1/1 [==============================] - 0s 16ms/step - loss: 10.9411 - mae: 10.9411\n",
      "Epoch 7/100\n",
      "1/1 [==============================] - 0s 31ms/step - loss: 10.3501 - mae: 10.3501\n",
      "Epoch 8/100\n",
      "1/1 [==============================] - 0s 16ms/step - loss: 9.7443 - mae: 9.7443\n",
      "Epoch 9/100\n",
      "1/1 [==============================] - 0s 16ms/step - loss: 9.1205 - mae: 9.1205\n",
      "Epoch 10/100\n",
      "1/1 [==============================] - 0s 16ms/step - loss: 8.4755 - mae: 8.4755\n",
      "Epoch 11/100\n",
      "1/1 [==============================] - 0s 16ms/step - loss: 7.8061 - mae: 7.8061\n",
      "Epoch 12/100\n",
      "1/1 [==============================] - 0s 11ms/step - loss: 7.2348 - mae: 7.2348\n",
      "Epoch 13/100\n",
      "1/1 [==============================] - 0s 16ms/step - loss: 7.2149 - mae: 7.2149\n",
      "Epoch 14/100\n",
      "1/1 [==============================] - 0s 16ms/step - loss: 7.1950 - mae: 7.1950\n",
      "Epoch 15/100\n",
      "1/1 [==============================] - 0s 31ms/step - loss: 7.1750 - mae: 7.1750\n",
      "Epoch 16/100\n",
      "1/1 [==============================] - 0s 7ms/step - loss: 7.1550 - mae: 7.1550\n",
      "Epoch 17/100\n",
      "1/1 [==============================] - 0s 16ms/step - loss: 7.1349 - mae: 7.1349\n",
      "Epoch 18/100\n",
      "1/1 [==============================] - 0s 16ms/step - loss: 7.1147 - mae: 7.1147\n",
      "Epoch 19/100\n",
      "1/1 [==============================] - 0s 0s/step - loss: 7.0945 - mae: 7.0945\n",
      "Epoch 20/100\n",
      "1/1 [==============================] - 0s 18ms/step - loss: 7.0743 - mae: 7.0743\n",
      "Epoch 21/100\n",
      "1/1 [==============================] - 0s 14ms/step - loss: 7.0539 - mae: 7.0539\n",
      "Epoch 22/100\n",
      "1/1 [==============================] - 0s 16ms/step - loss: 7.0335 - mae: 7.0335\n",
      "Epoch 23/100\n",
      "1/1 [==============================] - 0s 16ms/step - loss: 7.0131 - mae: 7.0131\n",
      "Epoch 24/100\n",
      "1/1 [==============================] - 0s 16ms/step - loss: 6.9925 - mae: 6.9925\n",
      "Epoch 25/100\n",
      "1/1 [==============================] - 0s 16ms/step - loss: 6.9719 - mae: 6.9719\n",
      "Epoch 26/100\n",
      "1/1 [==============================] - 0s 16ms/step - loss: 6.9512 - mae: 6.9512\n",
      "Epoch 27/100\n",
      "1/1 [==============================] - 0s 16ms/step - loss: 6.9304 - mae: 6.9304\n",
      "Epoch 28/100\n",
      "1/1 [==============================] - 0s 16ms/step - loss: 6.9095 - mae: 6.9095\n",
      "Epoch 29/100\n",
      "1/1 [==============================] - 0s 16ms/step - loss: 6.8885 - mae: 6.8885\n",
      "Epoch 30/100\n",
      "1/1 [==============================] - 0s 16ms/step - loss: 6.8675 - mae: 6.8675\n",
      "Epoch 31/100\n",
      "1/1 [==============================] - 0s 16ms/step - loss: 6.8463 - mae: 6.8463\n",
      "Epoch 32/100\n",
      "1/1 [==============================] - 0s 16ms/step - loss: 6.8250 - mae: 6.8250\n",
      "Epoch 33/100\n",
      "1/1 [==============================] - 0s 16ms/step - loss: 6.8036 - mae: 6.8036\n",
      "Epoch 34/100\n",
      "1/1 [==============================] - 0s 16ms/step - loss: 6.7821 - mae: 6.7821\n",
      "Epoch 35/100\n",
      "1/1 [==============================] - 0s 16ms/step - loss: 6.7605 - mae: 6.7605\n",
      "Epoch 36/100\n",
      "1/1 [==============================] - 0s 16ms/step - loss: 6.7388 - mae: 6.7388\n",
      "Epoch 37/100\n",
      "1/1 [==============================] - 0s 16ms/step - loss: 6.7170 - mae: 6.7170\n",
      "Epoch 38/100\n",
      "1/1 [==============================] - 0s 16ms/step - loss: 6.6950 - mae: 6.6950\n",
      "Epoch 39/100\n",
      "1/1 [==============================] - 0s 16ms/step - loss: 6.6729 - mae: 6.6729\n",
      "Epoch 40/100\n",
      "1/1 [==============================] - 0s 16ms/step - loss: 6.6507 - mae: 6.6507\n",
      "Epoch 41/100\n",
      "1/1 [==============================] - 0s 16ms/step - loss: 6.6284 - mae: 6.6284\n",
      "Epoch 42/100\n",
      "1/1 [==============================] - 0s 16ms/step - loss: 6.6059 - mae: 6.6059\n",
      "Epoch 43/100\n",
      "1/1 [==============================] - 0s 16ms/step - loss: 6.5875 - mae: 6.5875\n",
      "Epoch 44/100\n",
      "1/1 [==============================] - 0s 15ms/step - loss: 6.5792 - mae: 6.5792\n",
      "Epoch 45/100\n",
      "1/1 [==============================] - 0s 16ms/step - loss: 6.5569 - mae: 6.5569\n",
      "Epoch 46/100\n",
      "1/1 [==============================] - 0s 16ms/step - loss: 6.5344 - mae: 6.5344\n",
      "Epoch 47/100\n",
      "1/1 [==============================] - 0s 0s/step - loss: 6.5117 - mae: 6.5117\n",
      "Epoch 48/100\n",
      "1/1 [==============================] - 0s 16ms/step - loss: 6.4889 - mae: 6.4889\n",
      "Epoch 49/100\n",
      "1/1 [==============================] - 0s 9ms/step - loss: 6.4659 - mae: 6.4659\n",
      "Epoch 50/100\n",
      "1/1 [==============================] - 0s 0s/step - loss: 6.4428 - mae: 6.4428\n",
      "Epoch 51/100\n",
      "1/1 [==============================] - 0s 16ms/step - loss: 6.4195 - mae: 6.4195\n",
      "Epoch 52/100\n",
      "1/1 [==============================] - 0s 16ms/step - loss: 6.3960 - mae: 6.3960\n",
      "Epoch 53/100\n",
      "1/1 [==============================] - 0s 13ms/step - loss: 6.3724 - mae: 6.3724\n",
      "Epoch 54/100\n",
      "1/1 [==============================] - 0s 16ms/step - loss: 6.3486 - mae: 6.3486\n",
      "Epoch 55/100\n",
      "1/1 [==============================] - 0s 16ms/step - loss: 6.3245 - mae: 6.3245\n",
      "Epoch 56/100\n",
      "1/1 [==============================] - 0s 16ms/step - loss: 6.3003 - mae: 6.3003\n",
      "Epoch 57/100\n",
      "1/1 [==============================] - 0s 16ms/step - loss: 6.2759 - mae: 6.2759\n",
      "Epoch 58/100\n",
      "1/1 [==============================] - 0s 19ms/step - loss: 6.2513 - mae: 6.2513\n",
      "Epoch 59/100\n",
      "1/1 [==============================] - 0s 16ms/step - loss: 6.2265 - mae: 6.2265\n",
      "Epoch 60/100\n",
      "1/1 [==============================] - 0s 16ms/step - loss: 6.2015 - mae: 6.2015\n",
      "Epoch 61/100\n",
      "1/1 [==============================] - 0s 16ms/step - loss: 6.1763 - mae: 6.1763\n",
      "Epoch 62/100\n",
      "1/1 [==============================] - 0s 16ms/step - loss: 6.1508 - mae: 6.1508\n",
      "Epoch 63/100\n",
      "1/1 [==============================] - 0s 16ms/step - loss: 6.1252 - mae: 6.1252\n",
      "Epoch 64/100\n",
      "1/1 [==============================] - 0s 16ms/step - loss: 6.1012 - mae: 6.1012\n",
      "Epoch 65/100\n",
      "1/1 [==============================] - 0s 16ms/step - loss: 6.0980 - mae: 6.0980\n",
      "Epoch 66/100\n",
      "1/1 [==============================] - 0s 16ms/step - loss: 6.0722 - mae: 6.0722\n",
      "Epoch 67/100\n",
      "1/1 [==============================] - 0s 0s/step - loss: 6.0463 - mae: 6.0463\n",
      "Epoch 68/100\n",
      "1/1 [==============================] - 0s 16ms/step - loss: 6.0201 - mae: 6.0201\n",
      "Epoch 69/100\n",
      "1/1 [==============================] - 0s 16ms/step - loss: 5.9936 - mae: 5.9936\n",
      "Epoch 70/100\n",
      "1/1 [==============================] - 0s 16ms/step - loss: 5.9669 - mae: 5.9669\n",
      "Epoch 71/100\n",
      "1/1 [==============================] - 0s 16ms/step - loss: 5.9400 - mae: 5.9400\n",
      "Epoch 72/100\n",
      "1/1 [==============================] - 0s 16ms/step - loss: 5.9128 - mae: 5.9128\n",
      "Epoch 73/100\n",
      "1/1 [==============================] - 0s 16ms/step - loss: 5.8853 - mae: 5.8853\n",
      "Epoch 74/100\n",
      "1/1 [==============================] - 0s 10ms/step - loss: 5.8576 - mae: 5.8576\n",
      "Epoch 75/100\n",
      "1/1 [==============================] - 0s 16ms/step - loss: 5.8296 - mae: 5.8296\n",
      "Epoch 76/100\n",
      "1/1 [==============================] - 0s 0s/step - loss: 5.8013 - mae: 5.8013\n",
      "Epoch 77/100\n",
      "1/1 [==============================] - 0s 16ms/step - loss: 5.7727 - mae: 5.7727\n",
      "Epoch 78/100\n",
      "1/1 [==============================] - 0s 16ms/step - loss: 5.7439 - mae: 5.7439\n",
      "Epoch 79/100\n",
      "1/1 [==============================] - 0s 0s/step - loss: 5.7147 - mae: 5.7147\n",
      "Epoch 80/100\n",
      "1/1 [==============================] - 0s 16ms/step - loss: 5.6853 - mae: 5.6853\n",
      "Epoch 81/100\n",
      "1/1 [==============================] - 0s 16ms/step - loss: 5.6556 - mae: 5.6556\n",
      "Epoch 82/100\n",
      "1/1 [==============================] - 0s 0s/step - loss: 5.6448 - mae: 5.6448\n",
      "Epoch 83/100\n",
      "1/1 [==============================] - 0s 16ms/step - loss: 5.6611 - mae: 5.6611\n",
      "Epoch 84/100\n",
      "1/1 [==============================] - 0s 13ms/step - loss: 5.7606 - mae: 5.7606\n",
      "Epoch 85/100\n",
      "1/1 [==============================] - 0s 16ms/step - loss: 5.5606 - mae: 5.5606\n",
      "Epoch 86/100\n",
      "1/1 [==============================] - 0s 16ms/step - loss: 5.5298 - mae: 5.5298\n",
      "Epoch 87/100\n",
      "1/1 [==============================] - 0s 0s/step - loss: 5.4987 - mae: 5.4987\n",
      "Epoch 88/100\n"
     ]
    },
    {
     "name": "stdout",
     "output_type": "stream",
     "text": [
      "1/1 [==============================] - 0s 16ms/step - loss: 5.4672 - mae: 5.4672\n",
      "Epoch 89/100\n",
      "1/1 [==============================] - 0s 7ms/step - loss: 5.4354 - mae: 5.4354\n",
      "Epoch 90/100\n",
      "1/1 [==============================] - 0s 16ms/step - loss: 5.4033 - mae: 5.4033\n",
      "Epoch 91/100\n",
      "1/1 [==============================] - 0s 16ms/step - loss: 5.3708 - mae: 5.3708\n",
      "Epoch 92/100\n",
      "1/1 [==============================] - 0s 0s/step - loss: 5.3379 - mae: 5.3379\n",
      "Epoch 93/100\n",
      "1/1 [==============================] - 0s 16ms/step - loss: 5.3047 - mae: 5.3047\n",
      "Epoch 94/100\n",
      "1/1 [==============================] - 0s 16ms/step - loss: 5.2948 - mae: 5.2948\n",
      "Epoch 95/100\n",
      "1/1 [==============================] - 0s 16ms/step - loss: 5.3515 - mae: 5.3515\n",
      "Epoch 96/100\n",
      "1/1 [==============================] - 0s 16ms/step - loss: 5.4146 - mae: 5.4146\n",
      "Epoch 97/100\n",
      "1/1 [==============================] - 0s 16ms/step - loss: 5.1982 - mae: 5.1982\n",
      "Epoch 98/100\n",
      "1/1 [==============================] - 0s 16ms/step - loss: 5.1637 - mae: 5.1637\n",
      "Epoch 99/100\n",
      "1/1 [==============================] - 0s 16ms/step - loss: 5.1287 - mae: 5.1287\n",
      "Epoch 100/100\n",
      "1/1 [==============================] - 0s 16ms/step - loss: 5.0933 - mae: 5.0933\n"
     ]
    },
    {
     "data": {
      "text/plain": [
       "<keras.callbacks.History at 0x117f6be4df0>"
      ]
     },
     "execution_count": 36,
     "metadata": {},
     "output_type": "execute_result"
    }
   ],
   "source": [
    "# 1. Create a model (this time with an extra hidden layer with 100 hidden units)\n",
    "\n",
    "model = tf.keras.Sequential()\n",
    "model.add(tf.keras.layers.Dense(100, activation=None))\n",
    "model.add(tf.keras.layers.Dense(1))\n",
    "\n",
    "# 2. Compile the model\n",
    "model.compile(loss = tf.keras.losses.mae,\n",
    "                optimizer = tf.keras.optimizers.SGD(),\n",
    "                metrics = [\"mae\"])\n",
    "\n",
    "# 3. Fit the model\n",
    "\n",
    "model.fit(tf.expand_dims(X, axis = -1), y, epochs = 100)"
   ]
  },
  {
   "cell_type": "code",
   "execution_count": 37,
   "metadata": {},
   "outputs": [
    {
     "name": "stdout",
     "output_type": "stream",
     "text": [
      "WARNING:tensorflow:5 out of the last 5 calls to <function Model.make_predict_function.<locals>.predict_function at 0x00000117F6BFBE50> triggered tf.function retracing. Tracing is expensive and the excessive number of tracings could be due to (1) creating @tf.function repeatedly in a loop, (2) passing tensors with different shapes, (3) passing Python objects instead of tensors. For (1), please define your @tf.function outside of the loop. For (2), @tf.function has reduce_retracing=True option that can avoid unnecessary retracing. For (3), please refer to https://www.tensorflow.org/guide/function#controlling_retracing and https://www.tensorflow.org/api_docs/python/tf/function for  more details.\n",
      "1/1 [==============================] - 0s 149ms/step\n"
     ]
    },
    {
     "data": {
      "text/plain": [
       "array([[29.924162]], dtype=float32)"
      ]
     },
     "execution_count": 37,
     "metadata": {},
     "output_type": "execute_result"
    }
   ],
   "source": [
    "model.predict([17.])"
   ]
  },
  {
   "cell_type": "code",
   "execution_count": 38,
   "metadata": {},
   "outputs": [
    {
     "name": "stdout",
     "output_type": "stream",
     "text": [
      "Epoch 1/100\n",
      "1/1 [==============================] - 2s 2s/step - loss: 15.4061 - mae: 15.4061\n",
      "Epoch 2/100\n",
      "1/1 [==============================] - 0s 16ms/step - loss: 14.5333 - mae: 14.5333\n",
      "Epoch 3/100\n",
      "1/1 [==============================] - 0s 16ms/step - loss: 13.8275 - mae: 13.8275\n",
      "Epoch 4/100\n",
      "1/1 [==============================] - 0s 16ms/step - loss: 13.1351 - mae: 13.1351\n",
      "Epoch 5/100\n",
      "1/1 [==============================] - 0s 16ms/step - loss: 12.4526 - mae: 12.4526\n",
      "Epoch 6/100\n",
      "1/1 [==============================] - 0s 16ms/step - loss: 11.7783 - mae: 11.7783\n",
      "Epoch 7/100\n",
      "1/1 [==============================] - 0s 16ms/step - loss: 11.1105 - mae: 11.1105\n",
      "Epoch 8/100\n",
      "1/1 [==============================] - 0s 16ms/step - loss: 10.4473 - mae: 10.4473\n",
      "Epoch 9/100\n",
      "1/1 [==============================] - 0s 16ms/step - loss: 9.7864 - mae: 9.7864\n",
      "Epoch 10/100\n",
      "1/1 [==============================] - 0s 16ms/step - loss: 9.1253 - mae: 9.1253\n",
      "Epoch 11/100\n",
      "1/1 [==============================] - 0s 12ms/step - loss: 8.4612 - mae: 8.4612\n",
      "Epoch 12/100\n",
      "1/1 [==============================] - 0s 16ms/step - loss: 7.7914 - mae: 7.7914\n",
      "Epoch 13/100\n",
      "1/1 [==============================] - 0s 16ms/step - loss: 7.1132 - mae: 7.1132\n",
      "Epoch 14/100\n",
      "1/1 [==============================] - 0s 16ms/step - loss: 6.5922 - mae: 6.5922\n",
      "Epoch 15/100\n",
      "1/1 [==============================] - 0s 6ms/step - loss: 6.6273 - mae: 6.6273\n",
      "Epoch 16/100\n",
      "1/1 [==============================] - 0s 16ms/step - loss: 6.8990 - mae: 6.8990\n",
      "Epoch 17/100\n",
      "1/1 [==============================] - 0s 31ms/step - loss: 7.0799 - mae: 7.0799\n",
      "Epoch 18/100\n",
      "1/1 [==============================] - 0s 16ms/step - loss: 7.2490 - mae: 7.2490\n",
      "Epoch 19/100\n",
      "1/1 [==============================] - 0s 15ms/step - loss: 7.2876 - mae: 7.2876\n",
      "Epoch 20/100\n",
      "1/1 [==============================] - 0s 16ms/step - loss: 7.1762 - mae: 7.1762\n",
      "Epoch 21/100\n",
      "1/1 [==============================] - 0s 16ms/step - loss: 6.9477 - mae: 6.9477\n",
      "Epoch 22/100\n",
      "1/1 [==============================] - 0s 16ms/step - loss: 6.7204 - mae: 6.7204\n",
      "Epoch 23/100\n",
      "1/1 [==============================] - 0s 16ms/step - loss: 6.4966 - mae: 6.4966\n",
      "Epoch 24/100\n",
      "1/1 [==============================] - 0s 16ms/step - loss: 6.2588 - mae: 6.2588\n",
      "Epoch 25/100\n",
      "1/1 [==============================] - 0s 16ms/step - loss: 6.0099 - mae: 6.0099\n",
      "Epoch 26/100\n",
      "1/1 [==============================] - 0s 14ms/step - loss: 5.9170 - mae: 5.9170\n",
      "Epoch 27/100\n",
      "1/1 [==============================] - 0s 12ms/step - loss: 5.8715 - mae: 5.8715\n",
      "Epoch 28/100\n",
      "1/1 [==============================] - 0s 14ms/step - loss: 5.9468 - mae: 5.9468\n",
      "Epoch 29/100\n",
      "1/1 [==============================] - 0s 13ms/step - loss: 6.0077 - mae: 6.0077\n",
      "Epoch 30/100\n",
      "1/1 [==============================] - 0s 15ms/step - loss: 5.9819 - mae: 5.9819\n",
      "Epoch 31/100\n",
      "1/1 [==============================] - 0s 12ms/step - loss: 5.8796 - mae: 5.8796\n",
      "Epoch 32/100\n",
      "1/1 [==============================] - 0s 20ms/step - loss: 5.7085 - mae: 5.7085\n",
      "Epoch 33/100\n",
      "1/1 [==============================] - 0s 16ms/step - loss: 5.4743 - mae: 5.4743\n",
      "Epoch 34/100\n",
      "1/1 [==============================] - 0s 16ms/step - loss: 5.3306 - mae: 5.3306\n",
      "Epoch 35/100\n",
      "1/1 [==============================] - 0s 31ms/step - loss: 5.2252 - mae: 5.2252\n",
      "Epoch 36/100\n",
      "1/1 [==============================] - 0s 16ms/step - loss: 5.1511 - mae: 5.1511\n",
      "Epoch 37/100\n",
      "1/1 [==============================] - 0s 6ms/step - loss: 5.1474 - mae: 5.1474\n",
      "Epoch 38/100\n",
      "1/1 [==============================] - 0s 0s/step - loss: 5.1047 - mae: 5.1047\n",
      "Epoch 39/100\n",
      "1/1 [==============================] - 0s 16ms/step - loss: 5.0258 - mae: 5.0258\n",
      "Epoch 40/100\n",
      "1/1 [==============================] - 0s 16ms/step - loss: 4.9132 - mae: 4.9132\n",
      "Epoch 41/100\n",
      "1/1 [==============================] - 0s 16ms/step - loss: 4.7692 - mae: 4.7692\n",
      "Epoch 42/100\n",
      "1/1 [==============================] - 0s 15ms/step - loss: 4.5961 - mae: 4.5961\n",
      "Epoch 43/100\n",
      "1/1 [==============================] - 0s 16ms/step - loss: 4.4426 - mae: 4.4426\n",
      "Epoch 44/100\n",
      "1/1 [==============================] - 0s 16ms/step - loss: 4.3452 - mae: 4.3452\n",
      "Epoch 45/100\n",
      "1/1 [==============================] - 0s 16ms/step - loss: 4.2406 - mae: 4.2406\n",
      "Epoch 46/100\n",
      "1/1 [==============================] - 0s 23ms/step - loss: 4.1285 - mae: 4.1285\n",
      "Epoch 47/100\n",
      "1/1 [==============================] - 0s 16ms/step - loss: 4.0712 - mae: 4.0712\n",
      "Epoch 48/100\n",
      "1/1 [==============================] - 0s 16ms/step - loss: 3.9209 - mae: 3.9209\n",
      "Epoch 49/100\n",
      "1/1 [==============================] - 0s 16ms/step - loss: 3.7226 - mae: 3.7226\n",
      "Epoch 50/100\n",
      "1/1 [==============================] - 0s 0s/step - loss: 3.5649 - mae: 3.5649\n",
      "Epoch 51/100\n",
      "1/1 [==============================] - 0s 16ms/step - loss: 3.4000 - mae: 3.4000\n",
      "Epoch 52/100\n",
      "1/1 [==============================] - 0s 16ms/step - loss: 3.2854 - mae: 3.2854\n",
      "Epoch 53/100\n",
      "1/1 [==============================] - 0s 16ms/step - loss: 3.1568 - mae: 3.1568\n",
      "Epoch 54/100\n",
      "1/1 [==============================] - 0s 16ms/step - loss: 2.9773 - mae: 2.9773\n",
      "Epoch 55/100\n",
      "1/1 [==============================] - 0s 16ms/step - loss: 2.7487 - mae: 2.7487\n",
      "Epoch 56/100\n",
      "1/1 [==============================] - 0s 19ms/step - loss: 2.5486 - mae: 2.5486\n",
      "Epoch 57/100\n",
      "1/1 [==============================] - 0s 13ms/step - loss: 2.3676 - mae: 2.3676\n",
      "Epoch 58/100\n",
      "1/1 [==============================] - 0s 16ms/step - loss: 2.2838 - mae: 2.2838\n",
      "Epoch 59/100\n",
      "1/1 [==============================] - 0s 16ms/step - loss: 2.0546 - mae: 2.0546\n",
      "Epoch 60/100\n",
      "1/1 [==============================] - 0s 16ms/step - loss: 1.7267 - mae: 1.7267\n",
      "Epoch 61/100\n",
      "1/1 [==============================] - 0s 25ms/step - loss: 1.5145 - mae: 1.5145\n",
      "Epoch 62/100\n",
      "1/1 [==============================] - 0s 0s/step - loss: 1.3225 - mae: 1.3225\n",
      "Epoch 63/100\n",
      "1/1 [==============================] - 0s 16ms/step - loss: 1.0618 - mae: 1.0618\n",
      "Epoch 64/100\n",
      "1/1 [==============================] - 0s 16ms/step - loss: 0.7456 - mae: 0.7456\n",
      "Epoch 65/100\n",
      "1/1 [==============================] - 0s 16ms/step - loss: 0.5372 - mae: 0.5372\n",
      "Epoch 66/100\n",
      "1/1 [==============================] - 0s 0s/step - loss: 0.2053 - mae: 0.2053\n",
      "Epoch 67/100\n",
      "1/1 [==============================] - 0s 0s/step - loss: 0.3335 - mae: 0.3335\n",
      "Epoch 68/100\n",
      "1/1 [==============================] - 0s 16ms/step - loss: 0.4826 - mae: 0.4826\n",
      "Epoch 69/100\n",
      "1/1 [==============================] - 0s 16ms/step - loss: 0.5656 - mae: 0.5656\n",
      "Epoch 70/100\n",
      "1/1 [==============================] - 0s 16ms/step - loss: 0.7644 - mae: 0.7644\n",
      "Epoch 71/100\n",
      "1/1 [==============================] - 0s 16ms/step - loss: 0.7905 - mae: 0.7905\n",
      "Epoch 72/100\n",
      "1/1 [==============================] - 0s 22ms/step - loss: 0.9063 - mae: 0.9063\n",
      "Epoch 73/100\n",
      "1/1 [==============================] - 0s 10ms/step - loss: 0.9129 - mae: 0.9129\n",
      "Epoch 74/100\n",
      "1/1 [==============================] - 0s 16ms/step - loss: 0.7875 - mae: 0.7875\n",
      "Epoch 75/100\n",
      "1/1 [==============================] - 0s 0s/step - loss: 0.8107 - mae: 0.8107\n",
      "Epoch 76/100\n",
      "1/1 [==============================] - 0s 16ms/step - loss: 0.6912 - mae: 0.6912\n",
      "Epoch 77/100\n",
      "1/1 [==============================] - 0s 16ms/step - loss: 0.5364 - mae: 0.5364\n",
      "Epoch 78/100\n",
      "1/1 [==============================] - 0s 16ms/step - loss: 0.4327 - mae: 0.4327\n",
      "Epoch 79/100\n",
      "1/1 [==============================] - 0s 16ms/step - loss: 0.2393 - mae: 0.2393\n",
      "Epoch 80/100\n",
      "1/1 [==============================] - 0s 0s/step - loss: 0.1290 - mae: 0.1290\n",
      "Epoch 81/100\n",
      "1/1 [==============================] - 0s 16ms/step - loss: 0.2179 - mae: 0.2179\n",
      "Epoch 82/100\n",
      "1/1 [==============================] - 0s 16ms/step - loss: 0.2734 - mae: 0.2734\n",
      "Epoch 83/100\n",
      "1/1 [==============================] - 0s 19ms/step - loss: 0.4288 - mae: 0.4288\n",
      "Epoch 84/100\n",
      "1/1 [==============================] - 0s 13ms/step - loss: 0.5073 - mae: 0.5073\n",
      "Epoch 85/100\n",
      "1/1 [==============================] - 0s 16ms/step - loss: 0.4314 - mae: 0.4314\n",
      "Epoch 86/100\n",
      "1/1 [==============================] - 0s 16ms/step - loss: 0.4991 - mae: 0.4991\n",
      "Epoch 87/100\n",
      "1/1 [==============================] - 0s 16ms/step - loss: 0.5243 - mae: 0.5243\n",
      "Epoch 88/100\n"
     ]
    },
    {
     "name": "stdout",
     "output_type": "stream",
     "text": [
      "1/1 [==============================] - 0s 25ms/step - loss: 0.3867 - mae: 0.3867\n",
      "Epoch 89/100\n",
      "1/1 [==============================] - 0s 0s/step - loss: 0.2849 - mae: 0.2849\n",
      "Epoch 90/100\n",
      "1/1 [==============================] - 0s 16ms/step - loss: 0.2545 - mae: 0.2545\n",
      "Epoch 91/100\n",
      "1/1 [==============================] - 0s 16ms/step - loss: 0.1249 - mae: 0.1249\n",
      "Epoch 92/100\n",
      "1/1 [==============================] - 0s 16ms/step - loss: 0.2641 - mae: 0.2641\n",
      "Epoch 93/100\n",
      "1/1 [==============================] - 0s 15ms/step - loss: 0.3753 - mae: 0.3753\n",
      "Epoch 94/100\n",
      "1/1 [==============================] - 0s 16ms/step - loss: 0.3377 - mae: 0.3377\n",
      "Epoch 95/100\n",
      "1/1 [==============================] - 0s 16ms/step - loss: 0.2114 - mae: 0.2114\n",
      "Epoch 96/100\n",
      "1/1 [==============================] - 0s 0s/step - loss: 0.2939 - mae: 0.2939\n",
      "Epoch 97/100\n",
      "1/1 [==============================] - 0s 16ms/step - loss: 0.1563 - mae: 0.1563\n",
      "Epoch 98/100\n",
      "1/1 [==============================] - 0s 21ms/step - loss: 0.2273 - mae: 0.2273\n",
      "Epoch 99/100\n",
      "1/1 [==============================] - 0s 11ms/step - loss: 0.2264 - mae: 0.2264\n",
      "Epoch 100/100\n",
      "1/1 [==============================] - 0s 16ms/step - loss: 0.0896 - mae: 0.0896\n"
     ]
    },
    {
     "data": {
      "text/plain": [
       "<keras.callbacks.History at 0x117f7c91040>"
      ]
     },
     "execution_count": 38,
     "metadata": {},
     "output_type": "execute_result"
    }
   ],
   "source": [
    "# 1. Create a model (this time with an extra hidden layer with 100 hidden units)\n",
    "\n",
    "model = tf.keras.Sequential()\n",
    "model.add(tf.keras.layers.Dense(50, activation=None))\n",
    "model.add(tf.keras.layers.Dense(1))\n",
    "\n",
    "# 2. Compile the model\n",
    "model.compile(loss = tf.keras.losses.mae,\n",
    "                optimizer = tf.keras.optimizers.Adam(learning_rate = 0.01),\n",
    "                metrics = [\"mae\"])\n",
    "\n",
    "# 3. Fit the model\n",
    "\n",
    "model.fit(tf.expand_dims(X, axis = -1), y, epochs = 100)"
   ]
  },
  {
   "cell_type": "code",
   "execution_count": 39,
   "metadata": {},
   "outputs": [
    {
     "name": "stdout",
     "output_type": "stream",
     "text": [
      "WARNING:tensorflow:6 out of the last 6 calls to <function Model.make_predict_function.<locals>.predict_function at 0x00000117F7CAB1F0> triggered tf.function retracing. Tracing is expensive and the excessive number of tracings could be due to (1) creating @tf.function repeatedly in a loop, (2) passing tensors with different shapes, (3) passing Python objects instead of tensors. For (1), please define your @tf.function outside of the loop. For (2), @tf.function has reduce_retracing=True option that can avoid unnecessary retracing. For (3), please refer to https://www.tensorflow.org/guide/function#controlling_retracing and https://www.tensorflow.org/api_docs/python/tf/function for  more details.\n",
      "1/1 [==============================] - 0s 141ms/step\n"
     ]
    },
    {
     "data": {
      "text/plain": [
       "array([[26.672026]], dtype=float32)"
      ]
     },
     "execution_count": 39,
     "metadata": {},
     "output_type": "execute_result"
    }
   ],
   "source": [
    "model.predict([17.])"
   ]
  },
  {
   "cell_type": "markdown",
   "metadata": {},
   "source": [
    "### The learning rate is the most important hyperparameter of many different neural networks. "
   ]
  },
  {
   "cell_type": "markdown",
   "metadata": {},
   "source": [
    "## EVALUATING A TF MODEL PT1\n",
    "\n",
    "In practice, a typical worflow you'll go through when building neural network is:\n",
    "\n",
    "```\n",
    "Build a model -> fit it -> evaluate it -> tweak a model -> fit it -> evaluate it -> tweak a model -> fit it -> evaluate it...\n",
    "```"
   ]
  },
  {
   "cell_type": "markdown",
   "metadata": {},
   "source": [
    "When it comes to evaluation... there are 3 words you should memorize:\n",
    "> \"Visualize, visualize, visualize\"\n",
    "\n",
    "It's a good idea to visualize:\n",
    "* The data - what data are we working with? What does it look like?\n",
    "* The model itself - how does our model look like?\n",
    "* The training of a model - how does a model perform while it learns?\n",
    "* The predictions of the model - how do the predictions of a model line up against the ground truth (the original labels)?"
   ]
  },
  {
   "cell_type": "code",
   "execution_count": 40,
   "metadata": {},
   "outputs": [
    {
     "data": {
      "text/plain": [
       "<tf.Tensor: shape=(50,), dtype=int32, numpy=\n",
       "array([-100,  -96,  -92,  -88,  -84,  -80,  -76,  -72,  -68,  -64,  -60,\n",
       "        -56,  -52,  -48,  -44,  -40,  -36,  -32,  -28,  -24,  -20,  -16,\n",
       "        -12,   -8,   -4,    0,    4,    8,   12,   16,   20,   24,   28,\n",
       "         32,   36,   40,   44,   48,   52,   56,   60,   64,   68,   72,\n",
       "         76,   80,   84,   88,   92,   96])>"
      ]
     },
     "execution_count": 40,
     "metadata": {},
     "output_type": "execute_result"
    }
   ],
   "source": [
    "# Make a bigger dataset\n",
    "X = tf.range(-100, 100, 4)\n",
    "X"
   ]
  },
  {
   "cell_type": "code",
   "execution_count": 41,
   "metadata": {},
   "outputs": [
    {
     "data": {
      "text/plain": [
       "<tf.Tensor: shape=(50,), dtype=int32, numpy=\n",
       "array([-90, -86, -82, -78, -74, -70, -66, -62, -58, -54, -50, -46, -42,\n",
       "       -38, -34, -30, -26, -22, -18, -14, -10,  -6,  -2,   2,   6,  10,\n",
       "        14,  18,  22,  26,  30,  34,  38,  42,  46,  50,  54,  58,  62,\n",
       "        66,  70,  74,  78,  82,  86,  90,  94,  98, 102, 106])>"
      ]
     },
     "execution_count": 41,
     "metadata": {},
     "output_type": "execute_result"
    }
   ],
   "source": [
    "# Make labels for the dataset\n",
    "y = X + 10\n",
    "y"
   ]
  },
  {
   "cell_type": "code",
   "execution_count": 42,
   "metadata": {},
   "outputs": [
    {
     "data": {
      "text/plain": [
       "[<matplotlib.lines.Line2D at 0x117f6b0e190>]"
      ]
     },
     "execution_count": 42,
     "metadata": {},
     "output_type": "execute_result"
    },
    {
     "data": {
      "image/png": "[encoded data removed]",
      "text/plain": [
       "<Figure size 640x480 with 1 Axes>"
      ]
     },
     "metadata": {},
     "output_type": "display_data"
    }
   ],
   "source": [
    "# Visualize the data\n",
    "import matplotlib.pyplot as plt\n",
    "\n",
    "plt.plot(X, y)"
   ]
  },
  {
   "cell_type": "code",
   "execution_count": 43,
   "metadata": {},
   "outputs": [
    {
     "data": {
      "text/plain": [
       "<matplotlib.collections.PathCollection at 0x117f7ead880>"
      ]
     },
     "execution_count": 43,
     "metadata": {},
     "output_type": "execute_result"
    },
    {
     "data": {
      "image/png": "[encoded data removed]",
      "text/plain": [
       "<Figure size 640x480 with 1 Axes>"
      ]
     },
     "metadata": {},
     "output_type": "display_data"
    }
   ],
   "source": [
    "plt.scatter(X, y)"
   ]
  },
  {
   "cell_type": "markdown",
   "metadata": {},
   "source": [
    "### The 3 sets...\n",
    "\n",
    "* **Training set** - the model learns from this data, which is typically 70-80% of the total data you have available.\n",
    "* **Validation set** - the model gets tuned on this data, which is typically 10-15% of the data available.\n",
    "* **Test set** - the model gets evaluated on this data to test whatit has learned, this set is typically 10-15% of the total data available."
   ]
  },
  {
   "cell_type": "code",
   "execution_count": 44,
   "metadata": {},
   "outputs": [
    {
     "data": {
      "text/plain": [
       "50"
      ]
     },
     "execution_count": 44,
     "metadata": {},
     "output_type": "execute_result"
    }
   ],
   "source": [
    "# Check the length of how many samples we have\n",
    "len(X)"
   ]
  },
  {
   "cell_type": "code",
   "execution_count": 45,
   "metadata": {},
   "outputs": [
    {
     "data": {
      "text/plain": [
       "(40, 10, 40, 10)"
      ]
     },
     "execution_count": 45,
     "metadata": {},
     "output_type": "execute_result"
    }
   ],
   "source": [
    "# Split the data into train and test sets\n",
    "\n",
    "X_train = X[:40] # first 40 are training samples (80% of the data)\n",
    "y_train = y[:40]\n",
    "\n",
    "X_test = X[40:] # last 10 are testing samples (20% of the data)\n",
    "y_test = y[40:]\n",
    "\n",
    "len(X_train), len(X_test), len(y_train), len(y_test)"
   ]
  },
  {
   "cell_type": "markdown",
   "metadata": {},
   "source": [
    "### Visualizing the data\n",
    "\n",
    "Now, we've got our data in training and test sets... let's visualize it again!"
   ]
  },
  {
   "cell_type": "code",
   "execution_count": 46,
   "metadata": {},
   "outputs": [
    {
     "data": {
      "image/png": "[encoded data removed]",
      "text/plain": [
       "<Figure size 1000x700 with 1 Axes>"
      ]
     },
     "metadata": {},
     "output_type": "display_data"
    }
   ],
   "source": [
    "plt.figure(figsize=(10, 7))\n",
    "\n",
    "# Plot training data in blue\n",
    "plt.scatter(X_train, y_train, c=\"b\", label = \"Training data\")\n",
    "\n",
    "# Plot test data in green\n",
    "plt.scatter(X_test, y_test, c = \"g\", label = \"esting data\")\n",
    "\n",
    "# Show a legend\n",
    "plt.legend();"
   ]
  },
  {
   "cell_type": "code",
   "execution_count": 47,
   "metadata": {},
   "outputs": [],
   "source": [
    "# Let's have a look at how to build a neural network for our data\n",
    "\n",
    "# 1. Create a model:\n",
    "model = tf.keras.Sequential()\n",
    "model.add(tf.keras.layers.Dense(1))\n",
    "\n",
    "# 2. Compile the model\n",
    "model.compile(loss = tf.keras.losses.mae,\n",
    "                optimizer = tf.keras.optimizers.SGD(),\n",
    "                metrics = [\"mae\"])\n",
    "\n",
    "# # 3. Fit the model\n",
    "# model.fit(tf.expand_dims(X_train, axis = -1), y_train, epochs = 100)"
   ]
  },
  {
   "cell_type": "markdown",
   "metadata": {},
   "source": [
    "### Visualizing the model"
   ]
  },
  {
   "cell_type": "code",
   "execution_count": 48,
   "metadata": {},
   "outputs": [
    {
     "ename": "ValueError",
     "evalue": "This model has not yet been built. Build the model first by calling `build()` or by calling the model on a batch of data.",
     "output_type": "error",
     "traceback": [
      "\u001b[1;31m---------------------------------------------------------------------------\u001b[0m",
      "\u001b[1;31mValueError\u001b[0m                                Traceback (most recent call last)",
      "\u001b[1;32m~\\AppData\\Local\\Temp\\ipykernel_2452\\3470139634.py\u001b[0m in \u001b[0;36m<module>\u001b[1;34m\u001b[0m\n\u001b[1;32m----> 1\u001b[1;33m \u001b[0mmodel\u001b[0m\u001b[1;33m.\u001b[0m\u001b[0msummary\u001b[0m\u001b[1;33m(\u001b[0m\u001b[1;33m)\u001b[0m\u001b[1;33m\u001b[0m\u001b[1;33m\u001b[0m\u001b[0m\n\u001b[0m",
      "\u001b[1;32m~\\anaconda3\\lib\\site-packages\\keras\\engine\\training.py\u001b[0m in \u001b[0;36msummary\u001b[1;34m(self, line_length, positions, print_fn, expand_nested, show_trainable, layer_range)\u001b[0m\n\u001b[0;32m   3290\u001b[0m         \"\"\"\n\u001b[0;32m   3291\u001b[0m         \u001b[1;32mif\u001b[0m \u001b[1;32mnot\u001b[0m \u001b[0mself\u001b[0m\u001b[1;33m.\u001b[0m\u001b[0mbuilt\u001b[0m\u001b[1;33m:\u001b[0m\u001b[1;33m\u001b[0m\u001b[1;33m\u001b[0m\u001b[0m\n\u001b[1;32m-> 3292\u001b[1;33m             raise ValueError(\n\u001b[0m\u001b[0;32m   3293\u001b[0m                 \u001b[1;34m\"This model has not yet been built. \"\u001b[0m\u001b[1;33m\u001b[0m\u001b[1;33m\u001b[0m\u001b[0m\n\u001b[0;32m   3294\u001b[0m                 \u001b[1;34m\"Build the model first by calling `build()` or by calling \"\u001b[0m\u001b[1;33m\u001b[0m\u001b[1;33m\u001b[0m\u001b[0m\n",
      "\u001b[1;31mValueError\u001b[0m: This model has not yet been built. Build the model first by calling `build()` or by calling the model on a batch of data."
     ]
    }
   ],
   "source": [
    "model.summary()"
   ]
  },
  {
   "cell_type": "code",
   "execution_count": 49,
   "metadata": {},
   "outputs": [
    {
     "ename": "ValueError",
     "evalue": "You must provide an `input_shape` argument.",
     "output_type": "error",
     "traceback": [
      "\u001b[1;31m---------------------------------------------------------------------------\u001b[0m",
      "\u001b[1;31mValueError\u001b[0m                                Traceback (most recent call last)",
      "\u001b[1;32m~\\AppData\\Local\\Temp\\ipykernel_2452\\1363003330.py\u001b[0m in \u001b[0;36m<module>\u001b[1;34m\u001b[0m\n\u001b[1;32m----> 1\u001b[1;33m \u001b[0mmodel\u001b[0m\u001b[1;33m.\u001b[0m\u001b[0mbuild\u001b[0m\u001b[1;33m(\u001b[0m\u001b[1;33m)\u001b[0m\u001b[1;33m\u001b[0m\u001b[1;33m\u001b[0m\u001b[0m\n\u001b[0m",
      "\u001b[1;32m~\\anaconda3\\lib\\site-packages\\keras\\engine\\sequential.py\u001b[0m in \u001b[0;36mbuild\u001b[1;34m(self, input_shape)\u001b[0m\n\u001b[0;32m    377\u001b[0m         \u001b[1;32melse\u001b[0m\u001b[1;33m:\u001b[0m\u001b[1;33m\u001b[0m\u001b[1;33m\u001b[0m\u001b[0m\n\u001b[0;32m    378\u001b[0m             \u001b[1;32mif\u001b[0m \u001b[0minput_shape\u001b[0m \u001b[1;32mis\u001b[0m \u001b[1;32mNone\u001b[0m\u001b[1;33m:\u001b[0m\u001b[1;33m\u001b[0m\u001b[1;33m\u001b[0m\u001b[0m\n\u001b[1;32m--> 379\u001b[1;33m                 \u001b[1;32mraise\u001b[0m \u001b[0mValueError\u001b[0m\u001b[1;33m(\u001b[0m\u001b[1;34m\"You must provide an `input_shape` argument.\"\u001b[0m\u001b[1;33m)\u001b[0m\u001b[1;33m\u001b[0m\u001b[1;33m\u001b[0m\u001b[0m\n\u001b[0m\u001b[0;32m    380\u001b[0m             \u001b[0mself\u001b[0m\u001b[1;33m.\u001b[0m\u001b[0m_build_graph_network_for_inferred_shape\u001b[0m\u001b[1;33m(\u001b[0m\u001b[0minput_shape\u001b[0m\u001b[1;33m)\u001b[0m\u001b[1;33m\u001b[0m\u001b[1;33m\u001b[0m\u001b[0m\n\u001b[0;32m    381\u001b[0m             \u001b[1;32mif\u001b[0m \u001b[1;32mnot\u001b[0m \u001b[0mself\u001b[0m\u001b[1;33m.\u001b[0m\u001b[0mbuilt\u001b[0m\u001b[1;33m:\u001b[0m\u001b[1;33m\u001b[0m\u001b[1;33m\u001b[0m\u001b[0m\n",
      "\u001b[1;31mValueError\u001b[0m: You must provide an `input_shape` argument."
     ]
    }
   ],
   "source": [
    "model.build()"
   ]
  },
  {
   "cell_type": "code",
   "execution_count": 50,
   "metadata": {},
   "outputs": [
    {
     "data": {
      "text/plain": [
       "TensorShape([50])"
      ]
     },
     "execution_count": 50,
     "metadata": {},
     "output_type": "execute_result"
    }
   ],
   "source": [
    "X.shape"
   ]
  },
  {
   "cell_type": "code",
   "execution_count": 51,
   "metadata": {},
   "outputs": [
    {
     "data": {
      "text/plain": [
       "TensorShape([])"
      ]
     },
     "execution_count": 51,
     "metadata": {},
     "output_type": "execute_result"
    }
   ],
   "source": [
    "X[0].shape\n",
    "# a scaler value - shape is 1 -> using 1 value to predict 1 value"
   ]
  },
  {
   "cell_type": "code",
   "execution_count": 52,
   "metadata": {},
   "outputs": [],
   "source": [
    "# let's create a model which builds automatically by defininf the input shape argument in the first layer\n",
    "tf.random.set_seed(42)\n",
    "\n",
    "model = tf.keras.Sequential([\n",
    "    tf.keras.layers.Dense(1, input_shape=[1])\n",
    "])\n",
    "\n",
    "model.compile(loss = tf.keras.losses.mae,\n",
    "                optimizer = tf.keras.optimizers.SGD(),\n",
    "                metrics = [\"mae\"])"
   ]
  },
  {
   "cell_type": "code",
   "execution_count": 53,
   "metadata": {},
   "outputs": [
    {
     "name": "stdout",
     "output_type": "stream",
     "text": [
      "Model: \"sequential_7\"\n",
      "_________________________________________________________________\n",
      " Layer (type)                Output Shape              Param #   \n",
      "=================================================================\n",
      " dense_11 (Dense)            (None, 1)                 2         \n",
      "                                                                 \n",
      "=================================================================\n",
      "Total params: 2\n",
      "Trainable params: 2\n",
      "Non-trainable params: 0\n",
      "_________________________________________________________________\n"
     ]
    }
   ],
   "source": [
    "model.summary()"
   ]
  },
  {
   "cell_type": "markdown",
   "metadata": {},
   "source": [
    "* Total params - total number of parameters in the model.\n",
    "* Trainable parameters - these are the parameters (patterns) the model can update as it trains.\n",
    "* Non-trainable parameters - these parameters are not updated during training (this is typical when you bring in already learned patterns or parameters from other models during **transfer learning**)\n",
    "\n",
    "**Resource:** Check out MIT's introduction to deep learning video.\n",
    "**Exercise:** Try playing around with the number of hidden units in the dense layers, see how that affects the number of parameters (total and trainable) by calling `model.summary()`"
   ]
  },
  {
   "cell_type": "code",
   "execution_count": 54,
   "metadata": {},
   "outputs": [
    {
     "name": "stdout",
     "output_type": "stream",
     "text": [
      "Model: \"sequential_8\"\n",
      "_________________________________________________________________\n",
      " Layer (type)                Output Shape              Param #   \n",
      "=================================================================\n",
      " dense_12 (Dense)            (None, 4)                 8         \n",
      "                                                                 \n",
      "=================================================================\n",
      "Total params: 8\n",
      "Trainable params: 8\n",
      "Non-trainable params: 0\n",
      "_________________________________________________________________\n"
     ]
    }
   ],
   "source": [
    "model = tf.keras.Sequential([\n",
    "    tf.keras.layers.Dense(4, input_shape=[1])\n",
    "])\n",
    "\n",
    "model.compile(loss = tf.keras.losses.mae,\n",
    "                optimizer = tf.keras.optimizers.SGD(),\n",
    "                metrics = [\"mae\"])\n",
    "\n",
    "model.summary()"
   ]
  },
  {
   "cell_type": "code",
   "execution_count": 55,
   "metadata": {},
   "outputs": [
    {
     "name": "stdout",
     "output_type": "stream",
     "text": [
      "Model: \"sequential_9\"\n",
      "_________________________________________________________________\n",
      " Layer (type)                Output Shape              Param #   \n",
      "=================================================================\n",
      " dense_13 (Dense)            (None, 20)                40        \n",
      "                                                                 \n",
      "=================================================================\n",
      "Total params: 40\n",
      "Trainable params: 40\n",
      "Non-trainable params: 0\n",
      "_________________________________________________________________\n"
     ]
    }
   ],
   "source": [
    "model = tf.keras.Sequential([\n",
    "    tf.keras.layers.Dense(20, input_shape=[1])\n",
    "])\n",
    "\n",
    "model.compile(loss = tf.keras.losses.mae,\n",
    "                optimizer = tf.keras.optimizers.SGD(),\n",
    "                metrics = [\"mae\"])\n",
    "\n",
    "model.summary()"
   ]
  },
  {
   "cell_type": "code",
   "execution_count": 56,
   "metadata": {},
   "outputs": [
    {
     "data": {
      "text/plain": [
       "<keras.callbacks.History at 0x117f9089310>"
      ]
     },
     "execution_count": 56,
     "metadata": {},
     "output_type": "execute_result"
    }
   ],
   "source": [
    "# Let's fit our model to the training data\n",
    "model.fit(X_train, y_train, epochs=100, verbose = 0)"
   ]
  },
  {
   "cell_type": "code",
   "execution_count": null,
   "metadata": {},
   "outputs": [],
   "source": [
    "# # Let's fit our model to the training data\n",
    "# model.fit(X_train, y_train, epochs=100, verbose = 1)"
   ]
  },
  {
   "cell_type": "markdown",
   "metadata": {},
   "source": [
    "### PART 4"
   ]
  },
  {
   "cell_type": "code",
   "execution_count": 57,
   "metadata": {},
   "outputs": [
    {
     "name": "stdout",
     "output_type": "stream",
     "text": [
      "Model: \"sequential_9\"\n",
      "_________________________________________________________________\n",
      " Layer (type)                Output Shape              Param #   \n",
      "=================================================================\n",
      " dense_13 (Dense)            (None, 20)                40        \n",
      "                                                                 \n",
      "=================================================================\n",
      "Total params: 40\n",
      "Trainable params: 40\n",
      "Non-trainable params: 0\n",
      "_________________________________________________________________\n"
     ]
    }
   ],
   "source": [
    "# Get a summary of our model\n",
    "model.summary()"
   ]
  },
  {
   "cell_type": "markdown",
   "metadata": {},
   "source": [
    "* 2 trainable parameters per hidden unit (weight and bias?)"
   ]
  },
  {
   "cell_type": "code",
   "execution_count": 58,
   "metadata": {},
   "outputs": [],
   "source": [
    "from tensorflow.keras.utils import plot_model"
   ]
  },
  {
   "cell_type": "code",
   "execution_count": 59,
   "metadata": {},
   "outputs": [
    {
     "data": {
      "image/png": "[encoded data removed]",
      "text/plain": [
       "<IPython.core.display.Image object>"
      ]
     },
     "execution_count": 59,
     "metadata": {},
     "output_type": "execute_result"
    }
   ],
   "source": [
    "plot_model(model = model)"
   ]
  },
  {
   "cell_type": "code",
   "execution_count": 60,
   "metadata": {},
   "outputs": [
    {
     "data": {
      "image/png": "[encoded data removed]",
      "text/plain": [
       "<IPython.core.display.Image object>"
      ]
     },
     "execution_count": 60,
     "metadata": {},
     "output_type": "execute_result"
    }
   ],
   "source": [
    "plot_model(model = model, show_shapes=True)"
   ]
  },
  {
   "cell_type": "code",
   "execution_count": 107,
   "metadata": {},
   "outputs": [
    {
     "name": "stdout",
     "output_type": "stream",
     "text": [
      "Model: \"model1\"\n",
      "_________________________________________________________________\n",
      " Layer (type)                Output Shape              Param #   \n",
      "=================================================================\n",
      " input_layer (Dense)         (None, 20)                40        \n",
      "                                                                 \n",
      " output_layer (Dense)        (None, 1)                 21        \n",
      "                                                                 \n",
      "=================================================================\n",
      "Total params: 61\n",
      "Trainable params: 61\n",
      "Non-trainable params: 0\n",
      "_________________________________________________________________\n"
     ]
    }
   ],
   "source": [
    "model = tf.keras.Sequential([\n",
    "    tf.keras.layers.Dense(20, input_shape=[1], name = \"input_layer\"),\n",
    "    tf.keras.layers.Dense(1, name=\"output_layer\")\n",
    "], name = \"model1\")\n",
    "\n",
    "model.compile(loss = tf.keras.losses.mae,\n",
    "                optimizer = tf.keras.optimizers.SGD(),\n",
    "                metrics = [\"mae\"])\n",
    "\n",
    "model.summary()"
   ]
  },
  {
   "cell_type": "code",
   "execution_count": 108,
   "metadata": {},
   "outputs": [
    {
     "data": {
      "text/plain": [
       "<keras.callbacks.History at 0x117fa7f5f10>"
      ]
     },
     "execution_count": 108,
     "metadata": {},
     "output_type": "execute_result"
    }
   ],
   "source": [
    "# Let's fit our model to the training data\n",
    "model.fit(X_train, y_train, epochs=100, verbose = 0)"
   ]
  },
  {
   "cell_type": "code",
   "execution_count": 109,
   "metadata": {},
   "outputs": [
    {
     "name": "stdout",
     "output_type": "stream",
     "text": [
      "Model: \"model1\"\n",
      "_________________________________________________________________\n",
      " Layer (type)                Output Shape              Param #   \n",
      "=================================================================\n",
      " input_layer (Dense)         (None, 20)                40        \n",
      "                                                                 \n",
      " output_layer (Dense)        (None, 1)                 21        \n",
      "                                                                 \n",
      "=================================================================\n",
      "Total params: 61\n",
      "Trainable params: 61\n",
      "Non-trainable params: 0\n",
      "_________________________________________________________________\n"
     ]
    }
   ],
   "source": [
    "model.summary()"
   ]
  },
  {
   "cell_type": "code",
   "execution_count": 110,
   "metadata": {},
   "outputs": [
    {
     "data": {
      "image/png": "[encoded data removed]",
      "text/plain": [
       "<IPython.core.display.Image object>"
      ]
     },
     "execution_count": 110,
     "metadata": {},
     "output_type": "execute_result"
    }
   ],
   "source": [
    "plot_model(model=model, show_shapes = True)"
   ]
  },
  {
   "cell_type": "markdown",
   "metadata": {},
   "source": [
    "### Visualize our model's predictions\n",
    "\n",
    "To visualize predictions, it's a good idea to plot them against the ground truth labels.\n",
    "\n",
    "Often you'll see this in the form of `y_test` or `y_true` versus `y_pred` (ground truth versus your model's predictions)."
   ]
  },
  {
   "cell_type": "code",
   "execution_count": 111,
   "metadata": {},
   "outputs": [
    {
     "name": "stdout",
     "output_type": "stream",
     "text": [
      "1/1 [==============================] - 0s 125ms/step\n"
     ]
    },
    {
     "data": {
      "text/plain": [
       "array([[ 81.62675 ],\n",
       "       [ 86.953545],\n",
       "       [ 92.28036 ],\n",
       "       [ 97.60716 ],\n",
       "       [102.933975],\n",
       "       [108.26078 ],\n",
       "       [113.58759 ],\n",
       "       [118.914406],\n",
       "       [124.24121 ],\n",
       "       [129.56802 ]], dtype=float32)"
      ]
     },
     "execution_count": 111,
     "metadata": {},
     "output_type": "execute_result"
    }
   ],
   "source": [
    "# Make some predictions\n",
    "\n",
    "y_pred = model.predict(X_test)\n",
    "y_pred"
   ]
  },
  {
   "cell_type": "code",
   "execution_count": 112,
   "metadata": {},
   "outputs": [
    {
     "data": {
      "text/plain": [
       "<tf.Tensor: shape=(10,), dtype=int32, numpy=array([ 70,  74,  78,  82,  86,  90,  94,  98, 102, 106])>"
      ]
     },
     "execution_count": 112,
     "metadata": {},
     "output_type": "execute_result"
    }
   ],
   "source": [
    "y_test"
   ]
  },
  {
   "cell_type": "code",
   "execution_count": 113,
   "metadata": {},
   "outputs": [],
   "source": [
    "# Let's create a plotting function\n",
    "\n",
    "def plot_predictions(train_data = X_train, train_labels = y_train,\n",
    "                    test_data = X_test, test_labels = y_test,\n",
    "                    predictions = y_pred):\n",
    "    \"\"\"\n",
    "    Plots training datam test data and compares predictions to ground truth labels.\n",
    "    \"\"\"\n",
    "    \n",
    "    plt.figure(figsize = (10, 7))\n",
    "    \n",
    "    # Plot training data in blue\n",
    "    plt.scatter(train_data, train_labels, c = \"b\", label = \"Training data\")\n",
    "    \n",
    "    # Plot testing data in green\n",
    "    plt.scatter(test_data, test_labels, c = \"g\", label = \"Testing data\")\n",
    "    \n",
    "    # Plot model's predictions in red\n",
    "    plt.scatter(test_data, predictions, c = \"r\", label = \"Predictions\")\n",
    "    \n",
    "    #show the legend\n",
    "    plt.legend();"
   ]
  },
  {
   "cell_type": "code",
   "execution_count": 114,
   "metadata": {},
   "outputs": [
    {
     "data": {
      "image/png": "[encoded data removed]",
      "text/plain": [
       "<Figure size 1000x700 with 1 Axes>"
      ]
     },
     "metadata": {},
     "output_type": "display_data"
    }
   ],
   "source": [
    "plot_predictions(train_data = X_train, train_labels=y_train,\n",
    "                test_data = X_test, test_labels = y_test,\n",
    "                predictions = y_pred)"
   ]
  },
  {
   "cell_type": "markdown",
   "metadata": {},
   "source": [
    "### Evaluating our model's predictions with regression evaluation metrics\n",
    "\n",
    "Depending on the problem you're working on, there will be different evaluation metrics to evaluate model's performanse.\n",
    "\n",
    "Since we're working on a regression problem, two of the main metris:\n",
    "* MAE - mean absolute error (on average, how wrong is each of my model's predictions)\n",
    "* MSE - mean square error (square the average errors)"
   ]
  },
  {
   "cell_type": "code",
   "execution_count": 117,
   "metadata": {},
   "outputs": [
    {
     "name": "stdout",
     "output_type": "stream",
     "text": [
      "1/1 [==============================] - 0s 31ms/step - loss: 17.5974 - mae: 17.5974\n"
     ]
    },
    {
     "data": {
      "text/plain": [
       "[17.597381591796875, 17.597381591796875]"
      ]
     },
     "execution_count": 117,
     "metadata": {},
     "output_type": "execute_result"
    }
   ],
   "source": [
    "# Evaluate the model on the test set\n",
    "\n",
    "model.evaluate(X_test, y_test)"
   ]
  },
  {
   "cell_type": "code",
   "execution_count": 120,
   "metadata": {},
   "outputs": [
    {
     "data": {
      "text/plain": [
       "<tf.Tensor: shape=(10,), dtype=float32, numpy=\n",
       "array([10.949301, 10.      , 10.456072, 12.242865, 15.54718 , 20.26078 ,\n",
       "       25.587593, 30.914404, 36.24121 , 41.568024], dtype=float32)>"
      ]
     },
     "execution_count": 120,
     "metadata": {},
     "output_type": "execute_result"
    }
   ],
   "source": [
    "# Calculate the mean squared error\n",
    "\n",
    "mae = tf.metrics.mean_absolute_error(y_true = y_test, y_pred = y_pred)\n",
    "mae"
   ]
  },
  {
   "cell_type": "code",
   "execution_count": 121,
   "metadata": {},
   "outputs": [],
   "source": [
    "y_pred = tf.constant(y_pred)"
   ]
  },
  {
   "cell_type": "code",
   "execution_count": 122,
   "metadata": {},
   "outputs": [
    {
     "data": {
      "text/plain": [
       "<tf.Tensor: shape=(10, 1), dtype=float32, numpy=\n",
       "array([[ 81.62675 ],\n",
       "       [ 86.953545],\n",
       "       [ 92.28036 ],\n",
       "       [ 97.60716 ],\n",
       "       [102.933975],\n",
       "       [108.26078 ],\n",
       "       [113.58759 ],\n",
       "       [118.914406],\n",
       "       [124.24121 ],\n",
       "       [129.56802 ]], dtype=float32)>"
      ]
     },
     "execution_count": 122,
     "metadata": {},
     "output_type": "execute_result"
    }
   ],
   "source": [
    "y_pred"
   ]
  },
  {
   "cell_type": "code",
   "execution_count": 123,
   "metadata": {},
   "outputs": [
    {
     "data": {
      "text/plain": [
       "<tf.Tensor: shape=(10,), dtype=int32, numpy=array([ 70,  74,  78,  82,  86,  90,  94,  98, 102, 106])>"
      ]
     },
     "execution_count": 123,
     "metadata": {},
     "output_type": "execute_result"
    }
   ],
   "source": [
    "\n",
    "y_test"
   ]
  },
  {
   "cell_type": "code",
   "execution_count": 124,
   "metadata": {},
   "outputs": [
    {
     "data": {
      "text/plain": [
       "<tf.Tensor: shape=(10,), dtype=float32, numpy=\n",
       "array([10.949301, 10.      , 10.456072, 12.242865, 15.54718 , 20.26078 ,\n",
       "       25.587593, 30.914404, 36.24121 , 41.568024], dtype=float32)>"
      ]
     },
     "execution_count": 124,
     "metadata": {},
     "output_type": "execute_result"
    }
   ],
   "source": [
    "# Calculate the mean squared error\n",
    "\n",
    "mae = tf.metrics.mean_absolute_error(y_true = y_test, y_pred = y_pred)\n",
    "mae"
   ]
  },
  {
   "cell_type": "markdown",
   "metadata": {},
   "source": [
    "- y_pred and y_test are still not in the same shape"
   ]
  },
  {
   "cell_type": "code",
   "execution_count": 126,
   "metadata": {},
   "outputs": [],
   "source": [
    "y_pred = tf.squeeze(y_pred)"
   ]
  },
  {
   "cell_type": "code",
   "execution_count": 127,
   "metadata": {},
   "outputs": [
    {
     "data": {
      "text/plain": [
       "<tf.Tensor: shape=(), dtype=float32, numpy=17.59738>"
      ]
     },
     "execution_count": 127,
     "metadata": {},
     "output_type": "execute_result"
    }
   ],
   "source": [
    "mae = tf.metrics.mean_absolute_error(y_true = y_test, y_pred = y_pred)\n",
    "mae"
   ]
  },
  {
   "cell_type": "code",
   "execution_count": null,
   "metadata": {},
   "outputs": [],
   "source": []
  }
 ],
 "metadata": {
  "kernelspec": {
   "display_name": "Python 3 (ipykernel)",
   "language": "python",
   "name": "python3"
  },
  "language_info": {
   "codemirror_mode": {
    "name": "ipython",
    "version": 3
   },
   "file_extension": ".py",
   "mimetype": "text/x-python",
   "name": "python",
   "nbconvert_exporter": "python",
   "pygments_lexer": "ipython3",
   "version": "3.9.13"
  },
  "vscode": {
   "interpreter": {
    "hash": "2d436155cd8e9b45e10cf2c331e8b7d009ce9655ba26437721181731940346e6"
   }
  }
 },
 "nbformat": 4,
 "nbformat_minor": 2
}
